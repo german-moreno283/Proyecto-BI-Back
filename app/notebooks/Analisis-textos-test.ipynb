{
 "cells": [
  {
   "cell_type": "markdown",
   "id": "c561be22-73dc-41a2-aa24-8eba8cdf0e83",
   "metadata": {},
   "source": [
    "# Análisis de textos"
   ]
  },
  {
   "cell_type": "code",
   "execution_count": 8,
   "id": "ad2a53c9",
   "metadata": {
    "execution": {
     "iopub.execute_input": "2023-10-29T23:17:57.744257Z",
     "iopub.status.busy": "2023-10-29T23:17:57.743717Z",
     "iopub.status.idle": "2023-10-29T23:17:59.705194Z",
     "shell.execute_reply": "2023-10-29T23:17:59.704430Z"
    }
   },
   "outputs": [
    {
     "name": "stdout",
     "output_type": "stream",
     "text": [
      "Requirement already satisfied: num2words in /home/leo/miniforge3/lib/python3.10/site-packages (0.5.13)\n",
      "Requirement already satisfied: docopt>=0.6.2 in /home/leo/miniforge3/lib/python3.10/site-packages (from num2words) (0.6.2)\n",
      "Note: you may need to restart the kernel to use updated packages.\n"
     ]
    }
   ],
   "source": [
    "%pip install num2words"
   ]
  },
  {
   "cell_type": "code",
   "execution_count": 9,
   "id": "5630835a",
   "metadata": {
    "execution": {
     "iopub.execute_input": "2023-10-29T23:17:59.708283Z",
     "iopub.status.busy": "2023-10-29T23:17:59.708060Z",
     "iopub.status.idle": "2023-10-29T23:18:02.056138Z",
     "shell.execute_reply": "2023-10-29T23:18:02.055397Z"
    }
   },
   "outputs": [],
   "source": [
    "import numpy as np\n",
    "import pandas as pd\n",
    "\n",
    "from matplotlib import pyplot as plt\n",
    "import num2words\n",
    "import re, unicodedata, inflect\n",
    "import nltk\n",
    "from gensim.models import Word2Vec\n",
    "from nltk import word_tokenize, sent_tokenize\n",
    "from nltk.corpus import stopwords\n",
    "from nltk.tokenize import word_tokenize\n",
    "\n",
    "from sklearn.ensemble import RandomForestClassifier\n",
    "from sklearn.metrics import classification_report\n",
    "from sklearn.feature_extraction.text import CountVectorizer, TfidfVectorizer\n",
    "from sklearn.metrics import (\n",
    "    ConfusionMatrixDisplay, RocCurveDisplay,\n",
    "    roc_auc_score, precision_score, recall_score, f1_score\n",
    ")\n",
    "from sklearn.model_selection import train_test_split, RandomizedSearchCV\n",
    "from sklearn.pipeline import Pipeline\n",
    "from sklearn.model_selection import train_test_split\n",
    "from sklearn.model_selection import train_test_split\n",
    "from sklearn.svm import SVC\n",
    "from sklearn.metrics import classification_report\n",
    "from joblib import dump, load\n",
    "\n"
   ]
  },
  {
   "cell_type": "code",
   "execution_count": 10,
   "id": "31dd8bb4",
   "metadata": {
    "execution": {
     "iopub.execute_input": "2023-10-29T23:18:02.059157Z",
     "iopub.status.busy": "2023-10-29T23:18:02.058813Z",
     "iopub.status.idle": "2023-10-29T23:18:02.062222Z",
     "shell.execute_reply": "2023-10-29T23:18:02.061701Z"
    }
   },
   "outputs": [],
   "source": [
    "import warnings\n",
    "warnings.filterwarnings(\"ignore\")"
   ]
  },
  {
   "cell_type": "code",
   "execution_count": 11,
   "id": "8f934984",
   "metadata": {
    "execution": {
     "iopub.execute_input": "2023-10-29T23:18:02.064862Z",
     "iopub.status.busy": "2023-10-29T23:18:02.064645Z",
     "iopub.status.idle": "2023-10-29T23:18:02.072895Z",
     "shell.execute_reply": "2023-10-29T23:18:02.072353Z"
    }
   },
   "outputs": [],
   "source": [
    "RECALL = \"Recall:\"\n",
    "PRECISION = \"Precision:\"\n",
    "F1 = \"F1:\""
   ]
  },
  {
   "cell_type": "code",
   "execution_count": 12,
   "id": "d6ed92f2",
   "metadata": {
    "execution": {
     "iopub.execute_input": "2023-10-29T23:18:02.075641Z",
     "iopub.status.busy": "2023-10-29T23:18:02.075244Z",
     "iopub.status.idle": "2023-10-29T23:18:02.082861Z",
     "shell.execute_reply": "2023-10-29T23:18:02.082123Z"
    }
   },
   "outputs": [],
   "source": [
    "# Configuring pandas to show all cell content\n",
    "pd.set_option(\"display.max_colwidth\", None)"
   ]
  },
  {
   "cell_type": "code",
   "execution_count": 13,
   "id": "ce5d02a0",
   "metadata": {
    "execution": {
     "iopub.execute_input": "2023-10-29T23:18:02.085776Z",
     "iopub.status.busy": "2023-10-29T23:18:02.085327Z",
     "iopub.status.idle": "2023-10-29T23:18:02.326204Z",
     "shell.execute_reply": "2023-10-29T23:18:02.325549Z"
    }
   },
   "outputs": [
    {
     "name": "stderr",
     "output_type": "stream",
     "text": [
      "[nltk_data] Downloading package punkt to /home/leo/nltk_data...\n",
      "[nltk_data]   Package punkt is already up-to-date!\n",
      "[nltk_data] Downloading package stopwords to /home/leo/nltk_data...\n",
      "[nltk_data]   Package stopwords is already up-to-date!\n"
     ]
    }
   ],
   "source": [
    "# Downloading stopwords\n",
    "nltk.download(\"punkt\")\n",
    "nltk.download(\"stopwords\")\n",
    "stop_words = stopwords.words(\"spanish\")"
   ]
  },
  {
   "cell_type": "code",
   "execution_count": 14,
   "id": "67b6048a",
   "metadata": {
    "execution": {
     "iopub.execute_input": "2023-10-29T23:18:02.328855Z",
     "iopub.status.busy": "2023-10-29T23:18:02.328644Z",
     "iopub.status.idle": "2023-10-29T23:18:02.352408Z",
     "shell.execute_reply": "2023-10-29T23:18:02.351753Z"
    }
   },
   "outputs": [],
   "source": [
    "ods_df = pd.read_csv(\"../../data/cat_6716.csv\")"
   ]
  },
  {
   "cell_type": "code",
   "execution_count": 15,
   "id": "6ef070cb",
   "metadata": {
    "execution": {
     "iopub.execute_input": "2023-10-29T23:18:02.355302Z",
     "iopub.status.busy": "2023-10-29T23:18:02.355084Z",
     "iopub.status.idle": "2023-10-29T23:18:02.368268Z",
     "shell.execute_reply": "2023-10-29T23:18:02.367657Z"
    }
   },
   "outputs": [
    {
     "data": {
      "text/plain": [
       "6     0.542161\n",
       "16    0.263505\n",
       "7     0.194335\n",
       "Name: sdg, dtype: float64"
      ]
     },
     "execution_count": 15,
     "metadata": {},
     "output_type": "execute_result"
    }
   ],
   "source": [
    "ods_df[\"sdg\"].value_counts(dropna=False, normalize=True)"
   ]
  },
  {
   "cell_type": "code",
   "execution_count": 16,
   "id": "03dee57a",
   "metadata": {
    "execution": {
     "iopub.execute_input": "2023-10-29T23:18:02.370930Z",
     "iopub.status.busy": "2023-10-29T23:18:02.370723Z",
     "iopub.status.idle": "2023-10-29T23:18:02.377841Z",
     "shell.execute_reply": "2023-10-29T23:18:02.377211Z"
    }
   },
   "outputs": [],
   "source": [
    "ods_df[\"Textos_espanol\"] = ods_df[\"Textos_espanol\"].astype(str)"
   ]
  },
  {
   "cell_type": "markdown",
   "id": "4de32e53",
   "metadata": {},
   "source": [
    "## Preparación de datos"
   ]
  },
  {
   "cell_type": "markdown",
   "id": "5a5c2ddb",
   "metadata": {},
   "source": [
    "Para poder realizar el pre-procesamiento de los datos, es recomendable pasar por tres etapas:\n",
    "* Limpieza de los datos.\n",
    "* Tokenización.\n",
    "* Normalización.\n",
    "\n",
    "<span style=\"color:red\">!!! Antes de ver la solución, revisa alternativas para realizar las tres etapas previas.</span>\n",
    "\n",
    "Para mayor información, pueden consultar el [siguiente artículo](https://medium.com/datos-y-ciencia/preprocesamiento-de-datos-de-texto-un-tutorial-en-python-5db5620f1767\n",
    ")."
   ]
  },
  {
   "cell_type": "markdown",
   "id": "2124a94e",
   "metadata": {},
   "source": [
    "### Limpieza de los datos"
   ]
  },
  {
   "cell_type": "code",
   "execution_count": 17,
   "id": "86e28f7f",
   "metadata": {
    "execution": {
     "iopub.execute_input": "2023-10-29T23:18:02.380899Z",
     "iopub.status.busy": "2023-10-29T23:18:02.380693Z",
     "iopub.status.idle": "2023-10-29T23:18:02.388913Z",
     "shell.execute_reply": "2023-10-29T23:18:02.388295Z"
    }
   },
   "outputs": [],
   "source": [
    "def remove_non_ascii(words):\n",
    "    \"\"\"Remove non-ASCII characters from list of tokenized words\"\"\"\n",
    "    new_words = []\n",
    "    for word in words:\n",
    "        new_word = unicodedata.normalize('NFKD', word).encode('ascii', 'ignore').decode('utf-8', 'ignore')\n",
    "        new_words.append(new_word)\n",
    "    return new_words\n",
    "\n",
    "def to_lowercase(words):\n",
    "    \"\"\"Convert all characters to lowercase from list of tokenized words\"\"\"\n",
    "    return [word.lower() for word in words]\n",
    "\n",
    "def remove_punctuation(words):\n",
    "    \"\"\"Remove punctuation from list of tokenized words\"\"\"\n",
    "    new_words = []\n",
    "    for word in words:\n",
    "        new_word = re.sub(r'[^\\w\\s]', '', word)\n",
    "        if new_word != '':\n",
    "            new_words.append(new_word)\n",
    "    return new_words\n",
    "\n",
    "def replace_numbers(words):\n",
    "    \"\"\"Replace all interger occurrences in list of tokenized words with textual representation\"\"\"\n",
    "    new_words = []\n",
    "    for word in words:\n",
    "        if word.isdigit():\n",
    "            new_word = num2words.num2words(int(word), lang='es')\n",
    "            new_words.append(new_word)\n",
    "        else:\n",
    "            new_words.append(word)\n",
    "    return new_words\n",
    "def remove_stopwords(words):\n",
    "    \"\"\"Remove stop words from list of tokenized words\"\"\"\n",
    "    return [word for word in words if word not in stop_words]\n",
    "\n",
    "def preprocessing(words):\n",
    "    words = to_lowercase(words)\n",
    "    words = replace_numbers(words)\n",
    "    words = remove_punctuation(words)\n",
    "    words = remove_non_ascii(words)\n",
    "    words = remove_stopwords(words)\n",
    "    return words"
   ]
  },
  {
   "cell_type": "markdown",
   "id": "1fd89cc3",
   "metadata": {},
   "source": [
    "### Tokenización"
   ]
  },
  {
   "cell_type": "code",
   "execution_count": 18,
   "id": "ab74a2bf",
   "metadata": {
    "execution": {
     "iopub.execute_input": "2023-10-29T23:18:02.391538Z",
     "iopub.status.busy": "2023-10-29T23:18:02.391342Z",
     "iopub.status.idle": "2023-10-29T23:18:04.072185Z",
     "shell.execute_reply": "2023-10-29T23:18:04.071249Z"
    }
   },
   "outputs": [
    {
     "data": {
      "text/html": [
       "<div>\n",
       "<style scoped>\n",
       "    .dataframe tbody tr th:only-of-type {\n",
       "        vertical-align: middle;\n",
       "    }\n",
       "\n",
       "    .dataframe tbody tr th {\n",
       "        vertical-align: top;\n",
       "    }\n",
       "\n",
       "    .dataframe thead th {\n",
       "        text-align: right;\n",
       "    }\n",
       "</style>\n",
       "<table border=\"1\" class=\"dataframe\">\n",
       "  <thead>\n",
       "    <tr style=\"text-align: right;\">\n",
       "      <th></th>\n",
       "      <th>Textos_espanol</th>\n",
       "      <th>sdg</th>\n",
       "    </tr>\n",
       "  </thead>\n",
       "  <tbody>\n",
       "    <tr>\n",
       "      <th>458</th>\n",
       "      <td>pronostica disminucion escorrentia dos rios principales georgia iorigabirri alazaniganyh impacto potencial agricultura regadio suministro agua potable recarga agua subterranea tambien influenciada reduccion flujo agua superficial influencia reduccion escorrentia asi disminucion calidad aguas superficiales subterraneas cuenca kura evalua negativa parte occidental pais pronostica impacto reduccion recarga aguas subterraneas sera negativo</td>\n",
       "      <td>6</td>\n",
       "    </tr>\n",
       "    <tr>\n",
       "      <th>866</th>\n",
       "      <td>ello necesitan programas dirigidos modificar comportamiento especificaciones equipos herramientas pueden considerarse tarifas servicios interrumpibles tarifas tiempo uso educacia3n materia eficiencia energatica existe necesidad real educar poblacia3n papel individuo desarrollo sostenible energaas renovables eficiencia energatica</td>\n",
       "      <td>7</td>\n",
       "    </tr>\n",
       "    <tr>\n",
       "      <th>903</th>\n",
       "      <td>obstante debe reconocerse incluso aplazamiento plazos cronogramas lpt siguen siendo impresionantes incumplimiento meta dos mil ocho deberia haber sido sorpresa total politicas gemelas acceso universal costos altos tarifas bajas ingresos bajos concesionarios conducen situacion dificil incluso contabilizan subsidios reciben empresas servicios publicos zerriffi dos mil siete costos operacion administracion capital reposicion ser cubiertos proveedores servicios largo plazo22 predominio electrificacion red incluso puede esperar uso productivo pequeno futuro cercano causando problema comprometiendo aun mas equilibrio financiero empresas servicios publicos promover usos productivos electricidad aumentar ingresos empresas servicios publicos vital garantizar exito largo plazo instalaciones electrificacion vez lpt llegue fin zerriffi dos mil siete estudio ex post beneficios lpt encontro gracias programa condiciones vida hogares mejorado significativamente</td>\n",
       "      <td>7</td>\n",
       "    </tr>\n",
       "    <tr>\n",
       "      <th>311</th>\n",
       "      <td>estacion israeli investigacion oceanografica limnologica controla cantidad calidad agua largo costa mar mediterraneo autoridad parques naturaleza npa controla calidad agua rios nombre ministerio medio ambiente mekorot autoridades locales controlan calidad agua potable bajo supervision ministerio sanidad ministerio sanidad controla calidad efluentes uso sector agricola</td>\n",
       "      <td>6</td>\n",
       "    </tr>\n",
       "    <tr>\n",
       "      <th>94</th>\n",
       "      <td>ejemplo nivel subnacional controles inundaciones urbanas preservacion restauracion ecologica aguas urbanas menudo entran conflicto pasado enfasis exclusivo metodos estructurales control inundaciones condujo destruccion habitat asi deterioro calidad agua objetivos control inundaciones preservacion ecologica planificacion espacial convergen impacto areas politica puede minimizarse requiere compromiso largo plazo partes interesadas relevantes extiende mas alla cambios politicos calendarios electorales</td>\n",
       "      <td>6</td>\n",
       "    </tr>\n",
       "  </tbody>\n",
       "</table>\n",
       "</div>"
      ],
      "text/plain": [
       "                                                                                                                                                                                                                                                                                                                                                                                                                                                                                                                                                                                                                                                                                                                                                                                                                                                                                                                                                                                      Textos_espanol  \\\n",
       "458                                                                                                                                                                                                                                                                                                                                                                                                                                                                                                                                          pronostica disminucion escorrentia dos rios principales georgia iorigabirri alazaniganyh impacto potencial agricultura regadio suministro agua potable recarga agua subterranea tambien influenciada reduccion flujo agua superficial influencia reduccion escorrentia asi disminucion calidad aguas superficiales subterraneas cuenca kura evalua negativa parte occidental pais pronostica impacto reduccion recarga aguas subterraneas sera negativo   \n",
       "866                                                                                                                                                                                                                                                                                                                                                                                                                                                                                                                                                                                                                                                       ello necesitan programas dirigidos modificar comportamiento especificaciones equipos herramientas pueden considerarse tarifas servicios interrumpibles tarifas tiempo uso educacia3n materia eficiencia energatica existe necesidad real educar poblacia3n papel individuo desarrollo sostenible energaas renovables eficiencia energatica   \n",
       "903  obstante debe reconocerse incluso aplazamiento plazos cronogramas lpt siguen siendo impresionantes incumplimiento meta dos mil ocho deberia haber sido sorpresa total politicas gemelas acceso universal costos altos tarifas bajas ingresos bajos concesionarios conducen situacion dificil incluso contabilizan subsidios reciben empresas servicios publicos zerriffi dos mil siete costos operacion administracion capital reposicion ser cubiertos proveedores servicios largo plazo22 predominio electrificacion red incluso puede esperar uso productivo pequeno futuro cercano causando problema comprometiendo aun mas equilibrio financiero empresas servicios publicos promover usos productivos electricidad aumentar ingresos empresas servicios publicos vital garantizar exito largo plazo instalaciones electrificacion vez lpt llegue fin zerriffi dos mil siete estudio ex post beneficios lpt encontro gracias programa condiciones vida hogares mejorado significativamente   \n",
       "311                                                                                                                                                                                                                                                                                                                                                                                                                                                                                                                                                                                                               estacion israeli investigacion oceanografica limnologica controla cantidad calidad agua largo costa mar mediterraneo autoridad parques naturaleza npa controla calidad agua rios nombre ministerio medio ambiente mekorot autoridades locales controlan calidad agua potable bajo supervision ministerio sanidad ministerio sanidad controla calidad efluentes uso sector agricola   \n",
       "94                                                                                                                                                                                                                                                                                                                                                                                                                                                                           ejemplo nivel subnacional controles inundaciones urbanas preservacion restauracion ecologica aguas urbanas menudo entran conflicto pasado enfasis exclusivo metodos estructurales control inundaciones condujo destruccion habitat asi deterioro calidad agua objetivos control inundaciones preservacion ecologica planificacion espacial convergen impacto areas politica puede minimizarse requiere compromiso largo plazo partes interesadas relevantes extiende mas alla cambios politicos calendarios electorales   \n",
       "\n",
       "     sdg  \n",
       "458    6  \n",
       "866    7  \n",
       "903    7  \n",
       "311    6  \n",
       "94     6  "
      ]
     },
     "execution_count": 18,
     "metadata": {},
     "output_type": "execute_result"
    }
   ],
   "source": [
    "ods_df[\"Textos_espanol\"] = ods_df[\"Textos_espanol\"].apply(word_tokenize).apply(preprocessing).apply(\" \".join)\n",
    "ods_df.sample(5)"
   ]
  },
  {
   "cell_type": "markdown",
   "id": "6a0ed664",
   "metadata": {},
   "source": [
    "### Normalización"
   ]
  },
  {
   "cell_type": "markdown",
   "id": "03da2af6",
   "metadata": {},
   "source": [
    "# Entrenamiento"
   ]
  },
  {
   "cell_type": "code",
   "execution_count": 19,
   "id": "1e4f9e7d",
   "metadata": {
    "execution": {
     "iopub.execute_input": "2023-10-29T23:18:04.076663Z",
     "iopub.status.busy": "2023-10-29T23:18:04.075894Z",
     "iopub.status.idle": "2023-10-29T23:18:04.086704Z",
     "shell.execute_reply": "2023-10-29T23:18:04.085963Z"
    }
   },
   "outputs": [],
   "source": [
    "# The param 'stratify' is useful to guarantee label proportions on train and test sets\n",
    "X_train, X_test, y_train, y_test = train_test_split(ods_df[[\"Textos_espanol\"]], ods_df[\"sdg\"], test_size=0.3, stratify=ods_df[\"sdg\"], random_state=1)"
   ]
  },
  {
   "cell_type": "code",
   "execution_count": 20,
   "id": "effd5193",
   "metadata": {
    "execution": {
     "iopub.execute_input": "2023-10-29T23:18:04.090251Z",
     "iopub.status.busy": "2023-10-29T23:18:04.089861Z",
     "iopub.status.idle": "2023-10-29T23:18:04.095302Z",
     "shell.execute_reply": "2023-10-29T23:18:04.094593Z"
    }
   },
   "outputs": [],
   "source": [
    "X_train_tokens = [nltk.word_tokenize(text) for text in X_train]\n",
    "X_test_tokens = [nltk.word_tokenize(text) for text in X_test]"
   ]
  },
  {
   "cell_type": "code",
   "execution_count": 21,
   "id": "f3a3c135",
   "metadata": {
    "execution": {
     "iopub.execute_input": "2023-10-29T23:18:04.099340Z",
     "iopub.status.busy": "2023-10-29T23:18:04.098333Z",
     "iopub.status.idle": "2023-10-29T23:18:04.108786Z",
     "shell.execute_reply": "2023-10-29T23:18:04.108243Z"
    }
   },
   "outputs": [
    {
     "data": {
      "text/plain": [
       "6     0.542373\n",
       "16    0.263653\n",
       "7     0.193974\n",
       "Name: sdg, dtype: float64"
      ]
     },
     "execution_count": 21,
     "metadata": {},
     "output_type": "execute_result"
    }
   ],
   "source": [
    "pd.Series(y_train).value_counts(normalize=True)"
   ]
  },
  {
   "cell_type": "code",
   "execution_count": 22,
   "id": "dd0507ed",
   "metadata": {
    "execution": {
     "iopub.execute_input": "2023-10-29T23:18:04.112261Z",
     "iopub.status.busy": "2023-10-29T23:18:04.111943Z",
     "iopub.status.idle": "2023-10-29T23:18:04.121815Z",
     "shell.execute_reply": "2023-10-29T23:18:04.120805Z"
    }
   },
   "outputs": [
    {
     "data": {
      "text/plain": [
       "6     0.541667\n",
       "16    0.263158\n",
       "7     0.195175\n",
       "Name: sdg, dtype: float64"
      ]
     },
     "execution_count": 22,
     "metadata": {},
     "output_type": "execute_result"
    }
   ],
   "source": [
    "pd.Series(y_test).value_counts(normalize=True)"
   ]
  },
  {
   "cell_type": "markdown",
   "id": "015f133b",
   "metadata": {},
   "source": [
    "## Text vectorization"
   ]
  },
  {
   "cell_type": "code",
   "execution_count": 23,
   "id": "bbb551a6",
   "metadata": {
    "execution": {
     "iopub.execute_input": "2023-10-29T23:18:04.125651Z",
     "iopub.status.busy": "2023-10-29T23:18:04.125022Z",
     "iopub.status.idle": "2023-10-29T23:18:04.132676Z",
     "shell.execute_reply": "2023-10-29T23:18:04.131648Z"
    }
   },
   "outputs": [],
   "source": [
    "bow = CountVectorizer(tokenizer=word_tokenize, stop_words=stop_words, lowercase=True)"
   ]
  },
  {
   "cell_type": "code",
   "execution_count": 24,
   "id": "35f17c5d",
   "metadata": {
    "execution": {
     "iopub.execute_input": "2023-10-29T23:18:04.136766Z",
     "iopub.status.busy": "2023-10-29T23:18:04.136284Z",
     "iopub.status.idle": "2023-10-29T23:18:04.636114Z",
     "shell.execute_reply": "2023-10-29T23:18:04.635326Z"
    }
   },
   "outputs": [],
   "source": [
    "X_bow = bow.fit_transform(X_train[\"Textos_espanol\"])"
   ]
  },
  {
   "cell_type": "code",
   "execution_count": 25,
   "id": "03839a3e",
   "metadata": {
    "execution": {
     "iopub.execute_input": "2023-10-29T23:18:04.639878Z",
     "iopub.status.busy": "2023-10-29T23:18:04.639436Z",
     "iopub.status.idle": "2023-10-29T23:18:04.643420Z",
     "shell.execute_reply": "2023-10-29T23:18:04.642709Z"
    }
   },
   "outputs": [],
   "source": [
    "tfidf = TfidfVectorizer(tokenizer=word_tokenize, stop_words=stop_words, lowercase=True)"
   ]
  },
  {
   "cell_type": "code",
   "execution_count": 26,
   "id": "0c44fee1",
   "metadata": {
    "execution": {
     "iopub.execute_input": "2023-10-29T23:18:04.646696Z",
     "iopub.status.busy": "2023-10-29T23:18:04.646424Z",
     "iopub.status.idle": "2023-10-29T23:18:05.117769Z",
     "shell.execute_reply": "2023-10-29T23:18:05.117006Z"
    }
   },
   "outputs": [],
   "source": [
    "X_tfidf = tfidf.fit_transform(X_train[\"Textos_espanol\"])"
   ]
  },
  {
   "cell_type": "markdown",
   "id": "0f45d192",
   "metadata": {},
   "source": [
    "## Training a model with BoW"
   ]
  },
  {
   "cell_type": "code",
   "execution_count": 27,
   "id": "0dc6201b",
   "metadata": {
    "execution": {
     "iopub.execute_input": "2023-10-29T23:18:05.122070Z",
     "iopub.status.busy": "2023-10-29T23:18:05.121675Z",
     "iopub.status.idle": "2023-10-29T23:18:05.125379Z",
     "shell.execute_reply": "2023-10-29T23:18:05.124482Z"
    }
   },
   "outputs": [],
   "source": [
    "bow_model = RandomForestClassifier(random_state=2)"
   ]
  },
  {
   "cell_type": "code",
   "execution_count": 28,
   "id": "472d2551",
   "metadata": {
    "execution": {
     "iopub.execute_input": "2023-10-29T23:18:05.129942Z",
     "iopub.status.busy": "2023-10-29T23:18:05.129232Z",
     "iopub.status.idle": "2023-10-29T23:18:06.082928Z",
     "shell.execute_reply": "2023-10-29T23:18:06.082280Z"
    }
   },
   "outputs": [
    {
     "data": {
      "text/html": [
       "<style>#sk-container-id-1 {color: black;}#sk-container-id-1 pre{padding: 0;}#sk-container-id-1 div.sk-toggleable {background-color: white;}#sk-container-id-1 label.sk-toggleable__label {cursor: pointer;display: block;width: 100%;margin-bottom: 0;padding: 0.3em;box-sizing: border-box;text-align: center;}#sk-container-id-1 label.sk-toggleable__label-arrow:before {content: \"▸\";float: left;margin-right: 0.25em;color: #696969;}#sk-container-id-1 label.sk-toggleable__label-arrow:hover:before {color: black;}#sk-container-id-1 div.sk-estimator:hover label.sk-toggleable__label-arrow:before {color: black;}#sk-container-id-1 div.sk-toggleable__content {max-height: 0;max-width: 0;overflow: hidden;text-align: left;background-color: #f0f8ff;}#sk-container-id-1 div.sk-toggleable__content pre {margin: 0.2em;color: black;border-radius: 0.25em;background-color: #f0f8ff;}#sk-container-id-1 input.sk-toggleable__control:checked~div.sk-toggleable__content {max-height: 200px;max-width: 100%;overflow: auto;}#sk-container-id-1 input.sk-toggleable__control:checked~label.sk-toggleable__label-arrow:before {content: \"▾\";}#sk-container-id-1 div.sk-estimator input.sk-toggleable__control:checked~label.sk-toggleable__label {background-color: #d4ebff;}#sk-container-id-1 div.sk-label input.sk-toggleable__control:checked~label.sk-toggleable__label {background-color: #d4ebff;}#sk-container-id-1 input.sk-hidden--visually {border: 0;clip: rect(1px 1px 1px 1px);clip: rect(1px, 1px, 1px, 1px);height: 1px;margin: -1px;overflow: hidden;padding: 0;position: absolute;width: 1px;}#sk-container-id-1 div.sk-estimator {font-family: monospace;background-color: #f0f8ff;border: 1px dotted black;border-radius: 0.25em;box-sizing: border-box;margin-bottom: 0.5em;}#sk-container-id-1 div.sk-estimator:hover {background-color: #d4ebff;}#sk-container-id-1 div.sk-parallel-item::after {content: \"\";width: 100%;border-bottom: 1px solid gray;flex-grow: 1;}#sk-container-id-1 div.sk-label:hover label.sk-toggleable__label {background-color: #d4ebff;}#sk-container-id-1 div.sk-serial::before {content: \"\";position: absolute;border-left: 1px solid gray;box-sizing: border-box;top: 0;bottom: 0;left: 50%;z-index: 0;}#sk-container-id-1 div.sk-serial {display: flex;flex-direction: column;align-items: center;background-color: white;padding-right: 0.2em;padding-left: 0.2em;position: relative;}#sk-container-id-1 div.sk-item {position: relative;z-index: 1;}#sk-container-id-1 div.sk-parallel {display: flex;align-items: stretch;justify-content: center;background-color: white;position: relative;}#sk-container-id-1 div.sk-item::before, #sk-container-id-1 div.sk-parallel-item::before {content: \"\";position: absolute;border-left: 1px solid gray;box-sizing: border-box;top: 0;bottom: 0;left: 50%;z-index: -1;}#sk-container-id-1 div.sk-parallel-item {display: flex;flex-direction: column;z-index: 1;position: relative;background-color: white;}#sk-container-id-1 div.sk-parallel-item:first-child::after {align-self: flex-end;width: 50%;}#sk-container-id-1 div.sk-parallel-item:last-child::after {align-self: flex-start;width: 50%;}#sk-container-id-1 div.sk-parallel-item:only-child::after {width: 0;}#sk-container-id-1 div.sk-dashed-wrapped {border: 1px dashed gray;margin: 0 0.4em 0.5em 0.4em;box-sizing: border-box;padding-bottom: 0.4em;background-color: white;}#sk-container-id-1 div.sk-label label {font-family: monospace;font-weight: bold;display: inline-block;line-height: 1.2em;}#sk-container-id-1 div.sk-label-container {text-align: center;}#sk-container-id-1 div.sk-container {/* jupyter's `normalize.less` sets `[hidden] { display: none; }` but bootstrap.min.css set `[hidden] { display: none !important; }` so we also need the `!important` here to be able to override the default hidden behavior on the sphinx rendered scikit-learn.org. See: https://github.com/scikit-learn/scikit-learn/issues/21755 */display: inline-block !important;position: relative;}#sk-container-id-1 div.sk-text-repr-fallback {display: none;}</style><div id=\"sk-container-id-1\" class=\"sk-top-container\"><div class=\"sk-text-repr-fallback\"><pre>RandomForestClassifier(random_state=2)</pre><b>In a Jupyter environment, please rerun this cell to show the HTML representation or trust the notebook. <br />On GitHub, the HTML representation is unable to render, please try loading this page with nbviewer.org.</b></div><div class=\"sk-container\" hidden><div class=\"sk-item\"><div class=\"sk-estimator sk-toggleable\"><input class=\"sk-toggleable__control sk-hidden--visually\" id=\"sk-estimator-id-1\" type=\"checkbox\" checked><label for=\"sk-estimator-id-1\" class=\"sk-toggleable__label sk-toggleable__label-arrow\">RandomForestClassifier</label><div class=\"sk-toggleable__content\"><pre>RandomForestClassifier(random_state=2)</pre></div></div></div></div></div>"
      ],
      "text/plain": [
       "RandomForestClassifier(random_state=2)"
      ]
     },
     "execution_count": 28,
     "metadata": {},
     "output_type": "execute_result"
    }
   ],
   "source": [
    "bow_model.fit(X_bow, y_train)"
   ]
  },
  {
   "cell_type": "code",
   "execution_count": 29,
   "id": "8bd311e6",
   "metadata": {
    "execution": {
     "iopub.execute_input": "2023-10-29T23:18:06.085765Z",
     "iopub.status.busy": "2023-10-29T23:18:06.085510Z",
     "iopub.status.idle": "2023-10-29T23:18:06.450882Z",
     "shell.execute_reply": "2023-10-29T23:18:06.450356Z"
    }
   },
   "outputs": [
    {
     "data": {
      "text/plain": [
       "<AxesSubplot: >"
      ]
     },
     "execution_count": 29,
     "metadata": {},
     "output_type": "execute_result"
    },
    {
     "data": {
      "image/png": "[encoded data removed]",
      "text/plain": [
       "<Figure size 1500x1000 with 1 Axes>"
      ]
     },
     "metadata": {},
     "output_type": "display_data"
    }
   ],
   "source": [
    "# Feature importance in tree models is an indicator on how relevant is a feature for taking the decision by the model\n",
    "pd.Series(bow_model.feature_importances_, index=bow.vocabulary_).sort_values().tail(20).plot.barh(figsize=(15, 10))"
   ]
  },
  {
   "cell_type": "code",
   "execution_count": 30,
   "id": "99fafaac",
   "metadata": {
    "execution": {
     "iopub.execute_input": "2023-10-29T23:18:06.453553Z",
     "iopub.status.busy": "2023-10-29T23:18:06.453349Z",
     "iopub.status.idle": "2023-10-29T23:18:06.457753Z",
     "shell.execute_reply": "2023-10-29T23:18:06.457215Z"
    }
   },
   "outputs": [
    {
     "name": "stdout",
     "output_type": "stream",
     "text": [
      "Number of trees: 100\n",
      "Trees depth (mean): 72.35\n"
     ]
    }
   ],
   "source": [
    "bow_estimators = bow_model.estimators_\n",
    "print(\"Number of trees:\", len(bow_estimators))\n",
    "print(\"Trees depth (mean):\", np.mean([tree.get_depth() for tree in bow_estimators]))"
   ]
  },
  {
   "cell_type": "code",
   "execution_count": 31,
   "id": "cd1eb30e",
   "metadata": {
    "execution": {
     "iopub.execute_input": "2023-10-29T23:18:06.460273Z",
     "iopub.status.busy": "2023-10-29T23:18:06.460067Z",
     "iopub.status.idle": "2023-10-29T23:18:06.690852Z",
     "shell.execute_reply": "2023-10-29T23:18:06.690186Z"
    }
   },
   "outputs": [],
   "source": [
    "y_train_bow_predict = bow_model.predict(X_bow)\n",
    "y_test_bow_predict = bow_model.predict(bow.transform(X_test[\"Textos_espanol\"]))"
   ]
  },
  {
   "cell_type": "code",
   "execution_count": 32,
   "id": "b1fefa43",
   "metadata": {
    "execution": {
     "iopub.execute_input": "2023-10-29T23:18:06.693742Z",
     "iopub.status.busy": "2023-10-29T23:18:06.693529Z",
     "iopub.status.idle": "2023-10-29T23:18:06.891110Z",
     "shell.execute_reply": "2023-10-29T23:18:06.890434Z"
    }
   },
   "outputs": [
    {
     "data": {
      "text/plain": [
       "<sklearn.metrics._plot.confusion_matrix.ConfusionMatrixDisplay at 0x7fbd90f9b1c0>"
      ]
     },
     "execution_count": 32,
     "metadata": {},
     "output_type": "execute_result"
    },
    {
     "data": {
      "image/png": "[encoded data removed]",
      "text/plain": [
       "<Figure size 640x480 with 2 Axes>"
      ]
     },
     "metadata": {},
     "output_type": "display_data"
    }
   ],
   "source": [
    "ConfusionMatrixDisplay.from_predictions(y_train, y_train_bow_predict)"
   ]
  },
  {
   "cell_type": "code",
   "execution_count": 33,
   "id": "e689ecaa",
   "metadata": {
    "execution": {
     "iopub.execute_input": "2023-10-29T23:18:06.893746Z",
     "iopub.status.busy": "2023-10-29T23:18:06.893547Z",
     "iopub.status.idle": "2023-10-29T23:18:07.089871Z",
     "shell.execute_reply": "2023-10-29T23:18:07.089168Z"
    }
   },
   "outputs": [
    {
     "data": {
      "text/plain": [
       "<sklearn.metrics._plot.confusion_matrix.ConfusionMatrixDisplay at 0x7fbdcd4c4640>"
      ]
     },
     "execution_count": 33,
     "metadata": {},
     "output_type": "execute_result"
    },
    {
     "data": {
      "image/png": "[encoded data removed]",
      "text/plain": [
       "<Figure size 640x480 with 2 Axes>"
      ]
     },
     "metadata": {},
     "output_type": "display_data"
    }
   ],
   "source": [
    "ConfusionMatrixDisplay.from_predictions(y_test, y_test_bow_predict)"
   ]
  },
  {
   "cell_type": "code",
   "execution_count": 34,
   "id": "12fd7daa",
   "metadata": {
    "execution": {
     "iopub.execute_input": "2023-10-29T23:18:07.092656Z",
     "iopub.status.busy": "2023-10-29T23:18:07.092441Z",
     "iopub.status.idle": "2023-10-29T23:18:07.104050Z",
     "shell.execute_reply": "2023-10-29T23:18:07.103427Z"
    }
   },
   "outputs": [
    {
     "name": "stdout",
     "output_type": "stream",
     "text": [
      "Precision: 1.0\n",
      "Recall: 1.0\n",
      "F1: 1.0\n"
     ]
    }
   ],
   "source": [
    "print(PRECISION, precision_score(y_train, y_train_bow_predict, average=\"weighted\"))\n",
    "print(RECALL, recall_score(y_train, y_train_bow_predict, average=\"weighted\"))\n",
    "print(F1, f1_score(y_train, y_train_bow_predict, average=\"weighted\"))"
   ]
  },
  {
   "cell_type": "code",
   "execution_count": 35,
   "id": "30ec324e",
   "metadata": {
    "execution": {
     "iopub.execute_input": "2023-10-29T23:18:07.106714Z",
     "iopub.status.busy": "2023-10-29T23:18:07.106509Z",
     "iopub.status.idle": "2023-10-29T23:18:07.119303Z",
     "shell.execute_reply": "2023-10-29T23:18:07.118741Z"
    }
   },
   "outputs": [
    {
     "name": "stdout",
     "output_type": "stream",
     "text": [
      "Precision: 0.9652545897292087\n",
      "Recall: 0.9649122807017544\n",
      "F1: 0.9642962452543506\n"
     ]
    }
   ],
   "source": [
    "print(PRECISION, precision_score(y_test, y_test_bow_predict, average=\"weighted\"))\n",
    "print(RECALL, recall_score(y_test, y_test_bow_predict, average=\"weighted\"))\n",
    "print(F1, f1_score(y_test, y_test_bow_predict, average=\"weighted\"))"
   ]
  },
  {
   "cell_type": "markdown",
   "id": "e3415006",
   "metadata": {},
   "source": [
    "### Model selection"
   ]
  },
  {
   "cell_type": "code",
   "execution_count": 36,
   "id": "c119467d",
   "metadata": {
    "execution": {
     "iopub.execute_input": "2023-10-29T23:18:07.122218Z",
     "iopub.status.busy": "2023-10-29T23:18:07.121775Z",
     "iopub.status.idle": "2023-10-29T23:18:07.125586Z",
     "shell.execute_reply": "2023-10-29T23:18:07.125044Z"
    }
   },
   "outputs": [
    {
     "data": {
      "text/plain": [
       "['pipeline.joblib']"
      ]
     },
     "execution_count": 36,
     "metadata": {},
     "output_type": "execute_result"
    }
   ],
   "source": [
    "pipeline = Pipeline(steps = [\n",
    "    (\"vectorizer\", CountVectorizer(tokenizer=word_tokenize, stop_words=stop_words, lowercase=True)),\n",
    "    (\"classifier\", RandomForestClassifier(random_state=4)),\n",
    "])\n",
    "dump(pipeline, 'pipeline.joblib')"
   ]
  },
  {
   "cell_type": "code",
   "execution_count": 37,
   "id": "f3eabc89",
   "metadata": {
    "execution": {
     "iopub.execute_input": "2023-10-29T23:18:07.128165Z",
     "iopub.status.busy": "2023-10-29T23:18:07.127966Z",
     "iopub.status.idle": "2023-10-29T23:18:07.136046Z",
     "shell.execute_reply": "2023-10-29T23:18:07.135524Z"
    }
   },
   "outputs": [],
   "source": [
    "param_grid = {\n",
    "    \"vectorizer\": [CountVectorizer(tokenizer=word_tokenize, stop_words=stop_words), TfidfVectorizer(tokenizer=word_tokenize, stop_words=stop_words)],\n",
    "    \"vectorizer__lowercase\": [True, False],\n",
    "    \"classifier__n_estimators\": [50, 100],\n",
    "    \"classifier__criterion\": ['gini', 'entropy'],\n",
    "    \"classifier__max_depth\": [25, 50, 75, 100], \n",
    "}\n"
   ]
  },
  {
   "cell_type": "code",
   "execution_count": 38,
   "id": "97a09206",
   "metadata": {
    "execution": {
     "iopub.execute_input": "2023-10-29T23:18:07.138613Z",
     "iopub.status.busy": "2023-10-29T23:18:07.138409Z",
     "iopub.status.idle": "2023-10-29T23:18:07.149231Z",
     "shell.execute_reply": "2023-10-29T23:18:07.148551Z"
    }
   },
   "outputs": [],
   "source": [
    "search = RandomizedSearchCV(pipeline, param_grid, n_iter=10, scoring=[\"precision\", \"recall\", \"f1\"], refit=\"f1\", cv=7, return_train_score=True, verbose=1, random_state=5)\n"
   ]
  },
  {
   "cell_type": "code",
   "execution_count": 46,
   "id": "f1cd4c95",
   "metadata": {
    "execution": {
     "iopub.execute_input": "2023-10-29T23:18:07.151990Z",
     "iopub.status.busy": "2023-10-29T23:18:07.151615Z",
     "iopub.status.idle": "2023-10-29T23:19:48.039027Z",
     "shell.execute_reply": "2023-10-29T23:19:48.038311Z"
    }
   },
   "outputs": [
    {
     "name": "stdout",
     "output_type": "stream",
     "text": [
      "Fitting 7 folds for each of 10 candidates, totalling 70 fits\n"
     ]
    },
    {
     "data": {
      "text/plain": [
       "['fitted_pipeline.joblib']"
      ]
     },
     "execution_count": 46,
     "metadata": {},
     "output_type": "execute_result"
    }
   ],
   "source": [
    "search.fit(X_train[\"Textos_espanol\"], y_train)\n",
    "dump(search, \"fitted_pipeline.joblib\")"
   ]
  },
  {
   "cell_type": "code",
   "execution_count": 40,
   "id": "c506c079",
   "metadata": {
    "execution": {
     "iopub.execute_input": "2023-10-29T23:19:48.041924Z",
     "iopub.status.busy": "2023-10-29T23:19:48.041587Z",
     "iopub.status.idle": "2023-10-29T23:19:48.046872Z",
     "shell.execute_reply": "2023-10-29T23:19:48.046311Z"
    }
   },
   "outputs": [
    {
     "data": {
      "text/plain": [
       "{'vectorizer__lowercase': False,\n",
       " 'vectorizer': CountVectorizer(stop_words=['de', 'la', 'que', 'el', 'en', 'y', 'a', 'los',\n",
       "                             'del', 'se', 'las', 'por', 'un', 'para', 'con',\n",
       "                             'no', 'una', 'su', 'al', 'lo', 'como', 'más',\n",
       "                             'pero', 'sus', 'le', 'ya', 'o', 'este', 'sí',\n",
       "                             'porque', ...],\n",
       "                 tokenizer=<function word_tokenize at 0x7fbd93c6e950>),\n",
       " 'classifier__n_estimators': 100,\n",
       " 'classifier__max_depth': 100,\n",
       " 'classifier__criterion': 'gini'}"
      ]
     },
     "execution_count": 40,
     "metadata": {},
     "output_type": "execute_result"
    }
   ],
   "source": [
    "search.best_params_"
   ]
  },
  {
   "cell_type": "code",
   "execution_count": 41,
   "id": "4d086352",
   "metadata": {
    "execution": {
     "iopub.execute_input": "2023-10-29T23:19:48.049567Z",
     "iopub.status.busy": "2023-10-29T23:19:48.049240Z",
     "iopub.status.idle": "2023-10-29T23:19:48.069307Z",
     "shell.execute_reply": "2023-10-29T23:19:48.068722Z"
    }
   },
   "outputs": [
    {
     "data": {
      "text/plain": [
       "nan"
      ]
     },
     "execution_count": 41,
     "metadata": {},
     "output_type": "execute_result"
    }
   ],
   "source": [
    "search.best_score_"
   ]
  },
  {
   "cell_type": "code",
   "execution_count": 42,
   "id": "11ac2809",
   "metadata": {
    "execution": {
     "iopub.execute_input": "2023-10-29T23:19:48.071988Z",
     "iopub.status.busy": "2023-10-29T23:19:48.071780Z",
     "iopub.status.idle": "2023-10-29T23:19:48.724267Z",
     "shell.execute_reply": "2023-10-29T23:19:48.723496Z"
    }
   },
   "outputs": [],
   "source": [
    "y_train_search_predict = search.best_estimator_.predict(X_train[\"Textos_espanol\"])\n",
    "y_test_search_predict = search.best_estimator_.predict(X_test[\"Textos_espanol\"])\n"
   ]
  },
  {
   "cell_type": "code",
   "execution_count": 43,
   "id": "231fd7b6",
   "metadata": {
    "execution": {
     "iopub.execute_input": "2023-10-29T23:19:48.727229Z",
     "iopub.status.busy": "2023-10-29T23:19:48.726952Z",
     "iopub.status.idle": "2023-10-29T23:19:48.740569Z",
     "shell.execute_reply": "2023-10-29T23:19:48.739835Z"
    }
   },
   "outputs": [
    {
     "name": "stdout",
     "output_type": "stream",
     "text": [
      "Precision: 1.0\n",
      "Recall: 1.0\n",
      "F1: 1.0\n"
     ]
    }
   ],
   "source": [
    "print(PRECISION, precision_score(y_train, y_train_search_predict, average=\"weighted\"))\n",
    "print(RECALL, recall_score(y_train, y_train_search_predict, average=\"weighted\"))\n",
    "print(F1, f1_score(y_train, y_train_search_predict, average=\"weighted\"))"
   ]
  },
  {
   "cell_type": "code",
   "execution_count": 44,
   "id": "0c76675c",
   "metadata": {
    "execution": {
     "iopub.execute_input": "2023-10-29T23:19:48.745123Z",
     "iopub.status.busy": "2023-10-29T23:19:48.744798Z",
     "iopub.status.idle": "2023-10-29T23:19:48.757958Z",
     "shell.execute_reply": "2023-10-29T23:19:48.756771Z"
    }
   },
   "outputs": [
    {
     "name": "stdout",
     "output_type": "stream",
     "text": [
      "Precision: 0.9632026219707408\n",
      "Recall: 0.9627192982456141\n",
      "F1: 0.9621527299887555\n"
     ]
    }
   ],
   "source": [
    "print(PRECISION, precision_score(y_test, y_test_search_predict, average=\"weighted\"))\n",
    "print(RECALL, recall_score(y_test, y_test_search_predict, average=\"weighted\"))\n",
    "print(F1, f1_score(y_test, y_test_search_predict, average=\"weighted\"))"
   ]
  },
  {
   "cell_type": "markdown",
   "id": "46bd93bf",
   "metadata": {},
   "source": [
    "# Predicción y guardado de data"
   ]
  },
  {
   "cell_type": "code",
   "execution_count": 47,
   "id": "1bbfd899",
   "metadata": {
    "execution": {
     "iopub.execute_input": "2023-10-29T23:19:48.761890Z",
     "iopub.status.busy": "2023-10-29T23:19:48.761601Z",
     "iopub.status.idle": "2023-10-29T23:19:48.952812Z",
     "shell.execute_reply": "2023-10-29T23:19:48.952039Z"
    }
   },
   "outputs": [],
   "source": [
    "pipe_loaded = load(\"./fitted_pipeline.joblib\")\n",
    "ods_df_unlabeled = pd.read_csv(\"../../data/SinEtiquetatest_cat_6716.csv\")\n",
    "#Predict the labels of the unlabeled data\n",
    "y_unlabeled_predict = pipe_loaded.best_estimator_.predict(ods_df_unlabeled[\"Textos_espanol\"])\n",
    "#Add the predicted labels to the unlabeled data\n",
    "ods_df_unlabeled[\"sdg\"] = y_unlabeled_predict\n",
    "#Save the labeled data\n",
    "ods_df_unlabeled.to_csv(\"../../data/Predicted.csv\", index=False)\n"
   ]
  }
 ],
 "metadata": {
  "kernelspec": {
   "display_name": "Python 3 (ipykernel)",
   "language": "python",
   "name": "python3"
  },
  "language_info": {
   "codemirror_mode": {
    "name": "ipython",
    "version": 3
   },
   "file_extension": ".py",
   "mimetype": "text/x-python",
   "name": "python",
   "nbconvert_exporter": "python",
   "pygments_lexer": "ipython3",
   "version": "3.10.12"
  }
 },
 "nbformat": 4,
 "nbformat_minor": 5
}
