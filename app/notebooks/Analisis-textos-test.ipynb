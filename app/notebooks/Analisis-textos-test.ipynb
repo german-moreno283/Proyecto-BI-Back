{
 "cells": [
  {
   "cell_type": "markdown",
   "id": "c561be22-73dc-41a2-aa24-8eba8cdf0e83",
   "metadata": {},
   "source": [
    "# Análisis de textos"
   ]
  },
  {
   "cell_type": "code",
   "execution_count": 1,
   "id": "ad2a53c9",
   "metadata": {
    "execution": {
     "iopub.execute_input": "2023-10-29T22:20:11.698432Z",
     "iopub.status.busy": "2023-10-29T22:20:11.697898Z",
     "iopub.status.idle": "2023-10-29T22:20:13.658104Z",
     "shell.execute_reply": "2023-10-29T22:20:13.656955Z"
    }
   },
   "outputs": [
    {
     "name": "stdout",
     "output_type": "stream",
     "text": [
      "Requirement already satisfied: num2words in /home/leo/Documents/back-bi/backend-virtualenv/lib/python3.11/site-packages (0.5.13)\r\n",
      "Requirement already satisfied: docopt>=0.6.2 in /home/leo/Documents/back-bi/backend-virtualenv/lib/python3.11/site-packages (from num2words) (0.6.2)\r\n"
     ]
    },
    {
     "name": "stdout",
     "output_type": "stream",
     "text": [
      "\r\n",
      "\u001b[1m[\u001b[0m\u001b[34;49mnotice\u001b[0m\u001b[1;39;49m]\u001b[0m\u001b[39;49m A new release of pip is available: \u001b[0m\u001b[31;49m23.2.1\u001b[0m\u001b[39;49m -> \u001b[0m\u001b[32;49m23.3.1\u001b[0m\r\n",
      "\u001b[1m[\u001b[0m\u001b[34;49mnotice\u001b[0m\u001b[1;39;49m]\u001b[0m\u001b[39;49m To update, run: \u001b[0m\u001b[32;49mpip install --upgrade pip\u001b[0m\r\n"
     ]
    },
    {
     "name": "stdout",
     "output_type": "stream",
     "text": [
      "Note: you may need to restart the kernel to use updated packages.\n"
     ]
    }
   ],
   "source": [
    "%pip install num2words"
   ]
  },
  {
   "cell_type": "code",
   "execution_count": 2,
   "id": "5630835a",
   "metadata": {
    "execution": {
     "iopub.execute_input": "2023-10-29T22:20:13.663801Z",
     "iopub.status.busy": "2023-10-29T22:20:13.663513Z",
     "iopub.status.idle": "2023-10-29T22:20:15.646474Z",
     "shell.execute_reply": "2023-10-29T22:20:15.645751Z"
    }
   },
   "outputs": [],
   "source": [
    "import numpy as np\n",
    "import pandas as pd\n",
    "\n",
    "from matplotlib import pyplot as plt\n",
    "import num2words\n",
    "import re, unicodedata, inflect\n",
    "import nltk\n",
    "from gensim.models import Word2Vec\n",
    "from nltk import word_tokenize, sent_tokenize\n",
    "from nltk.corpus import stopwords\n",
    "from nltk.tokenize import word_tokenize\n",
    "\n",
    "from sklearn.ensemble import RandomForestClassifier\n",
    "from sklearn.metrics import classification_report\n",
    "from sklearn.feature_extraction.text import CountVectorizer, TfidfVectorizer\n",
    "from sklearn.metrics import (\n",
    "    ConfusionMatrixDisplay, RocCurveDisplay,\n",
    "    roc_auc_score, precision_score, recall_score, f1_score\n",
    ")\n",
    "from sklearn.model_selection import train_test_split, RandomizedSearchCV\n",
    "from sklearn.pipeline import Pipeline\n",
    "from sklearn.model_selection import train_test_split\n",
    "from sklearn.model_selection import train_test_split\n",
    "from sklearn.svm import SVC\n",
    "from sklearn.metrics import classification_report\n"
   ]
  },
  {
   "cell_type": "code",
   "execution_count": 3,
   "id": "31dd8bb4",
   "metadata": {
    "execution": {
     "iopub.execute_input": "2023-10-29T22:20:15.649528Z",
     "iopub.status.busy": "2023-10-29T22:20:15.649200Z",
     "iopub.status.idle": "2023-10-29T22:20:15.652577Z",
     "shell.execute_reply": "2023-10-29T22:20:15.651965Z"
    }
   },
   "outputs": [],
   "source": [
    "import warnings\n",
    "warnings.filterwarnings(\"ignore\")"
   ]
  },
  {
   "cell_type": "code",
   "execution_count": 4,
   "id": "8f934984",
   "metadata": {
    "execution": {
     "iopub.execute_input": "2023-10-29T22:20:15.655930Z",
     "iopub.status.busy": "2023-10-29T22:20:15.655545Z",
     "iopub.status.idle": "2023-10-29T22:20:15.674034Z",
     "shell.execute_reply": "2023-10-29T22:20:15.673425Z"
    }
   },
   "outputs": [],
   "source": [
    "RECALL = \"Recall:\"\n",
    "PRECISION = \"Precision:\"\n",
    "F1 = \"F1:\""
   ]
  },
  {
   "cell_type": "code",
   "execution_count": 5,
   "id": "d6ed92f2",
   "metadata": {
    "execution": {
     "iopub.execute_input": "2023-10-29T22:20:15.677369Z",
     "iopub.status.busy": "2023-10-29T22:20:15.677126Z",
     "iopub.status.idle": "2023-10-29T22:20:15.683391Z",
     "shell.execute_reply": "2023-10-29T22:20:15.682836Z"
    }
   },
   "outputs": [],
   "source": [
    "# Configuring pandas to show all cell content\n",
    "pd.set_option(\"display.max_colwidth\", None)"
   ]
  },
  {
   "cell_type": "code",
   "execution_count": 6,
   "id": "ce5d02a0",
   "metadata": {
    "execution": {
     "iopub.execute_input": "2023-10-29T22:20:15.686221Z",
     "iopub.status.busy": "2023-10-29T22:20:15.685873Z",
     "iopub.status.idle": "2023-10-29T22:20:15.824130Z",
     "shell.execute_reply": "2023-10-29T22:20:15.823581Z"
    }
   },
   "outputs": [
    {
     "name": "stderr",
     "output_type": "stream",
     "text": [
      "[nltk_data] Downloading package punkt to /home/leo/nltk_data...\n",
      "[nltk_data]   Package punkt is already up-to-date!\n",
      "[nltk_data] Downloading package stopwords to /home/leo/nltk_data...\n",
      "[nltk_data]   Package stopwords is already up-to-date!\n"
     ]
    }
   ],
   "source": [
    "# Downloading stopwords\n",
    "nltk.download(\"punkt\")\n",
    "nltk.download(\"stopwords\")\n",
    "stop_words = stopwords.words(\"spanish\")"
   ]
  },
  {
   "cell_type": "code",
   "execution_count": 7,
   "id": "67b6048a",
   "metadata": {
    "execution": {
     "iopub.execute_input": "2023-10-29T22:20:15.827065Z",
     "iopub.status.busy": "2023-10-29T22:20:15.826609Z",
     "iopub.status.idle": "2023-10-29T22:20:15.849083Z",
     "shell.execute_reply": "2023-10-29T22:20:15.848235Z"
    }
   },
   "outputs": [],
   "source": [
    "ods_df = pd.read_csv(\"../data/cat_6716.csv\")"
   ]
  },
  {
   "cell_type": "code",
   "execution_count": 8,
   "id": "6ef070cb",
   "metadata": {
    "execution": {
     "iopub.execute_input": "2023-10-29T22:20:15.852423Z",
     "iopub.status.busy": "2023-10-29T22:20:15.851965Z",
     "iopub.status.idle": "2023-10-29T22:20:15.861606Z",
     "shell.execute_reply": "2023-10-29T22:20:15.860924Z"
    }
   },
   "outputs": [
    {
     "data": {
      "text/plain": [
       "sdg\n",
       "6     0.542161\n",
       "16    0.263505\n",
       "7     0.194335\n",
       "Name: proportion, dtype: float64"
      ]
     },
     "execution_count": 8,
     "metadata": {},
     "output_type": "execute_result"
    }
   ],
   "source": [
    "ods_df[\"sdg\"].value_counts(dropna=False, normalize=True)"
   ]
  },
  {
   "cell_type": "code",
   "execution_count": 9,
   "id": "03dee57a",
   "metadata": {
    "execution": {
     "iopub.execute_input": "2023-10-29T22:20:15.864775Z",
     "iopub.status.busy": "2023-10-29T22:20:15.864263Z",
     "iopub.status.idle": "2023-10-29T22:20:15.870654Z",
     "shell.execute_reply": "2023-10-29T22:20:15.870045Z"
    }
   },
   "outputs": [],
   "source": [
    "ods_df[\"Textos_espanol\"] = ods_df[\"Textos_espanol\"].astype(str)"
   ]
  },
  {
   "cell_type": "markdown",
   "id": "4de32e53",
   "metadata": {},
   "source": [
    "## Preparación de datos"
   ]
  },
  {
   "cell_type": "markdown",
   "id": "5a5c2ddb",
   "metadata": {},
   "source": [
    "Para poder realizar el pre-procesamiento de los datos, es recomendable pasar por tres etapas:\n",
    "* Limpieza de los datos.\n",
    "* Tokenización.\n",
    "* Normalización.\n",
    "\n",
    "<span style=\"color:red\">!!! Antes de ver la solución, revisa alternativas para realizar las tres etapas previas.</span>\n",
    "\n",
    "Para mayor información, pueden consultar el [siguiente artículo](https://medium.com/datos-y-ciencia/preprocesamiento-de-datos-de-texto-un-tutorial-en-python-5db5620f1767\n",
    ")."
   ]
  },
  {
   "cell_type": "markdown",
   "id": "2124a94e",
   "metadata": {},
   "source": [
    "### Limpieza de los datos"
   ]
  },
  {
   "cell_type": "code",
   "execution_count": 10,
   "id": "86e28f7f",
   "metadata": {
    "execution": {
     "iopub.execute_input": "2023-10-29T22:20:15.874455Z",
     "iopub.status.busy": "2023-10-29T22:20:15.874213Z",
     "iopub.status.idle": "2023-10-29T22:20:15.886287Z",
     "shell.execute_reply": "2023-10-29T22:20:15.885651Z"
    }
   },
   "outputs": [],
   "source": [
    "def remove_non_ascii(words):\n",
    "    \"\"\"Remove non-ASCII characters from list of tokenized words\"\"\"\n",
    "    new_words = []\n",
    "    for word in words:\n",
    "        new_word = unicodedata.normalize('NFKD', word).encode('ascii', 'ignore').decode('utf-8', 'ignore')\n",
    "        new_words.append(new_word)\n",
    "    return new_words\n",
    "\n",
    "def to_lowercase(words):\n",
    "    \"\"\"Convert all characters to lowercase from list of tokenized words\"\"\"\n",
    "    return [word.lower() for word in words]\n",
    "\n",
    "def remove_punctuation(words):\n",
    "    \"\"\"Remove punctuation from list of tokenized words\"\"\"\n",
    "    new_words = []\n",
    "    for word in words:\n",
    "        new_word = re.sub(r'[^\\w\\s]', '', word)\n",
    "        if new_word != '':\n",
    "            new_words.append(new_word)\n",
    "    return new_words\n",
    "\n",
    "def replace_numbers(words):\n",
    "    \"\"\"Replace all interger occurrences in list of tokenized words with textual representation\"\"\"\n",
    "    new_words = []\n",
    "    for word in words:\n",
    "        if word.isdigit():\n",
    "            new_word = num2words.num2words(int(word), lang='es')\n",
    "            new_words.append(new_word)\n",
    "        else:\n",
    "            new_words.append(word)\n",
    "    return new_words\n",
    "def remove_stopwords(words):\n",
    "    \"\"\"Remove stop words from list of tokenized words\"\"\"\n",
    "    return [word for word in words if word not in stop_words]\n",
    "\n",
    "def preprocessing(words):\n",
    "    words = to_lowercase(words)\n",
    "    words = replace_numbers(words)\n",
    "    words = remove_punctuation(words)\n",
    "    words = remove_non_ascii(words)\n",
    "    words = remove_stopwords(words)\n",
    "    return words"
   ]
  },
  {
   "cell_type": "markdown",
   "id": "1fd89cc3",
   "metadata": {},
   "source": [
    "### Tokenización"
   ]
  },
  {
   "cell_type": "code",
   "execution_count": 11,
   "id": "ab74a2bf",
   "metadata": {
    "execution": {
     "iopub.execute_input": "2023-10-29T22:20:15.889817Z",
     "iopub.status.busy": "2023-10-29T22:20:15.889502Z",
     "iopub.status.idle": "2023-10-29T22:20:17.849624Z",
     "shell.execute_reply": "2023-10-29T22:20:17.848692Z"
    }
   },
   "outputs": [
    {
     "data": {
      "text/html": [
       "<div>\n",
       "<style scoped>\n",
       "    .dataframe tbody tr th:only-of-type {\n",
       "        vertical-align: middle;\n",
       "    }\n",
       "\n",
       "    .dataframe tbody tr th {\n",
       "        vertical-align: top;\n",
       "    }\n",
       "\n",
       "    .dataframe thead th {\n",
       "        text-align: right;\n",
       "    }\n",
       "</style>\n",
       "<table border=\"1\" class=\"dataframe\">\n",
       "  <thead>\n",
       "    <tr style=\"text-align: right;\">\n",
       "      <th></th>\n",
       "      <th>Textos_espanol</th>\n",
       "      <th>sdg</th>\n",
       "    </tr>\n",
       "  </thead>\n",
       "  <tbody>\n",
       "    <tr>\n",
       "      <th>1020</th>\n",
       "      <td>punto vista cualitativo embargo hidroelectrica embalse utiliza parte izquierda curva duracion carga reduce asi carga punta deben satisfacer tecnologias despachables efecto global reduccion capacidad tecnologia punta necesita sistema interconexiones comercio electricidad ayudan suavizar curva carga facilitan reto equilibrio</td>\n",
       "      <td>7</td>\n",
       "    </tr>\n",
       "    <tr>\n",
       "      <th>1345</th>\n",
       "      <td>surgimiento gobiernos populistas mundo llamado atencion estudiosos derecho internacional campo derecho internacional testigo serie estudios analizan movimientos populistas recientes impacto derecho internacional particular campos comercio medio ambiente derechos humanos migracion embargo literatura existente centrada sur global escasa obstante dado populismo esencialmente vinculado nativismo jingoismo autoritarismo paises sur tambien deben ser investigados dada estrecha asociacion nacionalismo localismo especialmente llegaron participar dialogos derecho articulo llena vacio ofrecer ideas comprension populismo tres perspectivas comportamientos regimenes actores advierte populismo coloca justicia global derecho situacion alto riesgo</td>\n",
       "      <td>16</td>\n",
       "    </tr>\n",
       "    <tr>\n",
       "      <th>101</th>\n",
       "      <td>tambien espera cuota garantia proporcione incentivos informar uso agua genere mejores datos uso agua agosto diciembre dos mil once tasa garantia genero doce millones pesos distritos riego priorizacia3n proyectos ahorro agua otorga treinta puntos cien asociaciones usuarios agua renuncien tatulo concesia3n porcentaje agua ahorrada igual apoyo federal proyecto unidades riego acuiferos sobreexplotados existe requisito previo comprometerse dejar acuifero cincuenta agua ahorrada priorizacion proyectos incluye clausula similar distritos riego</td>\n",
       "      <td>6</td>\n",
       "    </tr>\n",
       "    <tr>\n",
       "      <th>241</th>\n",
       "      <td>embargo aunque indica agua escasea trata consideracion media ademas existen diferencias empresas wss perdidas agua suelen ser elevadas elevadas mayoria empresas servicios cuanto calidad agua usosfunciones antropogenicos agua salvaguardan buen funcionamiento ecosistemas acuaticos</td>\n",
       "      <td>6</td>\n",
       "    </tr>\n",
       "    <tr>\n",
       "      <th>720</th>\n",
       "      <td>ademas necesario recuperar acuiferos naturales agotados problema escasez agua visto agravado ultimos anos varios ciclos sequia plurianuales consiguiente bombeo excesivo agua satisfacer creciente demanda precipitaciones anuales disminuido nueve media mil novecientos noventa y tres podrian disminuir 1015 dos mil quince dos mil treinta y cinco segun modelos cambio climatico capitulo seis aumento poblacia3n crecimiento agracola estan ejerciendo presiones adicionales limitados recursos hadricos israel cantidad calidad</td>\n",
       "      <td>6</td>\n",
       "    </tr>\n",
       "  </tbody>\n",
       "</table>\n",
       "</div>"
      ],
      "text/plain": [
       "                                                                                                                                                                                                                                                                                                                                                                                                                                                                                                                                                                                                                                                                                                                                                            Textos_espanol  \\\n",
       "1020                                                                                                                                                                                                                                                                                                                                                                                                                                  punto vista cualitativo embargo hidroelectrica embalse utiliza parte izquierda curva duracion carga reduce asi carga punta deben satisfacer tecnologias despachables efecto global reduccion capacidad tecnologia punta necesita sistema interconexiones comercio electricidad ayudan suavizar curva carga facilitan reto equilibrio   \n",
       "1345  surgimiento gobiernos populistas mundo llamado atencion estudiosos derecho internacional campo derecho internacional testigo serie estudios analizan movimientos populistas recientes impacto derecho internacional particular campos comercio medio ambiente derechos humanos migracion embargo literatura existente centrada sur global escasa obstante dado populismo esencialmente vinculado nativismo jingoismo autoritarismo paises sur tambien deben ser investigados dada estrecha asociacion nacionalismo localismo especialmente llegaron participar dialogos derecho articulo llena vacio ofrecer ideas comprension populismo tres perspectivas comportamientos regimenes actores advierte populismo coloca justicia global derecho situacion alto riesgo   \n",
       "101                                                                                                                                                                                                          tambien espera cuota garantia proporcione incentivos informar uso agua genere mejores datos uso agua agosto diciembre dos mil once tasa garantia genero doce millones pesos distritos riego priorizacia3n proyectos ahorro agua otorga treinta puntos cien asociaciones usuarios agua renuncien tatulo concesia3n porcentaje agua ahorrada igual apoyo federal proyecto unidades riego acuiferos sobreexplotados existe requisito previo comprometerse dejar acuifero cincuenta agua ahorrada priorizacion proyectos incluye clausula similar distritos riego   \n",
       "241                                                                                                                                                                                                                                                                                                                                                                                                                                                                                embargo aunque indica agua escasea trata consideracion media ademas existen diferencias empresas wss perdidas agua suelen ser elevadas elevadas mayoria empresas servicios cuanto calidad agua usosfunciones antropogenicos agua salvaguardan buen funcionamiento ecosistemas acuaticos   \n",
       "720                                                                                                                                                                                                                                 ademas necesario recuperar acuiferos naturales agotados problema escasez agua visto agravado ultimos anos varios ciclos sequia plurianuales consiguiente bombeo excesivo agua satisfacer creciente demanda precipitaciones anuales disminuido nueve media mil novecientos noventa y tres podrian disminuir 1015 dos mil quince dos mil treinta y cinco segun modelos cambio climatico capitulo seis aumento poblacia3n crecimiento agracola estan ejerciendo presiones adicionales limitados recursos hadricos israel cantidad calidad   \n",
       "\n",
       "      sdg  \n",
       "1020    7  \n",
       "1345   16  \n",
       "101     6  \n",
       "241     6  \n",
       "720     6  "
      ]
     },
     "execution_count": 11,
     "metadata": {},
     "output_type": "execute_result"
    }
   ],
   "source": [
    "ods_df[\"Textos_espanol\"] = ods_df[\"Textos_espanol\"].apply(word_tokenize).apply(preprocessing).apply(\" \".join)\n",
    "ods_df.sample(5)"
   ]
  },
  {
   "cell_type": "markdown",
   "id": "6a0ed664",
   "metadata": {},
   "source": [
    "### Normalización"
   ]
  },
  {
   "cell_type": "markdown",
   "id": "03da2af6",
   "metadata": {},
   "source": [
    "# Entrenamiento"
   ]
  },
  {
   "cell_type": "code",
   "execution_count": 12,
   "id": "1e4f9e7d",
   "metadata": {
    "execution": {
     "iopub.execute_input": "2023-10-29T22:20:17.854856Z",
     "iopub.status.busy": "2023-10-29T22:20:17.853983Z",
     "iopub.status.idle": "2023-10-29T22:20:17.864831Z",
     "shell.execute_reply": "2023-10-29T22:20:17.864236Z"
    }
   },
   "outputs": [],
   "source": [
    "# The param 'stratify' is useful to guarantee label proportions on train and test sets\n",
    "X_train, X_test, y_train, y_test = train_test_split(ods_df[[\"Textos_espanol\"]], ods_df[\"sdg\"], test_size=0.3, stratify=ods_df[\"sdg\"], random_state=1)"
   ]
  },
  {
   "cell_type": "code",
   "execution_count": 13,
   "id": "effd5193",
   "metadata": {
    "execution": {
     "iopub.execute_input": "2023-10-29T22:20:17.870069Z",
     "iopub.status.busy": "2023-10-29T22:20:17.869736Z",
     "iopub.status.idle": "2023-10-29T22:20:17.875348Z",
     "shell.execute_reply": "2023-10-29T22:20:17.874538Z"
    }
   },
   "outputs": [],
   "source": [
    "X_train_tokens = [nltk.word_tokenize(text) for text in X_train]\n",
    "X_test_tokens = [nltk.word_tokenize(text) for text in X_test]"
   ]
  },
  {
   "cell_type": "code",
   "execution_count": 14,
   "id": "f3a3c135",
   "metadata": {
    "execution": {
     "iopub.execute_input": "2023-10-29T22:20:17.880799Z",
     "iopub.status.busy": "2023-10-29T22:20:17.880296Z",
     "iopub.status.idle": "2023-10-29T22:20:17.887928Z",
     "shell.execute_reply": "2023-10-29T22:20:17.887147Z"
    }
   },
   "outputs": [
    {
     "data": {
      "text/plain": [
       "sdg\n",
       "6     0.542373\n",
       "16    0.263653\n",
       "7     0.193974\n",
       "Name: proportion, dtype: float64"
      ]
     },
     "execution_count": 14,
     "metadata": {},
     "output_type": "execute_result"
    }
   ],
   "source": [
    "pd.Series(y_train).value_counts(normalize=True)"
   ]
  },
  {
   "cell_type": "code",
   "execution_count": 15,
   "id": "dd0507ed",
   "metadata": {
    "execution": {
     "iopub.execute_input": "2023-10-29T22:20:17.893049Z",
     "iopub.status.busy": "2023-10-29T22:20:17.892745Z",
     "iopub.status.idle": "2023-10-29T22:20:17.900147Z",
     "shell.execute_reply": "2023-10-29T22:20:17.899221Z"
    }
   },
   "outputs": [
    {
     "data": {
      "text/plain": [
       "sdg\n",
       "6     0.541667\n",
       "16    0.263158\n",
       "7     0.195175\n",
       "Name: proportion, dtype: float64"
      ]
     },
     "execution_count": 15,
     "metadata": {},
     "output_type": "execute_result"
    }
   ],
   "source": [
    "pd.Series(y_test).value_counts(normalize=True)"
   ]
  },
  {
   "cell_type": "markdown",
   "id": "015f133b",
   "metadata": {},
   "source": [
    "## Text vectorization"
   ]
  },
  {
   "cell_type": "code",
   "execution_count": 16,
   "id": "bbb551a6",
   "metadata": {
    "execution": {
     "iopub.execute_input": "2023-10-29T22:20:17.907004Z",
     "iopub.status.busy": "2023-10-29T22:20:17.906679Z",
     "iopub.status.idle": "2023-10-29T22:20:17.911384Z",
     "shell.execute_reply": "2023-10-29T22:20:17.910703Z"
    }
   },
   "outputs": [],
   "source": [
    "bow = CountVectorizer(tokenizer=word_tokenize, stop_words=stop_words, lowercase=True)"
   ]
  },
  {
   "cell_type": "code",
   "execution_count": 17,
   "id": "35f17c5d",
   "metadata": {
    "execution": {
     "iopub.execute_input": "2023-10-29T22:20:17.916245Z",
     "iopub.status.busy": "2023-10-29T22:20:17.915640Z",
     "iopub.status.idle": "2023-10-29T22:20:18.429401Z",
     "shell.execute_reply": "2023-10-29T22:20:18.427876Z"
    }
   },
   "outputs": [],
   "source": [
    "X_bow = bow.fit_transform(X_train[\"Textos_espanol\"])"
   ]
  },
  {
   "cell_type": "code",
   "execution_count": 18,
   "id": "03839a3e",
   "metadata": {
    "execution": {
     "iopub.execute_input": "2023-10-29T22:20:18.433911Z",
     "iopub.status.busy": "2023-10-29T22:20:18.433665Z",
     "iopub.status.idle": "2023-10-29T22:20:18.437444Z",
     "shell.execute_reply": "2023-10-29T22:20:18.436815Z"
    }
   },
   "outputs": [],
   "source": [
    "tfidf = TfidfVectorizer(tokenizer=word_tokenize, stop_words=stop_words, lowercase=True)"
   ]
  },
  {
   "cell_type": "code",
   "execution_count": 19,
   "id": "0c44fee1",
   "metadata": {
    "execution": {
     "iopub.execute_input": "2023-10-29T22:20:18.441330Z",
     "iopub.status.busy": "2023-10-29T22:20:18.440846Z",
     "iopub.status.idle": "2023-10-29T22:20:19.010194Z",
     "shell.execute_reply": "2023-10-29T22:20:19.009335Z"
    }
   },
   "outputs": [],
   "source": [
    "X_tfidf = tfidf.fit_transform(X_train[\"Textos_espanol\"])"
   ]
  },
  {
   "cell_type": "markdown",
   "id": "0f45d192",
   "metadata": {},
   "source": [
    "## Training a model with BoW"
   ]
  },
  {
   "cell_type": "code",
   "execution_count": 20,
   "id": "0dc6201b",
   "metadata": {
    "execution": {
     "iopub.execute_input": "2023-10-29T22:20:19.013696Z",
     "iopub.status.busy": "2023-10-29T22:20:19.013269Z",
     "iopub.status.idle": "2023-10-29T22:20:19.018840Z",
     "shell.execute_reply": "2023-10-29T22:20:19.017710Z"
    }
   },
   "outputs": [],
   "source": [
    "bow_model = RandomForestClassifier(random_state=2)"
   ]
  },
  {
   "cell_type": "code",
   "execution_count": 21,
   "id": "472d2551",
   "metadata": {
    "execution": {
     "iopub.execute_input": "2023-10-29T22:20:19.022393Z",
     "iopub.status.busy": "2023-10-29T22:20:19.022094Z",
     "iopub.status.idle": "2023-10-29T22:20:20.037721Z",
     "shell.execute_reply": "2023-10-29T22:20:20.037041Z"
    }
   },
   "outputs": [
    {
     "data": {
      "text/html": [
       "<style>#sk-container-id-1 {color: black;}#sk-container-id-1 pre{padding: 0;}#sk-container-id-1 div.sk-toggleable {background-color: white;}#sk-container-id-1 label.sk-toggleable__label {cursor: pointer;display: block;width: 100%;margin-bottom: 0;padding: 0.3em;box-sizing: border-box;text-align: center;}#sk-container-id-1 label.sk-toggleable__label-arrow:before {content: \"▸\";float: left;margin-right: 0.25em;color: #696969;}#sk-container-id-1 label.sk-toggleable__label-arrow:hover:before {color: black;}#sk-container-id-1 div.sk-estimator:hover label.sk-toggleable__label-arrow:before {color: black;}#sk-container-id-1 div.sk-toggleable__content {max-height: 0;max-width: 0;overflow: hidden;text-align: left;background-color: #f0f8ff;}#sk-container-id-1 div.sk-toggleable__content pre {margin: 0.2em;color: black;border-radius: 0.25em;background-color: #f0f8ff;}#sk-container-id-1 input.sk-toggleable__control:checked~div.sk-toggleable__content {max-height: 200px;max-width: 100%;overflow: auto;}#sk-container-id-1 input.sk-toggleable__control:checked~label.sk-toggleable__label-arrow:before {content: \"▾\";}#sk-container-id-1 div.sk-estimator input.sk-toggleable__control:checked~label.sk-toggleable__label {background-color: #d4ebff;}#sk-container-id-1 div.sk-label input.sk-toggleable__control:checked~label.sk-toggleable__label {background-color: #d4ebff;}#sk-container-id-1 input.sk-hidden--visually {border: 0;clip: rect(1px 1px 1px 1px);clip: rect(1px, 1px, 1px, 1px);height: 1px;margin: -1px;overflow: hidden;padding: 0;position: absolute;width: 1px;}#sk-container-id-1 div.sk-estimator {font-family: monospace;background-color: #f0f8ff;border: 1px dotted black;border-radius: 0.25em;box-sizing: border-box;margin-bottom: 0.5em;}#sk-container-id-1 div.sk-estimator:hover {background-color: #d4ebff;}#sk-container-id-1 div.sk-parallel-item::after {content: \"\";width: 100%;border-bottom: 1px solid gray;flex-grow: 1;}#sk-container-id-1 div.sk-label:hover label.sk-toggleable__label {background-color: #d4ebff;}#sk-container-id-1 div.sk-serial::before {content: \"\";position: absolute;border-left: 1px solid gray;box-sizing: border-box;top: 0;bottom: 0;left: 50%;z-index: 0;}#sk-container-id-1 div.sk-serial {display: flex;flex-direction: column;align-items: center;background-color: white;padding-right: 0.2em;padding-left: 0.2em;position: relative;}#sk-container-id-1 div.sk-item {position: relative;z-index: 1;}#sk-container-id-1 div.sk-parallel {display: flex;align-items: stretch;justify-content: center;background-color: white;position: relative;}#sk-container-id-1 div.sk-item::before, #sk-container-id-1 div.sk-parallel-item::before {content: \"\";position: absolute;border-left: 1px solid gray;box-sizing: border-box;top: 0;bottom: 0;left: 50%;z-index: -1;}#sk-container-id-1 div.sk-parallel-item {display: flex;flex-direction: column;z-index: 1;position: relative;background-color: white;}#sk-container-id-1 div.sk-parallel-item:first-child::after {align-self: flex-end;width: 50%;}#sk-container-id-1 div.sk-parallel-item:last-child::after {align-self: flex-start;width: 50%;}#sk-container-id-1 div.sk-parallel-item:only-child::after {width: 0;}#sk-container-id-1 div.sk-dashed-wrapped {border: 1px dashed gray;margin: 0 0.4em 0.5em 0.4em;box-sizing: border-box;padding-bottom: 0.4em;background-color: white;}#sk-container-id-1 div.sk-label label {font-family: monospace;font-weight: bold;display: inline-block;line-height: 1.2em;}#sk-container-id-1 div.sk-label-container {text-align: center;}#sk-container-id-1 div.sk-container {/* jupyter's `normalize.less` sets `[hidden] { display: none; }` but bootstrap.min.css set `[hidden] { display: none !important; }` so we also need the `!important` here to be able to override the default hidden behavior on the sphinx rendered scikit-learn.org. See: https://github.com/scikit-learn/scikit-learn/issues/21755 */display: inline-block !important;position: relative;}#sk-container-id-1 div.sk-text-repr-fallback {display: none;}</style><div id=\"sk-container-id-1\" class=\"sk-top-container\"><div class=\"sk-text-repr-fallback\"><pre>RandomForestClassifier(random_state=2)</pre><b>In a Jupyter environment, please rerun this cell to show the HTML representation or trust the notebook. <br />On GitHub, the HTML representation is unable to render, please try loading this page with nbviewer.org.</b></div><div class=\"sk-container\" hidden><div class=\"sk-item\"><div class=\"sk-estimator sk-toggleable\"><input class=\"sk-toggleable__control sk-hidden--visually\" id=\"sk-estimator-id-1\" type=\"checkbox\" checked><label for=\"sk-estimator-id-1\" class=\"sk-toggleable__label sk-toggleable__label-arrow\">RandomForestClassifier</label><div class=\"sk-toggleable__content\"><pre>RandomForestClassifier(random_state=2)</pre></div></div></div></div></div>"
      ],
      "text/plain": [
       "RandomForestClassifier(random_state=2)"
      ]
     },
     "execution_count": 21,
     "metadata": {},
     "output_type": "execute_result"
    }
   ],
   "source": [
    "bow_model.fit(X_bow, y_train)"
   ]
  },
  {
   "cell_type": "code",
   "execution_count": 22,
   "id": "8bd311e6",
   "metadata": {
    "execution": {
     "iopub.execute_input": "2023-10-29T22:20:20.041069Z",
     "iopub.status.busy": "2023-10-29T22:20:20.040653Z",
     "iopub.status.idle": "2023-10-29T22:20:20.548133Z",
     "shell.execute_reply": "2023-10-29T22:20:20.547433Z"
    }
   },
   "outputs": [
    {
     "data": {
      "text/plain": [
       "<Axes: >"
      ]
     },
     "execution_count": 22,
     "metadata": {},
     "output_type": "execute_result"
    },
    {
     "data": {
      "image/png": "[encoded data removed]",
      "text/plain": [
       "<Figure size 1500x1000 with 1 Axes>"
      ]
     },
     "metadata": {},
     "output_type": "display_data"
    }
   ],
   "source": [
    "# Feature importance in tree models is an indicator on how relevant is a feature for taking the decision by the model\n",
    "pd.Series(bow_model.feature_importances_, index=bow.vocabulary_).sort_values().tail(20).plot.barh(figsize=(15, 10))"
   ]
  },
  {
   "cell_type": "code",
   "execution_count": 23,
   "id": "99fafaac",
   "metadata": {
    "execution": {
     "iopub.execute_input": "2023-10-29T22:20:20.551488Z",
     "iopub.status.busy": "2023-10-29T22:20:20.551242Z",
     "iopub.status.idle": "2023-10-29T22:20:20.556890Z",
     "shell.execute_reply": "2023-10-29T22:20:20.556161Z"
    }
   },
   "outputs": [
    {
     "name": "stdout",
     "output_type": "stream",
     "text": [
      "Number of trees: 100\n",
      "Trees depth (mean): 72.35\n"
     ]
    }
   ],
   "source": [
    "bow_estimators = bow_model.estimators_\n",
    "print(\"Number of trees:\", len(bow_estimators))\n",
    "print(\"Trees depth (mean):\", np.mean([tree.get_depth() for tree in bow_estimators]))"
   ]
  },
  {
   "cell_type": "code",
   "execution_count": 24,
   "id": "cd1eb30e",
   "metadata": {
    "execution": {
     "iopub.execute_input": "2023-10-29T22:20:20.561447Z",
     "iopub.status.busy": "2023-10-29T22:20:20.560888Z",
     "iopub.status.idle": "2023-10-29T22:20:20.843394Z",
     "shell.execute_reply": "2023-10-29T22:20:20.842654Z"
    }
   },
   "outputs": [],
   "source": [
    "y_train_bow_predict = bow_model.predict(X_bow)\n",
    "y_test_bow_predict = bow_model.predict(bow.transform(X_test[\"Textos_espanol\"]))"
   ]
  },
  {
   "cell_type": "code",
   "execution_count": 25,
   "id": "b1fefa43",
   "metadata": {
    "execution": {
     "iopub.execute_input": "2023-10-29T22:20:20.846852Z",
     "iopub.status.busy": "2023-10-29T22:20:20.846371Z",
     "iopub.status.idle": "2023-10-29T22:20:21.187417Z",
     "shell.execute_reply": "2023-10-29T22:20:21.186623Z"
    }
   },
   "outputs": [
    {
     "data": {
      "text/plain": [
       "<sklearn.metrics._plot.confusion_matrix.ConfusionMatrixDisplay at 0x7f673536eed0>"
      ]
     },
     "execution_count": 25,
     "metadata": {},
     "output_type": "execute_result"
    },
    {
     "data": {
      "image/png": "[encoded data removed]",
      "text/plain": [
       "<Figure size 640x480 with 2 Axes>"
      ]
     },
     "metadata": {},
     "output_type": "display_data"
    }
   ],
   "source": [
    "ConfusionMatrixDisplay.from_predictions(y_train, y_train_bow_predict)"
   ]
  },
  {
   "cell_type": "code",
   "execution_count": 26,
   "id": "e689ecaa",
   "metadata": {
    "execution": {
     "iopub.execute_input": "2023-10-29T22:20:21.191664Z",
     "iopub.status.busy": "2023-10-29T22:20:21.191255Z",
     "iopub.status.idle": "2023-10-29T22:20:21.453744Z",
     "shell.execute_reply": "2023-10-29T22:20:21.452895Z"
    }
   },
   "outputs": [
    {
     "data": {
      "text/plain": [
       "<sklearn.metrics._plot.confusion_matrix.ConfusionMatrixDisplay at 0x7f673555a590>"
      ]
     },
     "execution_count": 26,
     "metadata": {},
     "output_type": "execute_result"
    },
    {
     "data": {
      "image/png": "[encoded data removed]",
      "text/plain": [
       "<Figure size 640x480 with 2 Axes>"
      ]
     },
     "metadata": {},
     "output_type": "display_data"
    }
   ],
   "source": [
    "ConfusionMatrixDisplay.from_predictions(y_test, y_test_bow_predict)"
   ]
  },
  {
   "cell_type": "code",
   "execution_count": 27,
   "id": "12fd7daa",
   "metadata": {
    "execution": {
     "iopub.execute_input": "2023-10-29T22:20:21.457638Z",
     "iopub.status.busy": "2023-10-29T22:20:21.457338Z",
     "iopub.status.idle": "2023-10-29T22:20:21.471468Z",
     "shell.execute_reply": "2023-10-29T22:20:21.470678Z"
    }
   },
   "outputs": [
    {
     "name": "stdout",
     "output_type": "stream",
     "text": [
      "Precision: 1.0\n",
      "Recall: 1.0\n",
      "F1: 1.0\n"
     ]
    }
   ],
   "source": [
    "print(PRECISION, precision_score(y_train, y_train_bow_predict, average=\"weighted\"))\n",
    "print(RECALL, recall_score(y_train, y_train_bow_predict, average=\"weighted\"))\n",
    "print(F1, f1_score(y_train, y_train_bow_predict, average=\"weighted\"))"
   ]
  },
  {
   "cell_type": "code",
   "execution_count": 28,
   "id": "30ec324e",
   "metadata": {
    "execution": {
     "iopub.execute_input": "2023-10-29T22:20:21.474936Z",
     "iopub.status.busy": "2023-10-29T22:20:21.474638Z",
     "iopub.status.idle": "2023-10-29T22:20:21.489341Z",
     "shell.execute_reply": "2023-10-29T22:20:21.488035Z"
    }
   },
   "outputs": [
    {
     "name": "stdout",
     "output_type": "stream",
     "text": [
      "Precision: 0.9652545897292087\n",
      "Recall: 0.9649122807017544\n",
      "F1: 0.9642962452543506\n"
     ]
    }
   ],
   "source": [
    "print(PRECISION, precision_score(y_test, y_test_bow_predict, average=\"weighted\"))\n",
    "print(RECALL, recall_score(y_test, y_test_bow_predict, average=\"weighted\"))\n",
    "print(F1, f1_score(y_test, y_test_bow_predict, average=\"weighted\"))"
   ]
  },
  {
   "cell_type": "markdown",
   "id": "e3415006",
   "metadata": {},
   "source": [
    "### Model selection"
   ]
  },
  {
   "cell_type": "code",
   "execution_count": 29,
   "id": "c119467d",
   "metadata": {
    "execution": {
     "iopub.execute_input": "2023-10-29T22:20:21.492546Z",
     "iopub.status.busy": "2023-10-29T22:20:21.492251Z",
     "iopub.status.idle": "2023-10-29T22:20:21.496636Z",
     "shell.execute_reply": "2023-10-29T22:20:21.495817Z"
    }
   },
   "outputs": [],
   "source": [
    "pipeline = Pipeline(steps = [\n",
    "    (\"vectorizer\", CountVectorizer(tokenizer=word_tokenize, stop_words=stop_words, lowercase=True)),\n",
    "    (\"classifier\", RandomForestClassifier(random_state=4)),\n",
    "])"
   ]
  },
  {
   "cell_type": "code",
   "execution_count": 30,
   "id": "f3eabc89",
   "metadata": {
    "execution": {
     "iopub.execute_input": "2023-10-29T22:20:21.500051Z",
     "iopub.status.busy": "2023-10-29T22:20:21.499521Z",
     "iopub.status.idle": "2023-10-29T22:20:21.506026Z",
     "shell.execute_reply": "2023-10-29T22:20:21.505386Z"
    }
   },
   "outputs": [],
   "source": [
    "param_grid = {\n",
    "    \"vectorizer\": [CountVectorizer(tokenizer=word_tokenize, stop_words=stop_words), TfidfVectorizer(tokenizer=word_tokenize, stop_words=stop_words)],\n",
    "    \"vectorizer__lowercase\": [True, False],\n",
    "    \"classifier__n_estimators\": [50, 100],\n",
    "    \"classifier__criterion\": ['gini', 'entropy'],\n",
    "    \"classifier__max_depth\": [25, 50, 75, 100], \n",
    "}\n"
   ]
  },
  {
   "cell_type": "code",
   "execution_count": 31,
   "id": "97a09206",
   "metadata": {
    "execution": {
     "iopub.execute_input": "2023-10-29T22:20:21.509841Z",
     "iopub.status.busy": "2023-10-29T22:20:21.509317Z",
     "iopub.status.idle": "2023-10-29T22:20:21.518278Z",
     "shell.execute_reply": "2023-10-29T22:20:21.517612Z"
    }
   },
   "outputs": [],
   "source": [
    "search = RandomizedSearchCV(pipeline, param_grid, n_iter=10, scoring=[\"precision\", \"recall\", \"f1\"], refit=\"f1\", cv=7, return_train_score=True, verbose=1, random_state=5)\n"
   ]
  },
  {
   "cell_type": "code",
   "execution_count": 32,
   "id": "f1cd4c95",
   "metadata": {
    "execution": {
     "iopub.execute_input": "2023-10-29T22:20:21.521356Z",
     "iopub.status.busy": "2023-10-29T22:20:21.521027Z",
     "iopub.status.idle": "2023-10-29T22:22:14.639714Z",
     "shell.execute_reply": "2023-10-29T22:22:14.638554Z"
    }
   },
   "outputs": [
    {
     "name": "stdout",
     "output_type": "stream",
     "text": [
      "Fitting 7 folds for each of 10 candidates, totalling 70 fits\n"
     ]
    },
    {
     "data": {
      "text/html": [
       "<style>#sk-container-id-2 {color: black;}#sk-container-id-2 pre{padding: 0;}#sk-container-id-2 div.sk-toggleable {background-color: white;}#sk-container-id-2 label.sk-toggleable__label {cursor: pointer;display: block;width: 100%;margin-bottom: 0;padding: 0.3em;box-sizing: border-box;text-align: center;}#sk-container-id-2 label.sk-toggleable__label-arrow:before {content: \"▸\";float: left;margin-right: 0.25em;color: #696969;}#sk-container-id-2 label.sk-toggleable__label-arrow:hover:before {color: black;}#sk-container-id-2 div.sk-estimator:hover label.sk-toggleable__label-arrow:before {color: black;}#sk-container-id-2 div.sk-toggleable__content {max-height: 0;max-width: 0;overflow: hidden;text-align: left;background-color: #f0f8ff;}#sk-container-id-2 div.sk-toggleable__content pre {margin: 0.2em;color: black;border-radius: 0.25em;background-color: #f0f8ff;}#sk-container-id-2 input.sk-toggleable__control:checked~div.sk-toggleable__content {max-height: 200px;max-width: 100%;overflow: auto;}#sk-container-id-2 input.sk-toggleable__control:checked~label.sk-toggleable__label-arrow:before {content: \"▾\";}#sk-container-id-2 div.sk-estimator input.sk-toggleable__control:checked~label.sk-toggleable__label {background-color: #d4ebff;}#sk-container-id-2 div.sk-label input.sk-toggleable__control:checked~label.sk-toggleable__label {background-color: #d4ebff;}#sk-container-id-2 input.sk-hidden--visually {border: 0;clip: rect(1px 1px 1px 1px);clip: rect(1px, 1px, 1px, 1px);height: 1px;margin: -1px;overflow: hidden;padding: 0;position: absolute;width: 1px;}#sk-container-id-2 div.sk-estimator {font-family: monospace;background-color: #f0f8ff;border: 1px dotted black;border-radius: 0.25em;box-sizing: border-box;margin-bottom: 0.5em;}#sk-container-id-2 div.sk-estimator:hover {background-color: #d4ebff;}#sk-container-id-2 div.sk-parallel-item::after {content: \"\";width: 100%;border-bottom: 1px solid gray;flex-grow: 1;}#sk-container-id-2 div.sk-label:hover label.sk-toggleable__label {background-color: #d4ebff;}#sk-container-id-2 div.sk-serial::before {content: \"\";position: absolute;border-left: 1px solid gray;box-sizing: border-box;top: 0;bottom: 0;left: 50%;z-index: 0;}#sk-container-id-2 div.sk-serial {display: flex;flex-direction: column;align-items: center;background-color: white;padding-right: 0.2em;padding-left: 0.2em;position: relative;}#sk-container-id-2 div.sk-item {position: relative;z-index: 1;}#sk-container-id-2 div.sk-parallel {display: flex;align-items: stretch;justify-content: center;background-color: white;position: relative;}#sk-container-id-2 div.sk-item::before, #sk-container-id-2 div.sk-parallel-item::before {content: \"\";position: absolute;border-left: 1px solid gray;box-sizing: border-box;top: 0;bottom: 0;left: 50%;z-index: -1;}#sk-container-id-2 div.sk-parallel-item {display: flex;flex-direction: column;z-index: 1;position: relative;background-color: white;}#sk-container-id-2 div.sk-parallel-item:first-child::after {align-self: flex-end;width: 50%;}#sk-container-id-2 div.sk-parallel-item:last-child::after {align-self: flex-start;width: 50%;}#sk-container-id-2 div.sk-parallel-item:only-child::after {width: 0;}#sk-container-id-2 div.sk-dashed-wrapped {border: 1px dashed gray;margin: 0 0.4em 0.5em 0.4em;box-sizing: border-box;padding-bottom: 0.4em;background-color: white;}#sk-container-id-2 div.sk-label label {font-family: monospace;font-weight: bold;display: inline-block;line-height: 1.2em;}#sk-container-id-2 div.sk-label-container {text-align: center;}#sk-container-id-2 div.sk-container {/* jupyter's `normalize.less` sets `[hidden] { display: none; }` but bootstrap.min.css set `[hidden] { display: none !important; }` so we also need the `!important` here to be able to override the default hidden behavior on the sphinx rendered scikit-learn.org. See: https://github.com/scikit-learn/scikit-learn/issues/21755 */display: inline-block !important;position: relative;}#sk-container-id-2 div.sk-text-repr-fallback {display: none;}</style><div id=\"sk-container-id-2\" class=\"sk-top-container\"><div class=\"sk-text-repr-fallback\"><pre>RandomizedSearchCV(cv=7,\n",
       "                   estimator=Pipeline(steps=[(&#x27;vectorizer&#x27;,\n",
       "                                              CountVectorizer(stop_words=[&#x27;de&#x27;,\n",
       "                                                                          &#x27;la&#x27;,\n",
       "                                                                          &#x27;que&#x27;,\n",
       "                                                                          &#x27;el&#x27;,\n",
       "                                                                          &#x27;en&#x27;,\n",
       "                                                                          &#x27;y&#x27;,\n",
       "                                                                          &#x27;a&#x27;,\n",
       "                                                                          &#x27;los&#x27;,\n",
       "                                                                          &#x27;del&#x27;,\n",
       "                                                                          &#x27;se&#x27;,\n",
       "                                                                          &#x27;las&#x27;,\n",
       "                                                                          &#x27;por&#x27;,\n",
       "                                                                          &#x27;un&#x27;,\n",
       "                                                                          &#x27;para&#x27;,\n",
       "                                                                          &#x27;con&#x27;,\n",
       "                                                                          &#x27;no&#x27;,\n",
       "                                                                          &#x27;una&#x27;,\n",
       "                                                                          &#x27;su&#x27;,\n",
       "                                                                          &#x27;al&#x27;,\n",
       "                                                                          &#x27;lo&#x27;,\n",
       "                                                                          &#x27;como&#x27;,\n",
       "                                                                          &#x27;más&#x27;,\n",
       "                                                                          &#x27;pero&#x27;,\n",
       "                                                                          &#x27;sus&#x27;,\n",
       "                                                                          &#x27;le&#x27;,\n",
       "                                                                          &#x27;ya&#x27;,\n",
       "                                                                          &#x27;o&#x27;,\n",
       "                                                                          &#x27;este&#x27;,\n",
       "                                                                          &#x27;sí&#x27;,\n",
       "                                                                          &#x27;porque&#x27;, ...],\n",
       "                                                              tokenizer=&lt;function word_tokenize at 0x7f67393dd580&gt;)),\n",
       "                                             (&#x27;classifier&#x27;,\n",
       "                                              RandomForestClassif...\n",
       "                                                                                   &#x27;la&#x27;,\n",
       "                                                                                   &#x27;que&#x27;,\n",
       "                                                                                   &#x27;el&#x27;,\n",
       "                                                                                   &#x27;en&#x27;,\n",
       "                                                                                   &#x27;y&#x27;,\n",
       "                                                                                   &#x27;a&#x27;,\n",
       "                                                                                   &#x27;los&#x27;,\n",
       "                                                                                   &#x27;del&#x27;,\n",
       "                                                                                   &#x27;se&#x27;,\n",
       "                                                                                   &#x27;las&#x27;,\n",
       "                                                                                   &#x27;por&#x27;,\n",
       "                                                                                   &#x27;un&#x27;,\n",
       "                                                                                   &#x27;para&#x27;,\n",
       "                                                                                   &#x27;con&#x27;,\n",
       "                                                                                   &#x27;no&#x27;,\n",
       "                                                                                   &#x27;una&#x27;,\n",
       "                                                                                   &#x27;su&#x27;,\n",
       "                                                                                   &#x27;al&#x27;,\n",
       "                                                                                   &#x27;lo&#x27;,\n",
       "                                                                                   &#x27;como&#x27;,\n",
       "                                                                                   &#x27;más&#x27;,\n",
       "                                                                                   &#x27;pero&#x27;,\n",
       "                                                                                   &#x27;sus&#x27;,\n",
       "                                                                                   &#x27;le&#x27;,\n",
       "                                                                                   &#x27;ya&#x27;,\n",
       "                                                                                   &#x27;o&#x27;,\n",
       "                                                                                   &#x27;este&#x27;,\n",
       "                                                                                   &#x27;sí&#x27;,\n",
       "                                                                                   &#x27;porque&#x27;, ...],\n",
       "                                                                       tokenizer=&lt;function word_tokenize at 0x7f67393dd580&gt;)],\n",
       "                                        &#x27;vectorizer__lowercase&#x27;: [True, False]},\n",
       "                   random_state=5, refit=&#x27;f1&#x27;, return_train_score=True,\n",
       "                   scoring=[&#x27;precision&#x27;, &#x27;recall&#x27;, &#x27;f1&#x27;], verbose=1)</pre><b>In a Jupyter environment, please rerun this cell to show the HTML representation or trust the notebook. <br />On GitHub, the HTML representation is unable to render, please try loading this page with nbviewer.org.</b></div><div class=\"sk-container\" hidden><div class=\"sk-item sk-dashed-wrapped\"><div class=\"sk-label-container\"><div class=\"sk-label sk-toggleable\"><input class=\"sk-toggleable__control sk-hidden--visually\" id=\"sk-estimator-id-2\" type=\"checkbox\" ><label for=\"sk-estimator-id-2\" class=\"sk-toggleable__label sk-toggleable__label-arrow\">RandomizedSearchCV</label><div class=\"sk-toggleable__content\"><pre>RandomizedSearchCV(cv=7,\n",
       "                   estimator=Pipeline(steps=[(&#x27;vectorizer&#x27;,\n",
       "                                              CountVectorizer(stop_words=[&#x27;de&#x27;,\n",
       "                                                                          &#x27;la&#x27;,\n",
       "                                                                          &#x27;que&#x27;,\n",
       "                                                                          &#x27;el&#x27;,\n",
       "                                                                          &#x27;en&#x27;,\n",
       "                                                                          &#x27;y&#x27;,\n",
       "                                                                          &#x27;a&#x27;,\n",
       "                                                                          &#x27;los&#x27;,\n",
       "                                                                          &#x27;del&#x27;,\n",
       "                                                                          &#x27;se&#x27;,\n",
       "                                                                          &#x27;las&#x27;,\n",
       "                                                                          &#x27;por&#x27;,\n",
       "                                                                          &#x27;un&#x27;,\n",
       "                                                                          &#x27;para&#x27;,\n",
       "                                                                          &#x27;con&#x27;,\n",
       "                                                                          &#x27;no&#x27;,\n",
       "                                                                          &#x27;una&#x27;,\n",
       "                                                                          &#x27;su&#x27;,\n",
       "                                                                          &#x27;al&#x27;,\n",
       "                                                                          &#x27;lo&#x27;,\n",
       "                                                                          &#x27;como&#x27;,\n",
       "                                                                          &#x27;más&#x27;,\n",
       "                                                                          &#x27;pero&#x27;,\n",
       "                                                                          &#x27;sus&#x27;,\n",
       "                                                                          &#x27;le&#x27;,\n",
       "                                                                          &#x27;ya&#x27;,\n",
       "                                                                          &#x27;o&#x27;,\n",
       "                                                                          &#x27;este&#x27;,\n",
       "                                                                          &#x27;sí&#x27;,\n",
       "                                                                          &#x27;porque&#x27;, ...],\n",
       "                                                              tokenizer=&lt;function word_tokenize at 0x7f67393dd580&gt;)),\n",
       "                                             (&#x27;classifier&#x27;,\n",
       "                                              RandomForestClassif...\n",
       "                                                                                   &#x27;la&#x27;,\n",
       "                                                                                   &#x27;que&#x27;,\n",
       "                                                                                   &#x27;el&#x27;,\n",
       "                                                                                   &#x27;en&#x27;,\n",
       "                                                                                   &#x27;y&#x27;,\n",
       "                                                                                   &#x27;a&#x27;,\n",
       "                                                                                   &#x27;los&#x27;,\n",
       "                                                                                   &#x27;del&#x27;,\n",
       "                                                                                   &#x27;se&#x27;,\n",
       "                                                                                   &#x27;las&#x27;,\n",
       "                                                                                   &#x27;por&#x27;,\n",
       "                                                                                   &#x27;un&#x27;,\n",
       "                                                                                   &#x27;para&#x27;,\n",
       "                                                                                   &#x27;con&#x27;,\n",
       "                                                                                   &#x27;no&#x27;,\n",
       "                                                                                   &#x27;una&#x27;,\n",
       "                                                                                   &#x27;su&#x27;,\n",
       "                                                                                   &#x27;al&#x27;,\n",
       "                                                                                   &#x27;lo&#x27;,\n",
       "                                                                                   &#x27;como&#x27;,\n",
       "                                                                                   &#x27;más&#x27;,\n",
       "                                                                                   &#x27;pero&#x27;,\n",
       "                                                                                   &#x27;sus&#x27;,\n",
       "                                                                                   &#x27;le&#x27;,\n",
       "                                                                                   &#x27;ya&#x27;,\n",
       "                                                                                   &#x27;o&#x27;,\n",
       "                                                                                   &#x27;este&#x27;,\n",
       "                                                                                   &#x27;sí&#x27;,\n",
       "                                                                                   &#x27;porque&#x27;, ...],\n",
       "                                                                       tokenizer=&lt;function word_tokenize at 0x7f67393dd580&gt;)],\n",
       "                                        &#x27;vectorizer__lowercase&#x27;: [True, False]},\n",
       "                   random_state=5, refit=&#x27;f1&#x27;, return_train_score=True,\n",
       "                   scoring=[&#x27;precision&#x27;, &#x27;recall&#x27;, &#x27;f1&#x27;], verbose=1)</pre></div></div></div><div class=\"sk-parallel\"><div class=\"sk-parallel-item\"><div class=\"sk-item\"><div class=\"sk-label-container\"><div class=\"sk-label sk-toggleable\"><input class=\"sk-toggleable__control sk-hidden--visually\" id=\"sk-estimator-id-3\" type=\"checkbox\" ><label for=\"sk-estimator-id-3\" class=\"sk-toggleable__label sk-toggleable__label-arrow\">estimator: Pipeline</label><div class=\"sk-toggleable__content\"><pre>Pipeline(steps=[(&#x27;vectorizer&#x27;,\n",
       "                 CountVectorizer(stop_words=[&#x27;de&#x27;, &#x27;la&#x27;, &#x27;que&#x27;, &#x27;el&#x27;, &#x27;en&#x27;, &#x27;y&#x27;,\n",
       "                                             &#x27;a&#x27;, &#x27;los&#x27;, &#x27;del&#x27;, &#x27;se&#x27;, &#x27;las&#x27;,\n",
       "                                             &#x27;por&#x27;, &#x27;un&#x27;, &#x27;para&#x27;, &#x27;con&#x27;, &#x27;no&#x27;,\n",
       "                                             &#x27;una&#x27;, &#x27;su&#x27;, &#x27;al&#x27;, &#x27;lo&#x27;, &#x27;como&#x27;,\n",
       "                                             &#x27;más&#x27;, &#x27;pero&#x27;, &#x27;sus&#x27;, &#x27;le&#x27;, &#x27;ya&#x27;,\n",
       "                                             &#x27;o&#x27;, &#x27;este&#x27;, &#x27;sí&#x27;, &#x27;porque&#x27;, ...],\n",
       "                                 tokenizer=&lt;function word_tokenize at 0x7f67393dd580&gt;)),\n",
       "                (&#x27;classifier&#x27;, RandomForestClassifier(random_state=4))])</pre></div></div></div><div class=\"sk-serial\"><div class=\"sk-item\"><div class=\"sk-serial\"><div class=\"sk-item\"><div class=\"sk-estimator sk-toggleable\"><input class=\"sk-toggleable__control sk-hidden--visually\" id=\"sk-estimator-id-4\" type=\"checkbox\" ><label for=\"sk-estimator-id-4\" class=\"sk-toggleable__label sk-toggleable__label-arrow\">CountVectorizer</label><div class=\"sk-toggleable__content\"><pre>CountVectorizer(stop_words=[&#x27;de&#x27;, &#x27;la&#x27;, &#x27;que&#x27;, &#x27;el&#x27;, &#x27;en&#x27;, &#x27;y&#x27;, &#x27;a&#x27;, &#x27;los&#x27;,\n",
       "                            &#x27;del&#x27;, &#x27;se&#x27;, &#x27;las&#x27;, &#x27;por&#x27;, &#x27;un&#x27;, &#x27;para&#x27;, &#x27;con&#x27;,\n",
       "                            &#x27;no&#x27;, &#x27;una&#x27;, &#x27;su&#x27;, &#x27;al&#x27;, &#x27;lo&#x27;, &#x27;como&#x27;, &#x27;más&#x27;,\n",
       "                            &#x27;pero&#x27;, &#x27;sus&#x27;, &#x27;le&#x27;, &#x27;ya&#x27;, &#x27;o&#x27;, &#x27;este&#x27;, &#x27;sí&#x27;,\n",
       "                            &#x27;porque&#x27;, ...],\n",
       "                tokenizer=&lt;function word_tokenize at 0x7f67393dd580&gt;)</pre></div></div></div><div class=\"sk-item\"><div class=\"sk-estimator sk-toggleable\"><input class=\"sk-toggleable__control sk-hidden--visually\" id=\"sk-estimator-id-5\" type=\"checkbox\" ><label for=\"sk-estimator-id-5\" class=\"sk-toggleable__label sk-toggleable__label-arrow\">RandomForestClassifier</label><div class=\"sk-toggleable__content\"><pre>RandomForestClassifier(random_state=4)</pre></div></div></div></div></div></div></div></div></div></div></div></div>"
      ],
      "text/plain": [
       "RandomizedSearchCV(cv=7,\n",
       "                   estimator=Pipeline(steps=[('vectorizer',\n",
       "                                              CountVectorizer(stop_words=['de',\n",
       "                                                                          'la',\n",
       "                                                                          'que',\n",
       "                                                                          'el',\n",
       "                                                                          'en',\n",
       "                                                                          'y',\n",
       "                                                                          'a',\n",
       "                                                                          'los',\n",
       "                                                                          'del',\n",
       "                                                                          'se',\n",
       "                                                                          'las',\n",
       "                                                                          'por',\n",
       "                                                                          'un',\n",
       "                                                                          'para',\n",
       "                                                                          'con',\n",
       "                                                                          'no',\n",
       "                                                                          'una',\n",
       "                                                                          'su',\n",
       "                                                                          'al',\n",
       "                                                                          'lo',\n",
       "                                                                          'como',\n",
       "                                                                          'más',\n",
       "                                                                          'pero',\n",
       "                                                                          'sus',\n",
       "                                                                          'le',\n",
       "                                                                          'ya',\n",
       "                                                                          'o',\n",
       "                                                                          'este',\n",
       "                                                                          'sí',\n",
       "                                                                          'porque', ...],\n",
       "                                                              tokenizer=<function word_tokenize at 0x7f67393dd580>)),\n",
       "                                             ('classifier',\n",
       "                                              RandomForestClassif...\n",
       "                                                                                   'la',\n",
       "                                                                                   'que',\n",
       "                                                                                   'el',\n",
       "                                                                                   'en',\n",
       "                                                                                   'y',\n",
       "                                                                                   'a',\n",
       "                                                                                   'los',\n",
       "                                                                                   'del',\n",
       "                                                                                   'se',\n",
       "                                                                                   'las',\n",
       "                                                                                   'por',\n",
       "                                                                                   'un',\n",
       "                                                                                   'para',\n",
       "                                                                                   'con',\n",
       "                                                                                   'no',\n",
       "                                                                                   'una',\n",
       "                                                                                   'su',\n",
       "                                                                                   'al',\n",
       "                                                                                   'lo',\n",
       "                                                                                   'como',\n",
       "                                                                                   'más',\n",
       "                                                                                   'pero',\n",
       "                                                                                   'sus',\n",
       "                                                                                   'le',\n",
       "                                                                                   'ya',\n",
       "                                                                                   'o',\n",
       "                                                                                   'este',\n",
       "                                                                                   'sí',\n",
       "                                                                                   'porque', ...],\n",
       "                                                                       tokenizer=<function word_tokenize at 0x7f67393dd580>)],\n",
       "                                        'vectorizer__lowercase': [True, False]},\n",
       "                   random_state=5, refit='f1', return_train_score=True,\n",
       "                   scoring=['precision', 'recall', 'f1'], verbose=1)"
      ]
     },
     "execution_count": 32,
     "metadata": {},
     "output_type": "execute_result"
    }
   ],
   "source": [
    "search.fit(X_train[\"Textos_espanol\"], y_train)"
   ]
  },
  {
   "cell_type": "code",
   "execution_count": 33,
   "id": "c506c079",
   "metadata": {
    "execution": {
     "iopub.execute_input": "2023-10-29T22:22:14.643341Z",
     "iopub.status.busy": "2023-10-29T22:22:14.642985Z",
     "iopub.status.idle": "2023-10-29T22:22:14.652739Z",
     "shell.execute_reply": "2023-10-29T22:22:14.651883Z"
    }
   },
   "outputs": [
    {
     "data": {
      "text/plain": [
       "{'vectorizer__lowercase': False,\n",
       " 'vectorizer': CountVectorizer(stop_words=['de', 'la', 'que', 'el', 'en', 'y', 'a', 'los',\n",
       "                             'del', 'se', 'las', 'por', 'un', 'para', 'con',\n",
       "                             'no', 'una', 'su', 'al', 'lo', 'como', 'más',\n",
       "                             'pero', 'sus', 'le', 'ya', 'o', 'este', 'sí',\n",
       "                             'porque', ...],\n",
       "                 tokenizer=<function word_tokenize at 0x7f67393dd580>),\n",
       " 'classifier__n_estimators': 100,\n",
       " 'classifier__max_depth': 100,\n",
       " 'classifier__criterion': 'gini'}"
      ]
     },
     "execution_count": 33,
     "metadata": {},
     "output_type": "execute_result"
    }
   ],
   "source": [
    "search.best_params_"
   ]
  },
  {
   "cell_type": "code",
   "execution_count": 34,
   "id": "4d086352",
   "metadata": {
    "execution": {
     "iopub.execute_input": "2023-10-29T22:22:14.657561Z",
     "iopub.status.busy": "2023-10-29T22:22:14.657004Z",
     "iopub.status.idle": "2023-10-29T22:22:14.669374Z",
     "shell.execute_reply": "2023-10-29T22:22:14.668553Z"
    }
   },
   "outputs": [
    {
     "data": {
      "text/plain": [
       "nan"
      ]
     },
     "execution_count": 34,
     "metadata": {},
     "output_type": "execute_result"
    }
   ],
   "source": [
    "search.best_score_"
   ]
  },
  {
   "cell_type": "code",
   "execution_count": 35,
   "id": "11ac2809",
   "metadata": {
    "execution": {
     "iopub.execute_input": "2023-10-29T22:22:14.673143Z",
     "iopub.status.busy": "2023-10-29T22:22:14.672600Z",
     "iopub.status.idle": "2023-10-29T22:22:15.335446Z",
     "shell.execute_reply": "2023-10-29T22:22:15.334640Z"
    }
   },
   "outputs": [],
   "source": [
    "y_train_search_predict = search.best_estimator_.predict(X_train[\"Textos_espanol\"])\n",
    "y_test_search_predict = search.best_estimator_.predict(X_test[\"Textos_espanol\"])\n"
   ]
  },
  {
   "cell_type": "code",
   "execution_count": 36,
   "id": "231fd7b6",
   "metadata": {
    "execution": {
     "iopub.execute_input": "2023-10-29T22:22:15.339060Z",
     "iopub.status.busy": "2023-10-29T22:22:15.338700Z",
     "iopub.status.idle": "2023-10-29T22:22:15.355930Z",
     "shell.execute_reply": "2023-10-29T22:22:15.354968Z"
    }
   },
   "outputs": [
    {
     "name": "stdout",
     "output_type": "stream",
     "text": [
      "Precision: 1.0\n",
      "Recall: 1.0\n",
      "F1: 1.0\n"
     ]
    }
   ],
   "source": [
    "print(PRECISION, precision_score(y_train, y_train_search_predict, average=\"weighted\"))\n",
    "print(RECALL, recall_score(y_train, y_train_search_predict, average=\"weighted\"))\n",
    "print(F1, f1_score(y_train, y_train_search_predict, average=\"weighted\"))"
   ]
  },
  {
   "cell_type": "code",
   "execution_count": 37,
   "id": "0c76675c",
   "metadata": {
    "execution": {
     "iopub.execute_input": "2023-10-29T22:22:15.359119Z",
     "iopub.status.busy": "2023-10-29T22:22:15.358818Z",
     "iopub.status.idle": "2023-10-29T22:22:15.374652Z",
     "shell.execute_reply": "2023-10-29T22:22:15.374041Z"
    }
   },
   "outputs": [
    {
     "name": "stdout",
     "output_type": "stream",
     "text": [
      "Precision: 0.9632026219707408\n",
      "Recall: 0.9627192982456141\n",
      "F1: 0.9621527299887555\n"
     ]
    }
   ],
   "source": [
    "print(PRECISION, precision_score(y_test, y_test_search_predict, average=\"weighted\"))\n",
    "print(RECALL, recall_score(y_test, y_test_search_predict, average=\"weighted\"))\n",
    "print(F1, f1_score(y_test, y_test_search_predict, average=\"weighted\"))"
   ]
  },
  {
   "cell_type": "markdown",
   "id": "46bd93bf",
   "metadata": {},
   "source": [
    "# Predicción y guardado de data"
   ]
  },
  {
   "cell_type": "code",
   "execution_count": 38,
   "id": "1bbfd899",
   "metadata": {
    "execution": {
     "iopub.execute_input": "2023-10-29T22:22:15.378430Z",
     "iopub.status.busy": "2023-10-29T22:22:15.377949Z",
     "iopub.status.idle": "2023-10-29T22:22:15.616772Z",
     "shell.execute_reply": "2023-10-29T22:22:15.616076Z"
    }
   },
   "outputs": [],
   "source": [
    "ods_df_unlabeled = pd.read_csv(\"../data/SinEtiquetatest_cat_6716.csv\")\n",
    "#Predict the labels of the unlabeled data\n",
    "y_unlabeled_predict = search.best_estimator_.predict(ods_df_unlabeled[\"Textos_espanol\"])\n",
    "#Add the predicted labels to the unlabeled data\n",
    "ods_df_unlabeled[\"sdg\"] = y_unlabeled_predict\n",
    "#Save the labeled data\n",
    "ods_df_unlabeled.to_csv(\"../data/Predicted.csv\", index=False)\n"
   ]
  }
 ],
 "metadata": {
  "kernelspec": {
   "display_name": "Python 3 (ipykernel)",
   "language": "python",
   "name": "python3"
  },
  "language_info": {
   "codemirror_mode": {
    "name": "ipython",
    "version": 3
   },
   "file_extension": ".py",
   "mimetype": "text/x-python",
   "name": "python",
   "nbconvert_exporter": "python",
   "pygments_lexer": "ipython3",
   "version": "3.11.5"
  }
 },
 "nbformat": 4,
 "nbformat_minor": 5
}
