{
 "cells": [
  {
   "cell_type": "code",
   "execution_count": 1,
   "metadata": {
    "execution": {
     "iopub.execute_input": "2023-11-10T20:46:12.214499Z",
     "iopub.status.busy": "2023-11-10T20:46:12.214213Z",
     "iopub.status.idle": "2023-11-10T20:46:12.480185Z",
     "shell.execute_reply": "2023-11-10T20:46:12.479622Z"
    }
   },
   "outputs": [],
   "source": [
    "from joblib import load\n",
    "import pandas as pd"
   ]
  },
  {
   "cell_type": "code",
   "execution_count": 2,
   "metadata": {
    "execution": {
     "iopub.execute_input": "2023-11-10T20:46:12.482609Z",
     "iopub.status.busy": "2023-11-10T20:46:12.482273Z",
     "iopub.status.idle": "2023-11-10T20:46:13.242980Z",
     "shell.execute_reply": "2023-11-10T20:46:13.242487Z"
    }
   },
   "outputs": [],
   "source": [
    "pipe_loaded = load(\"./notebooks/fitted_pipeline.joblib\")\n",
    "ods_df_unlabeled = pd.read_csv(\"../data/SinEtiquetatest_cat_6716.csv\")\n",
    "#Predict the labels of the unlabeled data\n",
    "y_unlabeled_predict = pipe_loaded.best_estimator_.predict(ods_df_unlabeled[\"Textos_espanol\"])\n",
    "#Add the predicted labels to the unlabeled data\n",
    "ods_df_unlabeled[\"sdg\"] = y_unlabeled_predict\n",
    "#Save the labeled data\n",
    "ods_df_unlabeled.to_csv(\"../data/Predicted.csv\", index=False)\n"
   ]
  }
 ],
 "metadata": {
  "kernelspec": {
   "display_name": "base",
   "language": "python",
   "name": "python3"
  },
  "language_info": {
   "codemirror_mode": {
    "name": "ipython",
    "version": 3
   },
   "file_extension": ".py",
   "mimetype": "text/x-python",
   "name": "python",
   "nbconvert_exporter": "python",
   "pygments_lexer": "ipython3",
   "version": "3.10.12"
  }
 },
 "nbformat": 4,
 "nbformat_minor": 2
}
