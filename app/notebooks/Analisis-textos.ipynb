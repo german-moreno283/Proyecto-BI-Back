{
 "cells": [
  {
   "cell_type": "markdown",
   "id": "c561be22-73dc-41a2-aa24-8eba8cdf0e83",
   "metadata": {},
   "source": [
    "# Análisis de textos"
   ]
  },
  {
   "cell_type": "code",
   "execution_count": 1,
   "id": "ad2a53c9",
   "metadata": {
    "execution": {
     "iopub.execute_input": "2023-10-29T21:23:25.451960Z",
     "iopub.status.busy": "2023-10-29T21:23:25.451751Z",
     "iopub.status.idle": "2023-10-29T21:23:33.450851Z",
     "shell.execute_reply": "2023-10-29T21:23:33.450039Z"
    }
   },
   "outputs": [
    {
     "name": "stdout",
     "output_type": "stream",
     "text": [
      "Requirement already satisfied: num2words in /home/leo/Documents/back-bi/backend-virtualenv/lib/python3.11/site-packages (0.5.13)\r\n",
      "Requirement already satisfied: docopt>=0.6.2 in /home/leo/Documents/back-bi/backend-virtualenv/lib/python3.11/site-packages (from num2words) (0.6.2)\r\n"
     ]
    },
    {
     "name": "stdout",
     "output_type": "stream",
     "text": [
      "\r\n",
      "\u001b[1m[\u001b[0m\u001b[34;49mnotice\u001b[0m\u001b[1;39;49m]\u001b[0m\u001b[39;49m A new release of pip is available: \u001b[0m\u001b[31;49m23.2.1\u001b[0m\u001b[39;49m -> \u001b[0m\u001b[32;49m23.3.1\u001b[0m\r\n",
      "\u001b[1m[\u001b[0m\u001b[34;49mnotice\u001b[0m\u001b[1;39;49m]\u001b[0m\u001b[39;49m To update, run: \u001b[0m\u001b[32;49mpip install --upgrade pip\u001b[0m\r\n"
     ]
    },
    {
     "name": "stdout",
     "output_type": "stream",
     "text": [
      "Note: you may need to restart the kernel to use updated packages.\n"
     ]
    },
    {
     "name": "stdout",
     "output_type": "stream",
     "text": [
      "Requirement already satisfied: nltk in /home/leo/Documents/back-bi/backend-virtualenv/lib/python3.11/site-packages (3.8.1)\r\n",
      "Requirement already satisfied: click in /home/leo/Documents/back-bi/backend-virtualenv/lib/python3.11/site-packages (from nltk) (8.1.7)\r\n",
      "Requirement already satisfied: joblib in /home/leo/Documents/back-bi/backend-virtualenv/lib/python3.11/site-packages (from nltk) (1.1.1)\r\n",
      "Requirement already satisfied: regex>=2021.8.3 in /home/leo/Documents/back-bi/backend-virtualenv/lib/python3.11/site-packages (from nltk) (2023.10.3)\r\n",
      "Requirement already satisfied: tqdm in /home/leo/Documents/back-bi/backend-virtualenv/lib/python3.11/site-packages (from nltk) (4.66.1)\r\n"
     ]
    },
    {
     "name": "stdout",
     "output_type": "stream",
     "text": [
      "\r\n",
      "\u001b[1m[\u001b[0m\u001b[34;49mnotice\u001b[0m\u001b[1;39;49m]\u001b[0m\u001b[39;49m A new release of pip is available: \u001b[0m\u001b[31;49m23.2.1\u001b[0m\u001b[39;49m -> \u001b[0m\u001b[32;49m23.3.1\u001b[0m\r\n",
      "\u001b[1m[\u001b[0m\u001b[34;49mnotice\u001b[0m\u001b[1;39;49m]\u001b[0m\u001b[39;49m To update, run: \u001b[0m\u001b[32;49mpip install --upgrade pip\u001b[0m\r\n"
     ]
    },
    {
     "name": "stdout",
     "output_type": "stream",
     "text": [
      "Note: you may need to restart the kernel to use updated packages.\n"
     ]
    },
    {
     "name": "stdout",
     "output_type": "stream",
     "text": [
      "\u001b[31mERROR: Invalid requirement: 'numpy,'\u001b[0m\u001b[31m\r\n",
      "\u001b[0m"
     ]
    },
    {
     "name": "stdout",
     "output_type": "stream",
     "text": [
      "\r\n",
      "\u001b[1m[\u001b[0m\u001b[34;49mnotice\u001b[0m\u001b[1;39;49m]\u001b[0m\u001b[39;49m A new release of pip is available: \u001b[0m\u001b[31;49m23.2.1\u001b[0m\u001b[39;49m -> \u001b[0m\u001b[32;49m23.3.1\u001b[0m\r\n",
      "\u001b[1m[\u001b[0m\u001b[34;49mnotice\u001b[0m\u001b[1;39;49m]\u001b[0m\u001b[39;49m To update, run: \u001b[0m\u001b[32;49mpip install --upgrade pip\u001b[0m\r\n"
     ]
    },
    {
     "name": "stdout",
     "output_type": "stream",
     "text": [
      "Note: you may need to restart the kernel to use updated packages.\n"
     ]
    },
    {
     "name": "stdout",
     "output_type": "stream",
     "text": [
      "Requirement already satisfied: pandas-profiling in /home/leo/Documents/back-bi/backend-virtualenv/lib/python3.11/site-packages (3.2.0)\r\n"
     ]
    },
    {
     "name": "stdout",
     "output_type": "stream",
     "text": [
      "Requirement already satisfied: joblib~=1.1.0 in /home/leo/Documents/back-bi/backend-virtualenv/lib/python3.11/site-packages (from pandas-profiling) (1.1.1)\r\n",
      "Requirement already satisfied: scipy>=1.4.1 in /home/leo/Documents/back-bi/backend-virtualenv/lib/python3.11/site-packages (from pandas-profiling) (1.11.3)\r\n",
      "Requirement already satisfied: pandas!=1.0.0,!=1.0.1,!=1.0.2,!=1.1.0,>=0.25.3 in /home/leo/Documents/back-bi/backend-virtualenv/lib/python3.11/site-packages (from pandas-profiling) (2.0.3)\r\n",
      "Requirement already satisfied: matplotlib>=3.2.0 in /home/leo/Documents/back-bi/backend-virtualenv/lib/python3.11/site-packages (from pandas-profiling) (3.7.3)\r\n",
      "Requirement already satisfied: pydantic>=1.8.1 in /home/leo/Documents/back-bi/backend-virtualenv/lib/python3.11/site-packages (from pandas-profiling) (2.4.2)\r\n",
      "Requirement already satisfied: PyYAML>=5.0.0 in /home/leo/Documents/back-bi/backend-virtualenv/lib/python3.11/site-packages (from pandas-profiling) (6.0.1)\r\n",
      "Requirement already satisfied: jinja2>=2.11.1 in /home/leo/Documents/back-bi/backend-virtualenv/lib/python3.11/site-packages (from pandas-profiling) (3.1.2)\r\n",
      "Requirement already satisfied: markupsafe~=2.1.1 in /home/leo/Documents/back-bi/backend-virtualenv/lib/python3.11/site-packages (from pandas-profiling) (2.1.3)\r\n",
      "Requirement already satisfied: visions[type_image_path]==0.7.4 in /home/leo/Documents/back-bi/backend-virtualenv/lib/python3.11/site-packages (from pandas-profiling) (0.7.4)\r\n",
      "Requirement already satisfied: numpy>=1.16.0 in /home/leo/Documents/back-bi/backend-virtualenv/lib/python3.11/site-packages (from pandas-profiling) (1.25.2)\r\n",
      "Requirement already satisfied: htmlmin>=0.1.12 in /home/leo/Documents/back-bi/backend-virtualenv/lib/python3.11/site-packages (from pandas-profiling) (0.1.12)\r\n",
      "Requirement already satisfied: missingno>=0.4.2 in /home/leo/Documents/back-bi/backend-virtualenv/lib/python3.11/site-packages (from pandas-profiling) (0.5.2)\r\n",
      "Requirement already satisfied: phik>=0.11.1 in /home/leo/Documents/back-bi/backend-virtualenv/lib/python3.11/site-packages (from pandas-profiling) (0.12.3)\r\n",
      "Requirement already satisfied: tangled-up-in-unicode==0.2.0 in /home/leo/Documents/back-bi/backend-virtualenv/lib/python3.11/site-packages (from pandas-profiling) (0.2.0)\r\n",
      "Requirement already satisfied: requests>=2.24.0 in /home/leo/Documents/back-bi/backend-virtualenv/lib/python3.11/site-packages (from pandas-profiling) (2.31.0)\r\n"
     ]
    },
    {
     "name": "stdout",
     "output_type": "stream",
     "text": [
      "Requirement already satisfied: tqdm>=4.48.2 in /home/leo/Documents/back-bi/backend-virtualenv/lib/python3.11/site-packages (from pandas-profiling) (4.66.1)\r\n",
      "Requirement already satisfied: seaborn>=0.10.1 in /home/leo/Documents/back-bi/backend-virtualenv/lib/python3.11/site-packages (from pandas-profiling) (0.12.2)\r\n",
      "Requirement already satisfied: multimethod>=1.4 in /home/leo/Documents/back-bi/backend-virtualenv/lib/python3.11/site-packages (from pandas-profiling) (1.10)\r\n"
     ]
    },
    {
     "name": "stdout",
     "output_type": "stream",
     "text": [
      "Requirement already satisfied: attrs>=19.3.0 in /home/leo/Documents/back-bi/backend-virtualenv/lib/python3.11/site-packages (from visions[type_image_path]==0.7.4->pandas-profiling) (23.1.0)\r\n",
      "Requirement already satisfied: networkx>=2.4 in /home/leo/Documents/back-bi/backend-virtualenv/lib/python3.11/site-packages (from visions[type_image_path]==0.7.4->pandas-profiling) (3.2.1)\r\n",
      "Requirement already satisfied: imagehash in /home/leo/Documents/back-bi/backend-virtualenv/lib/python3.11/site-packages (from visions[type_image_path]==0.7.4->pandas-profiling) (4.3.1)\r\n",
      "Requirement already satisfied: Pillow in /home/leo/Documents/back-bi/backend-virtualenv/lib/python3.11/site-packages (from visions[type_image_path]==0.7.4->pandas-profiling) (10.1.0)\r\n",
      "Requirement already satisfied: contourpy>=1.0.1 in /home/leo/Documents/back-bi/backend-virtualenv/lib/python3.11/site-packages (from matplotlib>=3.2.0->pandas-profiling) (1.1.1)\r\n",
      "Requirement already satisfied: cycler>=0.10 in /home/leo/Documents/back-bi/backend-virtualenv/lib/python3.11/site-packages (from matplotlib>=3.2.0->pandas-profiling) (0.12.1)\r\n",
      "Requirement already satisfied: fonttools>=4.22.0 in /home/leo/Documents/back-bi/backend-virtualenv/lib/python3.11/site-packages (from matplotlib>=3.2.0->pandas-profiling) (4.43.1)\r\n",
      "Requirement already satisfied: kiwisolver>=1.0.1 in /home/leo/Documents/back-bi/backend-virtualenv/lib/python3.11/site-packages (from matplotlib>=3.2.0->pandas-profiling) (1.4.5)\r\n",
      "Requirement already satisfied: packaging>=20.0 in /home/leo/Documents/back-bi/backend-virtualenv/lib/python3.11/site-packages (from matplotlib>=3.2.0->pandas-profiling) (23.2)\r\n"
     ]
    },
    {
     "name": "stdout",
     "output_type": "stream",
     "text": [
      "Requirement already satisfied: pyparsing>=2.3.1 in /home/leo/Documents/back-bi/backend-virtualenv/lib/python3.11/site-packages (from matplotlib>=3.2.0->pandas-profiling) (3.1.1)\r\n",
      "Requirement already satisfied: python-dateutil>=2.7 in /home/leo/Documents/back-bi/backend-virtualenv/lib/python3.11/site-packages (from matplotlib>=3.2.0->pandas-profiling) (2.8.2)\r\n"
     ]
    },
    {
     "name": "stdout",
     "output_type": "stream",
     "text": [
      "Requirement already satisfied: pytz>=2020.1 in /home/leo/Documents/back-bi/backend-virtualenv/lib/python3.11/site-packages (from pandas!=1.0.0,!=1.0.1,!=1.0.2,!=1.1.0,>=0.25.3->pandas-profiling) (2023.3.post1)\r\n",
      "Requirement already satisfied: tzdata>=2022.1 in /home/leo/Documents/back-bi/backend-virtualenv/lib/python3.11/site-packages (from pandas!=1.0.0,!=1.0.1,!=1.0.2,!=1.1.0,>=0.25.3->pandas-profiling) (2023.3)\r\n",
      "Requirement already satisfied: annotated-types>=0.4.0 in /home/leo/Documents/back-bi/backend-virtualenv/lib/python3.11/site-packages (from pydantic>=1.8.1->pandas-profiling) (0.6.0)\r\n",
      "Requirement already satisfied: pydantic-core==2.10.1 in /home/leo/Documents/back-bi/backend-virtualenv/lib/python3.11/site-packages (from pydantic>=1.8.1->pandas-profiling) (2.10.1)\r\n",
      "Requirement already satisfied: typing-extensions>=4.6.1 in /home/leo/Documents/back-bi/backend-virtualenv/lib/python3.11/site-packages (from pydantic>=1.8.1->pandas-profiling) (4.8.0)\r\n"
     ]
    },
    {
     "name": "stdout",
     "output_type": "stream",
     "text": [
      "Requirement already satisfied: charset-normalizer<4,>=2 in /home/leo/Documents/back-bi/backend-virtualenv/lib/python3.11/site-packages (from requests>=2.24.0->pandas-profiling) (3.3.1)\r\n",
      "Requirement already satisfied: idna<4,>=2.5 in /home/leo/Documents/back-bi/backend-virtualenv/lib/python3.11/site-packages (from requests>=2.24.0->pandas-profiling) (3.4)\r\n",
      "Requirement already satisfied: urllib3<3,>=1.21.1 in /home/leo/Documents/back-bi/backend-virtualenv/lib/python3.11/site-packages (from requests>=2.24.0->pandas-profiling) (2.0.7)\r\n",
      "Requirement already satisfied: certifi>=2017.4.17 in /home/leo/Documents/back-bi/backend-virtualenv/lib/python3.11/site-packages (from requests>=2.24.0->pandas-profiling) (2023.7.22)\r\n"
     ]
    },
    {
     "name": "stdout",
     "output_type": "stream",
     "text": [
      "Requirement already satisfied: six>=1.5 in /home/leo/Documents/back-bi/backend-virtualenv/lib/python3.11/site-packages (from python-dateutil>=2.7->matplotlib>=3.2.0->pandas-profiling) (1.16.0)\r\n",
      "Requirement already satisfied: PyWavelets in /home/leo/Documents/back-bi/backend-virtualenv/lib/python3.11/site-packages (from imagehash->visions[type_image_path]==0.7.4->pandas-profiling) (1.4.1)\r\n"
     ]
    },
    {
     "name": "stdout",
     "output_type": "stream",
     "text": [
      "\r\n",
      "\u001b[1m[\u001b[0m\u001b[34;49mnotice\u001b[0m\u001b[1;39;49m]\u001b[0m\u001b[39;49m A new release of pip is available: \u001b[0m\u001b[31;49m23.2.1\u001b[0m\u001b[39;49m -> \u001b[0m\u001b[32;49m23.3.1\u001b[0m\r\n",
      "\u001b[1m[\u001b[0m\u001b[34;49mnotice\u001b[0m\u001b[1;39;49m]\u001b[0m\u001b[39;49m To update, run: \u001b[0m\u001b[32;49mpip install --upgrade pip\u001b[0m\r\n"
     ]
    },
    {
     "name": "stdout",
     "output_type": "stream",
     "text": [
      "Note: you may need to restart the kernel to use updated packages.\n"
     ]
    }
   ],
   "source": [
    "%pip install num2words\n",
    "%pip install nltk\n",
    "\n",
    "%pip install numpy, pandas, matplotlib, seaborn, sklearn, pydantic, inflect, gensim\n",
    "%pip install pandas-profiling"
   ]
  },
  {
   "cell_type": "code",
   "execution_count": 2,
   "id": "5630835a",
   "metadata": {
    "execution": {
     "iopub.execute_input": "2023-10-29T21:23:33.455015Z",
     "iopub.status.busy": "2023-10-29T21:23:33.454627Z",
     "iopub.status.idle": "2023-10-29T21:23:36.831444Z",
     "shell.execute_reply": "2023-10-29T21:23:36.830770Z"
    }
   },
   "outputs": [
    {
     "name": "stderr",
     "output_type": "stream",
     "text": [
      "/home/leo/Documents/back-bi/backend-virtualenv/lib/python3.11/site-packages/tqdm/auto.py:21: TqdmWarning: IProgress not found. Please update jupyter and ipywidgets. See https://ipywidgets.readthedocs.io/en/stable/user_install.html\n",
      "  from .autonotebook import tqdm as notebook_tqdm\n"
     ]
    },
    {
     "name": "stderr",
     "output_type": "stream",
     "text": [
      "/tmp/ipykernel_159608/1941605045.py:26: DeprecationWarning: `import pandas_profiling` is going to be deprecated by April 1st. Please use `import ydata_profiling` instead.\n",
      "  from pandas_profiling import ProfileReport\n"
     ]
    }
   ],
   "source": [
    "import numpy as np\n",
    "import pandas as pd\n",
    "\n",
    "from matplotlib import pyplot as plt\n",
    "import num2words\n",
    "import re, unicodedata, inflect\n",
    "import nltk\n",
    "from gensim.models import Word2Vec\n",
    "from nltk import word_tokenize, sent_tokenize\n",
    "from nltk.corpus import stopwords\n",
    "from nltk.tokenize import word_tokenize\n",
    "\n",
    "from sklearn.ensemble import RandomForestClassifier\n",
    "from sklearn.metrics import classification_report\n",
    "from sklearn.feature_extraction.text import CountVectorizer, TfidfVectorizer\n",
    "from sklearn.metrics import (\n",
    "    ConfusionMatrixDisplay, RocCurveDisplay,\n",
    "    roc_auc_score, precision_score, recall_score, f1_score\n",
    ")\n",
    "from sklearn.model_selection import train_test_split, RandomizedSearchCV\n",
    "from sklearn.pipeline import Pipeline\n",
    "from sklearn.model_selection import train_test_split\n",
    "from sklearn.model_selection import train_test_split\n",
    "from sklearn.svm import SVC\n",
    "from sklearn.metrics import classification_report\n",
    "from pandas_profiling import ProfileReport\n"
   ]
  },
  {
   "cell_type": "code",
   "execution_count": 3,
   "id": "31dd8bb4",
   "metadata": {
    "execution": {
     "iopub.execute_input": "2023-10-29T21:23:36.834709Z",
     "iopub.status.busy": "2023-10-29T21:23:36.834268Z",
     "iopub.status.idle": "2023-10-29T21:23:36.839167Z",
     "shell.execute_reply": "2023-10-29T21:23:36.838293Z"
    }
   },
   "outputs": [],
   "source": [
    "import warnings\n",
    "warnings.filterwarnings(\"ignore\")"
   ]
  },
  {
   "cell_type": "code",
   "execution_count": 4,
   "id": "3acdd5bd",
   "metadata": {
    "execution": {
     "iopub.execute_input": "2023-10-29T21:23:36.842672Z",
     "iopub.status.busy": "2023-10-29T21:23:36.842377Z",
     "iopub.status.idle": "2023-10-29T21:23:37.056055Z",
     "shell.execute_reply": "2023-10-29T21:23:37.055410Z"
    }
   },
   "outputs": [
    {
     "data": {
      "text/plain": [
       "[<matplotlib.lines.Line2D at 0x7f791b87d290>]"
      ]
     },
     "execution_count": 4,
     "metadata": {},
     "output_type": "execute_result"
    },
    {
     "data": {
      "image/png": "[encoded data removed]",
      "text/plain": [
       "<Figure size 640x480 with 1 Axes>"
      ]
     },
     "metadata": {},
     "output_type": "display_data"
    }
   ],
   "source": [
    "import matplotlib.pyplot as plt\n",
    "plt.plot([1,2,3,4])"
   ]
  },
  {
   "cell_type": "code",
   "execution_count": 5,
   "id": "8f934984",
   "metadata": {
    "execution": {
     "iopub.execute_input": "2023-10-29T21:23:37.059766Z",
     "iopub.status.busy": "2023-10-29T21:23:37.059310Z",
     "iopub.status.idle": "2023-10-29T21:23:37.062808Z",
     "shell.execute_reply": "2023-10-29T21:23:37.062178Z"
    }
   },
   "outputs": [],
   "source": [
    "RECALL = \"Recall:\"\n",
    "PRECISION = \"Precision:\"\n",
    "F1 = \"F1:\""
   ]
  },
  {
   "cell_type": "code",
   "execution_count": 6,
   "id": "d6ed92f2",
   "metadata": {
    "execution": {
     "iopub.execute_input": "2023-10-29T21:23:37.065823Z",
     "iopub.status.busy": "2023-10-29T21:23:37.065462Z",
     "iopub.status.idle": "2023-10-29T21:23:37.078924Z",
     "shell.execute_reply": "2023-10-29T21:23:37.078311Z"
    }
   },
   "outputs": [],
   "source": [
    "# Configuring pandas to show all cell content\n",
    "pd.set_option(\"display.max_colwidth\", None)"
   ]
  },
  {
   "cell_type": "code",
   "execution_count": 7,
   "id": "ce5d02a0",
   "metadata": {
    "execution": {
     "iopub.execute_input": "2023-10-29T21:23:37.082377Z",
     "iopub.status.busy": "2023-10-29T21:23:37.081973Z",
     "iopub.status.idle": "2023-10-29T21:23:37.209332Z",
     "shell.execute_reply": "2023-10-29T21:23:37.208772Z"
    }
   },
   "outputs": [
    {
     "name": "stderr",
     "output_type": "stream",
     "text": [
      "[nltk_data] Downloading package punkt to /home/leo/nltk_data...\n",
      "[nltk_data]   Package punkt is already up-to-date!\n",
      "[nltk_data] Downloading package stopwords to /home/leo/nltk_data...\n",
      "[nltk_data]   Package stopwords is already up-to-date!\n"
     ]
    }
   ],
   "source": [
    "# Downloading stopwords\n",
    "nltk.download(\"punkt\")\n",
    "nltk.download(\"stopwords\")\n",
    "stop_words = stopwords.words(\"spanish\")"
   ]
  },
  {
   "cell_type": "code",
   "execution_count": 8,
   "id": "afb01c89",
   "metadata": {
    "execution": {
     "iopub.execute_input": "2023-10-29T21:23:37.212592Z",
     "iopub.status.busy": "2023-10-29T21:23:37.212281Z",
     "iopub.status.idle": "2023-10-29T21:23:37.219615Z",
     "shell.execute_reply": "2023-10-29T21:23:37.219082Z"
    }
   },
   "outputs": [
    {
     "data": {
      "text/plain": [
       "['de',\n",
       " 'la',\n",
       " 'que',\n",
       " 'el',\n",
       " 'en',\n",
       " 'y',\n",
       " 'a',\n",
       " 'los',\n",
       " 'del',\n",
       " 'se',\n",
       " 'las',\n",
       " 'por',\n",
       " 'un',\n",
       " 'para',\n",
       " 'con',\n",
       " 'no',\n",
       " 'una',\n",
       " 'su',\n",
       " 'al',\n",
       " 'lo',\n",
       " 'como',\n",
       " 'más',\n",
       " 'pero',\n",
       " 'sus',\n",
       " 'le',\n",
       " 'ya',\n",
       " 'o',\n",
       " 'este',\n",
       " 'sí',\n",
       " 'porque',\n",
       " 'esta',\n",
       " 'entre',\n",
       " 'cuando',\n",
       " 'muy',\n",
       " 'sin',\n",
       " 'sobre',\n",
       " 'también',\n",
       " 'me',\n",
       " 'hasta',\n",
       " 'hay',\n",
       " 'donde',\n",
       " 'quien',\n",
       " 'desde',\n",
       " 'todo',\n",
       " 'nos',\n",
       " 'durante',\n",
       " 'todos',\n",
       " 'uno',\n",
       " 'les',\n",
       " 'ni',\n",
       " 'contra',\n",
       " 'otros',\n",
       " 'ese',\n",
       " 'eso',\n",
       " 'ante',\n",
       " 'ellos',\n",
       " 'e',\n",
       " 'esto',\n",
       " 'mí',\n",
       " 'antes',\n",
       " 'algunos',\n",
       " 'qué',\n",
       " 'unos',\n",
       " 'yo',\n",
       " 'otro',\n",
       " 'otras',\n",
       " 'otra',\n",
       " 'él',\n",
       " 'tanto',\n",
       " 'esa',\n",
       " 'estos',\n",
       " 'mucho',\n",
       " 'quienes',\n",
       " 'nada',\n",
       " 'muchos',\n",
       " 'cual',\n",
       " 'poco',\n",
       " 'ella',\n",
       " 'estar',\n",
       " 'estas',\n",
       " 'algunas',\n",
       " 'algo',\n",
       " 'nosotros',\n",
       " 'mi',\n",
       " 'mis',\n",
       " 'tú',\n",
       " 'te',\n",
       " 'ti',\n",
       " 'tu',\n",
       " 'tus',\n",
       " 'ellas',\n",
       " 'nosotras',\n",
       " 'vosotros',\n",
       " 'vosotras',\n",
       " 'os',\n",
       " 'mío',\n",
       " 'mía',\n",
       " 'míos',\n",
       " 'mías',\n",
       " 'tuyo',\n",
       " 'tuya',\n",
       " 'tuyos',\n",
       " 'tuyas',\n",
       " 'suyo',\n",
       " 'suya',\n",
       " 'suyos',\n",
       " 'suyas',\n",
       " 'nuestro',\n",
       " 'nuestra',\n",
       " 'nuestros',\n",
       " 'nuestras',\n",
       " 'vuestro',\n",
       " 'vuestra',\n",
       " 'vuestros',\n",
       " 'vuestras',\n",
       " 'esos',\n",
       " 'esas',\n",
       " 'estoy',\n",
       " 'estás',\n",
       " 'está',\n",
       " 'estamos',\n",
       " 'estáis',\n",
       " 'están',\n",
       " 'esté',\n",
       " 'estés',\n",
       " 'estemos',\n",
       " 'estéis',\n",
       " 'estén',\n",
       " 'estaré',\n",
       " 'estarás',\n",
       " 'estará',\n",
       " 'estaremos',\n",
       " 'estaréis',\n",
       " 'estarán',\n",
       " 'estaría',\n",
       " 'estarías',\n",
       " 'estaríamos',\n",
       " 'estaríais',\n",
       " 'estarían',\n",
       " 'estaba',\n",
       " 'estabas',\n",
       " 'estábamos',\n",
       " 'estabais',\n",
       " 'estaban',\n",
       " 'estuve',\n",
       " 'estuviste',\n",
       " 'estuvo',\n",
       " 'estuvimos',\n",
       " 'estuvisteis',\n",
       " 'estuvieron',\n",
       " 'estuviera',\n",
       " 'estuvieras',\n",
       " 'estuviéramos',\n",
       " 'estuvierais',\n",
       " 'estuvieran',\n",
       " 'estuviese',\n",
       " 'estuvieses',\n",
       " 'estuviésemos',\n",
       " 'estuvieseis',\n",
       " 'estuviesen',\n",
       " 'estando',\n",
       " 'estado',\n",
       " 'estada',\n",
       " 'estados',\n",
       " 'estadas',\n",
       " 'estad',\n",
       " 'he',\n",
       " 'has',\n",
       " 'ha',\n",
       " 'hemos',\n",
       " 'habéis',\n",
       " 'han',\n",
       " 'haya',\n",
       " 'hayas',\n",
       " 'hayamos',\n",
       " 'hayáis',\n",
       " 'hayan',\n",
       " 'habré',\n",
       " 'habrás',\n",
       " 'habrá',\n",
       " 'habremos',\n",
       " 'habréis',\n",
       " 'habrán',\n",
       " 'habría',\n",
       " 'habrías',\n",
       " 'habríamos',\n",
       " 'habríais',\n",
       " 'habrían',\n",
       " 'había',\n",
       " 'habías',\n",
       " 'habíamos',\n",
       " 'habíais',\n",
       " 'habían',\n",
       " 'hube',\n",
       " 'hubiste',\n",
       " 'hubo',\n",
       " 'hubimos',\n",
       " 'hubisteis',\n",
       " 'hubieron',\n",
       " 'hubiera',\n",
       " 'hubieras',\n",
       " 'hubiéramos',\n",
       " 'hubierais',\n",
       " 'hubieran',\n",
       " 'hubiese',\n",
       " 'hubieses',\n",
       " 'hubiésemos',\n",
       " 'hubieseis',\n",
       " 'hubiesen',\n",
       " 'habiendo',\n",
       " 'habido',\n",
       " 'habida',\n",
       " 'habidos',\n",
       " 'habidas',\n",
       " 'soy',\n",
       " 'eres',\n",
       " 'es',\n",
       " 'somos',\n",
       " 'sois',\n",
       " 'son',\n",
       " 'sea',\n",
       " 'seas',\n",
       " 'seamos',\n",
       " 'seáis',\n",
       " 'sean',\n",
       " 'seré',\n",
       " 'serás',\n",
       " 'será',\n",
       " 'seremos',\n",
       " 'seréis',\n",
       " 'serán',\n",
       " 'sería',\n",
       " 'serías',\n",
       " 'seríamos',\n",
       " 'seríais',\n",
       " 'serían',\n",
       " 'era',\n",
       " 'eras',\n",
       " 'éramos',\n",
       " 'erais',\n",
       " 'eran',\n",
       " 'fui',\n",
       " 'fuiste',\n",
       " 'fue',\n",
       " 'fuimos',\n",
       " 'fuisteis',\n",
       " 'fueron',\n",
       " 'fuera',\n",
       " 'fueras',\n",
       " 'fuéramos',\n",
       " 'fuerais',\n",
       " 'fueran',\n",
       " 'fuese',\n",
       " 'fueses',\n",
       " 'fuésemos',\n",
       " 'fueseis',\n",
       " 'fuesen',\n",
       " 'sintiendo',\n",
       " 'sentido',\n",
       " 'sentida',\n",
       " 'sentidos',\n",
       " 'sentidas',\n",
       " 'siente',\n",
       " 'sentid',\n",
       " 'tengo',\n",
       " 'tienes',\n",
       " 'tiene',\n",
       " 'tenemos',\n",
       " 'tenéis',\n",
       " 'tienen',\n",
       " 'tenga',\n",
       " 'tengas',\n",
       " 'tengamos',\n",
       " 'tengáis',\n",
       " 'tengan',\n",
       " 'tendré',\n",
       " 'tendrás',\n",
       " 'tendrá',\n",
       " 'tendremos',\n",
       " 'tendréis',\n",
       " 'tendrán',\n",
       " 'tendría',\n",
       " 'tendrías',\n",
       " 'tendríamos',\n",
       " 'tendríais',\n",
       " 'tendrían',\n",
       " 'tenía',\n",
       " 'tenías',\n",
       " 'teníamos',\n",
       " 'teníais',\n",
       " 'tenían',\n",
       " 'tuve',\n",
       " 'tuviste',\n",
       " 'tuvo',\n",
       " 'tuvimos',\n",
       " 'tuvisteis',\n",
       " 'tuvieron',\n",
       " 'tuviera',\n",
       " 'tuvieras',\n",
       " 'tuviéramos',\n",
       " 'tuvierais',\n",
       " 'tuvieran',\n",
       " 'tuviese',\n",
       " 'tuvieses',\n",
       " 'tuviésemos',\n",
       " 'tuvieseis',\n",
       " 'tuviesen',\n",
       " 'teniendo',\n",
       " 'tenido',\n",
       " 'tenida',\n",
       " 'tenidos',\n",
       " 'tenidas',\n",
       " 'tened']"
      ]
     },
     "execution_count": 8,
     "metadata": {},
     "output_type": "execute_result"
    }
   ],
   "source": [
    "stop_words"
   ]
  },
  {
   "cell_type": "code",
   "execution_count": 9,
   "id": "67b6048a",
   "metadata": {
    "execution": {
     "iopub.execute_input": "2023-10-29T21:23:37.222423Z",
     "iopub.status.busy": "2023-10-29T21:23:37.222093Z",
     "iopub.status.idle": "2023-10-29T21:23:37.252376Z",
     "shell.execute_reply": "2023-10-29T21:23:37.251647Z"
    }
   },
   "outputs": [],
   "source": [
    "ods_df = pd.read_csv(\"../data/cat_6716.csv\")"
   ]
  },
  {
   "cell_type": "code",
   "execution_count": 10,
   "id": "fb21c72f",
   "metadata": {
    "execution": {
     "iopub.execute_input": "2023-10-29T21:23:37.255489Z",
     "iopub.status.busy": "2023-10-29T21:23:37.255237Z",
     "iopub.status.idle": "2023-10-29T21:23:37.259820Z",
     "shell.execute_reply": "2023-10-29T21:23:37.259153Z"
    }
   },
   "outputs": [
    {
     "data": {
      "text/plain": [
       "(1518, 2)"
      ]
     },
     "execution_count": 10,
     "metadata": {},
     "output_type": "execute_result"
    }
   ],
   "source": [
    "ods_df.shape"
   ]
  },
  {
   "cell_type": "code",
   "execution_count": 11,
   "id": "6478347d",
   "metadata": {
    "execution": {
     "iopub.execute_input": "2023-10-29T21:23:37.262629Z",
     "iopub.status.busy": "2023-10-29T21:23:37.262340Z",
     "iopub.status.idle": "2023-10-29T21:23:37.274390Z",
     "shell.execute_reply": "2023-10-29T21:23:37.273857Z"
    }
   },
   "outputs": [
    {
     "data": {
      "text/html": [
       "<div>\n",
       "<style scoped>\n",
       "    .dataframe tbody tr th:only-of-type {\n",
       "        vertical-align: middle;\n",
       "    }\n",
       "\n",
       "    .dataframe tbody tr th {\n",
       "        vertical-align: top;\n",
       "    }\n",
       "\n",
       "    .dataframe thead th {\n",
       "        text-align: right;\n",
       "    }\n",
       "</style>\n",
       "<table border=\"1\" class=\"dataframe\">\n",
       "  <thead>\n",
       "    <tr style=\"text-align: right;\">\n",
       "      <th></th>\n",
       "      <th>Textos_espanol</th>\n",
       "      <th>sdg</th>\n",
       "    </tr>\n",
       "  </thead>\n",
       "  <tbody>\n",
       "    <tr>\n",
       "      <th>227</th>\n",
       "      <td>La capacitación en gestión del uso del agua puede ser invaluable para la gestión de la demanda de agua. La implementación de la economía verde brinda la oportunidad de reenfocar las prioridades de desarrollo en el agua. Durante el proceso de la entrevista, un experto en agua comentó: 'en el futuro no podemos vivir sin la economía verde, por lo tanto, debemos pensar en verde en todo lo que hacemos, comenzando por la gestión del agua'. Se reconoce que la infraestructura hidráulica nacional es arcaica y necesita ser mejorada. Se recomienda enfáticamente la infusión de tecnologías apropiadas, incluidas las tecnologías de la información y las comunicaciones, en el sector del agua.</td>\n",
       "      <td>6</td>\n",
       "    </tr>\n",
       "    <tr>\n",
       "      <th>1101</th>\n",
       "      <td>Los diez proyectos seleccionados se beneficiarán de la emisión simplificada de permisos y la posibilidad de incentivos regulatorios, asignación de costos transfronterizos y financiamiento bajo el Instrumento de Asistencia Pre-Adhesión de la Unión Europea (UE) y el Mecanismo de Inversión en la Vecindad. Además, se han aprobado dos proyectos de electricidad y ocho de gas como Proyectos de Interés Mutuo con la UE. Requerirá una voluntad política e institucional sostenida para que las economías logren objetivos compartidos tanto a nivel nacional como regional mediante la implementación de los marcos legislativos y regulatorios adoptados. En la actualidad, el cumplimiento del Tercer Paquete de Energía de la UE es, en el mejor de los casos, irregular, pero es un requisito previo esencial para la interoperabilidad de los sistemas energéticos de la SEE y la UE, así como para mejorar la productividad y la competitividad del sector a nivel regional y nacional.</td>\n",
       "      <td>7</td>\n",
       "    </tr>\n",
       "    <tr>\n",
       "      <th>726</th>\n",
       "      <td>La carga orgánica de las aguas residuales industriales tratadas vertidas a las aguas receptoras naturales representa el 3,142 por ciento de la carga orgánica de las aguas residuales urbanas vertidas a las aguas receptoras naturales. La Directiva del Consejo 76/464/EEC del 4 de mayo de 1976 sobre la contaminación causada por ciertas sustancias peligrosas vertidas en el medio ambiente acuático de la Comunidad ha sido transpuesta a la legislación rumana por MO No. El Anexo 2 de este GD modificatorio establece valores límite para contaminantes en aguas superficiales los cuales son altamente tóxicos, persistentes y bioacumulativos, además de estipular normas ambientales y estándares de calidad. El Anexo 6 ??contiene lineamientos para desarrollar un inventario de emisiones, descargas y pérdidas de sustancias prioritarias y contaminantes específicos.</td>\n",
       "      <td>6</td>\n",
       "    </tr>\n",
       "    <tr>\n",
       "      <th>1322</th>\n",
       "      <td>El reciente aumento de la investigación sobre la \"buena gobernanza\" y la calidad de las instituciones gubernamentales ha sido impulsado por hallazgos empíricos que muestran que tales instituciones pueden ser la clave para comprender el crecimiento económico y el bienestar social en los países en desarrollo y en transición. Sin embargo, argumentamos que no se ha abordado un tema clave, a saber, qué significa realmente la calidad de gobierno (QoG) a nivel conceptual. Con base en análisis de teoría política, proponemos una definición más coherente y específica de QoG: la imparcialidad de las instituciones que ejercen la autoridad gubernamental. Relacionamos la idea de imparcialidad con una serie de críticas provenientes de los campos de la administración pública, la elección pública, el multiculturalismo y el feminismo. Para ubicar la teoría de la imparcialidad en un contexto más amplio, luego contrastamos su alcance y significado con el de un conjunto triple de conceptos de calidad de gobierno que compiten entre sí: democracia, estado de derecho y eficiencia/eficacia.</td>\n",
       "      <td>16</td>\n",
       "    </tr>\n",
       "    <tr>\n",
       "      <th>1453</th>\n",
       "      <td>La asistencia para el desarrollo de China en África ha atraído diversas críticas de académicos, gobiernos occidentales y organizaciones internacionales de donantes. Las principales críticas se han dirigido a la falta de buenas condiciones de gobernanza en su asistencia para el desarrollo a los gobiernos africanos y sus tratos con países sancionados o aislados de la comunidad internacional, debido a la mala gobernanza, los abusos de los derechos humanos y/o la corrupción. Utilizando el caso de Zimbabue en el período actual, se evalúa el impacto de la asistencia para el desarrollo de China en sus perspectivas de desarrollo sostenible. Desde el año 2000, Zimbabue ha experimentado una crisis de gobernabilidad que condujo a un declive socioeconómico y político. Podría decirse que esta crisis se ha visto exacerbada por la variada asistencia de China al régimen de Robert Mugabe, así como por la protección de China del régimen en el Consejo de Seguridad de las Naciones Unidas. Se argumenta que sin fomentar la buena gobernanza y gestionar esta relación en beneficio de Zimbabue, Harare no verá...</td>\n",
       "      <td>16</td>\n",
       "    </tr>\n",
       "  </tbody>\n",
       "</table>\n",
       "</div>"
      ],
      "text/plain": [
       "                                                                                                                                                                                                                                                                                                                                                                                                                                                                                                                                                                                                                                                                                                                                                                                                                                                                                                                                                                                                                                                                                                                                       Textos_espanol  \\\n",
       "227                                                                                                                                                                                                                                                                                                                                                                                                                                      La capacitación en gestión del uso del agua puede ser invaluable para la gestión de la demanda de agua. La implementación de la economía verde brinda la oportunidad de reenfocar las prioridades de desarrollo en el agua. Durante el proceso de la entrevista, un experto en agua comentó: 'en el futuro no podemos vivir sin la economía verde, por lo tanto, debemos pensar en verde en todo lo que hacemos, comenzando por la gestión del agua'. Se reconoce que la infraestructura hidráulica nacional es arcaica y necesita ser mejorada. Se recomienda enfáticamente la infusión de tecnologías apropiadas, incluidas las tecnologías de la información y las comunicaciones, en el sector del agua.   \n",
       "1101                                                                                                                                             Los diez proyectos seleccionados se beneficiarán de la emisión simplificada de permisos y la posibilidad de incentivos regulatorios, asignación de costos transfronterizos y financiamiento bajo el Instrumento de Asistencia Pre-Adhesión de la Unión Europea (UE) y el Mecanismo de Inversión en la Vecindad. Además, se han aprobado dos proyectos de electricidad y ocho de gas como Proyectos de Interés Mutuo con la UE. Requerirá una voluntad política e institucional sostenida para que las economías logren objetivos compartidos tanto a nivel nacional como regional mediante la implementación de los marcos legislativos y regulatorios adoptados. En la actualidad, el cumplimiento del Tercer Paquete de Energía de la UE es, en el mejor de los casos, irregular, pero es un requisito previo esencial para la interoperabilidad de los sistemas energéticos de la SEE y la UE, así como para mejorar la productividad y la competitividad del sector a nivel regional y nacional.   \n",
       "726                                                                                                                                                                                                                                                           La carga orgánica de las aguas residuales industriales tratadas vertidas a las aguas receptoras naturales representa el 3,142 por ciento de la carga orgánica de las aguas residuales urbanas vertidas a las aguas receptoras naturales. La Directiva del Consejo 76/464/EEC del 4 de mayo de 1976 sobre la contaminación causada por ciertas sustancias peligrosas vertidas en el medio ambiente acuático de la Comunidad ha sido transpuesta a la legislación rumana por MO No. El Anexo 2 de este GD modificatorio establece valores límite para contaminantes en aguas superficiales los cuales son altamente tóxicos, persistentes y bioacumulativos, además de estipular normas ambientales y estándares de calidad. El Anexo 6 ??contiene lineamientos para desarrollar un inventario de emisiones, descargas y pérdidas de sustancias prioritarias y contaminantes específicos.   \n",
       "1322                       El reciente aumento de la investigación sobre la \"buena gobernanza\" y la calidad de las instituciones gubernamentales ha sido impulsado por hallazgos empíricos que muestran que tales instituciones pueden ser la clave para comprender el crecimiento económico y el bienestar social en los países en desarrollo y en transición. Sin embargo, argumentamos que no se ha abordado un tema clave, a saber, qué significa realmente la calidad de gobierno (QoG) a nivel conceptual. Con base en análisis de teoría política, proponemos una definición más coherente y específica de QoG: la imparcialidad de las instituciones que ejercen la autoridad gubernamental. Relacionamos la idea de imparcialidad con una serie de críticas provenientes de los campos de la administración pública, la elección pública, el multiculturalismo y el feminismo. Para ubicar la teoría de la imparcialidad en un contexto más amplio, luego contrastamos su alcance y significado con el de un conjunto triple de conceptos de calidad de gobierno que compiten entre sí: democracia, estado de derecho y eficiencia/eficacia.   \n",
       "1453  La asistencia para el desarrollo de China en África ha atraído diversas críticas de académicos, gobiernos occidentales y organizaciones internacionales de donantes. Las principales críticas se han dirigido a la falta de buenas condiciones de gobernanza en su asistencia para el desarrollo a los gobiernos africanos y sus tratos con países sancionados o aislados de la comunidad internacional, debido a la mala gobernanza, los abusos de los derechos humanos y/o la corrupción. Utilizando el caso de Zimbabue en el período actual, se evalúa el impacto de la asistencia para el desarrollo de China en sus perspectivas de desarrollo sostenible. Desde el año 2000, Zimbabue ha experimentado una crisis de gobernabilidad que condujo a un declive socioeconómico y político. Podría decirse que esta crisis se ha visto exacerbada por la variada asistencia de China al régimen de Robert Mugabe, así como por la protección de China del régimen en el Consejo de Seguridad de las Naciones Unidas. Se argumenta que sin fomentar la buena gobernanza y gestionar esta relación en beneficio de Zimbabue, Harare no verá...   \n",
       "\n",
       "      sdg  \n",
       "227     6  \n",
       "1101    7  \n",
       "726     6  \n",
       "1322   16  \n",
       "1453   16  "
      ]
     },
     "execution_count": 11,
     "metadata": {},
     "output_type": "execute_result"
    }
   ],
   "source": [
    "ods_df.sample(5)"
   ]
  },
  {
   "cell_type": "code",
   "execution_count": 12,
   "id": "6ef070cb",
   "metadata": {
    "execution": {
     "iopub.execute_input": "2023-10-29T21:23:37.277021Z",
     "iopub.status.busy": "2023-10-29T21:23:37.276778Z",
     "iopub.status.idle": "2023-10-29T21:23:37.283769Z",
     "shell.execute_reply": "2023-10-29T21:23:37.283257Z"
    }
   },
   "outputs": [
    {
     "data": {
      "text/plain": [
       "sdg\n",
       "6     0.542161\n",
       "16    0.263505\n",
       "7     0.194335\n",
       "Name: proportion, dtype: float64"
      ]
     },
     "execution_count": 12,
     "metadata": {},
     "output_type": "execute_result"
    }
   ],
   "source": [
    "ods_df[\"sdg\"].value_counts(dropna=False, normalize=True)"
   ]
  },
  {
   "cell_type": "code",
   "execution_count": 13,
   "id": "6dc57821",
   "metadata": {
    "execution": {
     "iopub.execute_input": "2023-10-29T21:23:37.287255Z",
     "iopub.status.busy": "2023-10-29T21:23:37.286840Z",
     "iopub.status.idle": "2023-10-29T21:23:38.189634Z",
     "shell.execute_reply": "2023-10-29T21:23:38.188843Z"
    }
   },
   "outputs": [
    {
     "ename": "ModuleNotFoundError",
     "evalue": "No module named 'ipywidgets'",
     "output_type": "error",
     "traceback": [
      "\u001b[0;31m---------------------------------------------------------------------------\u001b[0m",
      "\u001b[0;31mModuleNotFoundError\u001b[0m                       Traceback (most recent call last)",
      "File \u001b[0;32m~/Documents/back-bi/backend-virtualenv/lib/python3.11/site-packages/IPython/core/formatters.py:344\u001b[0m, in \u001b[0;36mBaseFormatter.__call__\u001b[0;34m(self, obj)\u001b[0m\n\u001b[1;32m    342\u001b[0m     method \u001b[38;5;241m=\u001b[39m get_real_method(obj, \u001b[38;5;28mself\u001b[39m\u001b[38;5;241m.\u001b[39mprint_method)\n\u001b[1;32m    343\u001b[0m     \u001b[38;5;28;01mif\u001b[39;00m method \u001b[38;5;129;01mis\u001b[39;00m \u001b[38;5;129;01mnot\u001b[39;00m \u001b[38;5;28;01mNone\u001b[39;00m:\n\u001b[0;32m--> 344\u001b[0m         \u001b[38;5;28;01mreturn\u001b[39;00m \u001b[43mmethod\u001b[49m\u001b[43m(\u001b[49m\u001b[43m)\u001b[49m\n\u001b[1;32m    345\u001b[0m     \u001b[38;5;28;01mreturn\u001b[39;00m \u001b[38;5;28;01mNone\u001b[39;00m\n\u001b[1;32m    346\u001b[0m \u001b[38;5;28;01melse\u001b[39;00m:\n",
      "File \u001b[0;32m~/Documents/back-bi/backend-virtualenv/lib/python3.11/site-packages/ydata_profiling/profile_report.py:520\u001b[0m, in \u001b[0;36mProfileReport._repr_html_\u001b[0;34m(self)\u001b[0m\n\u001b[1;32m    518\u001b[0m \u001b[38;5;28;01mdef\u001b[39;00m \u001b[38;5;21m_repr_html_\u001b[39m(\u001b[38;5;28mself\u001b[39m) \u001b[38;5;241m-\u001b[39m\u001b[38;5;241m>\u001b[39m \u001b[38;5;28;01mNone\u001b[39;00m:\n\u001b[1;32m    519\u001b[0m \u001b[38;5;250m    \u001b[39m\u001b[38;5;124;03m\"\"\"The ipython notebook widgets user interface gets called by the jupyter notebook.\"\"\"\u001b[39;00m\n\u001b[0;32m--> 520\u001b[0m     \u001b[38;5;28;43mself\u001b[39;49m\u001b[38;5;241;43m.\u001b[39;49m\u001b[43mto_notebook_iframe\u001b[49m\u001b[43m(\u001b[49m\u001b[43m)\u001b[49m\n",
      "File \u001b[0;32m~/Documents/back-bi/backend-virtualenv/lib/python3.11/site-packages/ydata_profiling/profile_report.py:493\u001b[0m, in \u001b[0;36mProfileReport.to_notebook_iframe\u001b[0;34m(self)\u001b[0m\n\u001b[1;32m    482\u001b[0m \u001b[38;5;250m\u001b[39m\u001b[38;5;124;03m\"\"\"Used to output the HTML representation to a Jupyter notebook.\u001b[39;00m\n\u001b[1;32m    483\u001b[0m \u001b[38;5;124;03mWhen config.notebook.iframe.attribute is \"src\", this function creates a temporary HTML file\u001b[39;00m\n\u001b[1;32m    484\u001b[0m \u001b[38;5;124;03min `./tmp/profile_[hash].html` and returns an Iframe pointing to that contents.\u001b[39;00m\n\u001b[0;32m   (...)\u001b[0m\n\u001b[1;32m    489\u001b[0m \u001b[38;5;124;03m    This constructions solves problems with conflicting stylesheets and navigation links.\u001b[39;00m\n\u001b[1;32m    490\u001b[0m \u001b[38;5;124;03m\"\"\"\u001b[39;00m\n\u001b[1;32m    491\u001b[0m \u001b[38;5;28;01mfrom\u001b[39;00m \u001b[38;5;21;01mIPython\u001b[39;00m\u001b[38;5;21;01m.\u001b[39;00m\u001b[38;5;21;01mcore\u001b[39;00m\u001b[38;5;21;01m.\u001b[39;00m\u001b[38;5;21;01mdisplay\u001b[39;00m \u001b[38;5;28;01mimport\u001b[39;00m display\n\u001b[0;32m--> 493\u001b[0m \u001b[38;5;28;01mfrom\u001b[39;00m \u001b[38;5;21;01mydata_profiling\u001b[39;00m\u001b[38;5;21;01m.\u001b[39;00m\u001b[38;5;21;01mreport\u001b[39;00m\u001b[38;5;21;01m.\u001b[39;00m\u001b[38;5;21;01mpresentation\u001b[39;00m\u001b[38;5;21;01m.\u001b[39;00m\u001b[38;5;21;01mflavours\u001b[39;00m\u001b[38;5;21;01m.\u001b[39;00m\u001b[38;5;21;01mwidget\u001b[39;00m\u001b[38;5;21;01m.\u001b[39;00m\u001b[38;5;21;01mnotebook\u001b[39;00m \u001b[38;5;28;01mimport\u001b[39;00m (\n\u001b[1;32m    494\u001b[0m     get_notebook_iframe,\n\u001b[1;32m    495\u001b[0m )\n\u001b[1;32m    497\u001b[0m \u001b[38;5;66;03m# Ignore warning: https://github.com/ipython/ipython/pull/11350/files\u001b[39;00m\n\u001b[1;32m    498\u001b[0m \u001b[38;5;28;01mwith\u001b[39;00m warnings\u001b[38;5;241m.\u001b[39mcatch_warnings():\n",
      "File \u001b[0;32m~/Documents/back-bi/backend-virtualenv/lib/python3.11/site-packages/ydata_profiling/report/presentation/flavours/widget/__init__.py:1\u001b[0m\n\u001b[0;32m----> 1\u001b[0m \u001b[38;5;28;01mfrom\u001b[39;00m \u001b[38;5;21;01mydata_profiling\u001b[39;00m\u001b[38;5;21;01m.\u001b[39;00m\u001b[38;5;21;01mreport\u001b[39;00m\u001b[38;5;21;01m.\u001b[39;00m\u001b[38;5;21;01mpresentation\u001b[39;00m\u001b[38;5;21;01m.\u001b[39;00m\u001b[38;5;21;01mflavours\u001b[39;00m\u001b[38;5;21;01m.\u001b[39;00m\u001b[38;5;21;01mwidget\u001b[39;00m\u001b[38;5;21;01m.\u001b[39;00m\u001b[38;5;21;01malerts\u001b[39;00m \u001b[38;5;28;01mimport\u001b[39;00m WidgetAlerts\n\u001b[1;32m      2\u001b[0m \u001b[38;5;28;01mfrom\u001b[39;00m \u001b[38;5;21;01mydata_profiling\u001b[39;00m\u001b[38;5;21;01m.\u001b[39;00m\u001b[38;5;21;01mreport\u001b[39;00m\u001b[38;5;21;01m.\u001b[39;00m\u001b[38;5;21;01mpresentation\u001b[39;00m\u001b[38;5;21;01m.\u001b[39;00m\u001b[38;5;21;01mflavours\u001b[39;00m\u001b[38;5;21;01m.\u001b[39;00m\u001b[38;5;21;01mwidget\u001b[39;00m\u001b[38;5;21;01m.\u001b[39;00m\u001b[38;5;21;01mcollapse\u001b[39;00m \u001b[38;5;28;01mimport\u001b[39;00m WidgetCollapse\n\u001b[1;32m      3\u001b[0m \u001b[38;5;28;01mfrom\u001b[39;00m \u001b[38;5;21;01mydata_profiling\u001b[39;00m\u001b[38;5;21;01m.\u001b[39;00m\u001b[38;5;21;01mreport\u001b[39;00m\u001b[38;5;21;01m.\u001b[39;00m\u001b[38;5;21;01mpresentation\u001b[39;00m\u001b[38;5;21;01m.\u001b[39;00m\u001b[38;5;21;01mflavours\u001b[39;00m\u001b[38;5;21;01m.\u001b[39;00m\u001b[38;5;21;01mwidget\u001b[39;00m\u001b[38;5;21;01m.\u001b[39;00m\u001b[38;5;21;01mcontainer\u001b[39;00m \u001b[38;5;28;01mimport\u001b[39;00m (\n\u001b[1;32m      4\u001b[0m     WidgetContainer,\n\u001b[1;32m      5\u001b[0m )\n",
      "File \u001b[0;32m~/Documents/back-bi/backend-virtualenv/lib/python3.11/site-packages/ydata_profiling/report/presentation/flavours/widget/alerts.py:3\u001b[0m\n\u001b[1;32m      1\u001b[0m \u001b[38;5;28;01mfrom\u001b[39;00m \u001b[38;5;21;01mtyping\u001b[39;00m \u001b[38;5;28;01mimport\u001b[39;00m List\n\u001b[0;32m----> 3\u001b[0m \u001b[38;5;28;01mfrom\u001b[39;00m \u001b[38;5;21;01mipywidgets\u001b[39;00m \u001b[38;5;28;01mimport\u001b[39;00m HTML, Button, widgets\n\u001b[1;32m      5\u001b[0m \u001b[38;5;28;01mfrom\u001b[39;00m \u001b[38;5;21;01mydata_profiling\u001b[39;00m\u001b[38;5;21;01m.\u001b[39;00m\u001b[38;5;21;01mreport\u001b[39;00m\u001b[38;5;21;01m.\u001b[39;00m\u001b[38;5;21;01mpresentation\u001b[39;00m\u001b[38;5;21;01m.\u001b[39;00m\u001b[38;5;21;01mcore\u001b[39;00m \u001b[38;5;28;01mimport\u001b[39;00m Alerts\n\u001b[1;32m      6\u001b[0m \u001b[38;5;28;01mfrom\u001b[39;00m \u001b[38;5;21;01mydata_profiling\u001b[39;00m\u001b[38;5;21;01m.\u001b[39;00m\u001b[38;5;21;01mreport\u001b[39;00m\u001b[38;5;21;01m.\u001b[39;00m\u001b[38;5;21;01mpresentation\u001b[39;00m\u001b[38;5;21;01m.\u001b[39;00m\u001b[38;5;21;01mflavours\u001b[39;00m\u001b[38;5;21;01m.\u001b[39;00m\u001b[38;5;21;01mhtml\u001b[39;00m \u001b[38;5;28;01mimport\u001b[39;00m templates\n",
      "\u001b[0;31mModuleNotFoundError\u001b[0m: No module named 'ipywidgets'"
     ]
    },
    {
     "data": {
      "text/plain": []
     },
     "execution_count": 13,
     "metadata": {},
     "output_type": "execute_result"
    }
   ],
   "source": [
    "textos = ods_df.copy()\n",
    "textos['Conteo'] = [len(x) for x in textos['Textos_espanol']]\n",
    "textos['Moda'] = [pd.Series(x).value_counts().index[0] for x in textos['Textos_espanol']]\n",
    "textos['Max'] = [[max([len(x) for x in i.split(' ')])][0] for i in textos['Textos_espanol']]\n",
    "textos['Min'] = [[min([len(x) for x in i.split(' ')])][0] for i in textos['Textos_espanol']]\n",
    "\n",
    "# Se realiza un perfilamiento de los datos con la librería pandas profiling\n",
    "ProfileReport(textos)"
   ]
  },
  {
   "cell_type": "code",
   "execution_count": 14,
   "id": "03dee57a",
   "metadata": {
    "execution": {
     "iopub.execute_input": "2023-10-29T21:23:38.192953Z",
     "iopub.status.busy": "2023-10-29T21:23:38.192435Z",
     "iopub.status.idle": "2023-10-29T21:23:38.197157Z",
     "shell.execute_reply": "2023-10-29T21:23:38.196315Z"
    }
   },
   "outputs": [],
   "source": [
    "ods_df[\"Textos_espanol\"] = ods_df[\"Textos_espanol\"].astype(str)"
   ]
  },
  {
   "cell_type": "markdown",
   "id": "4de32e53",
   "metadata": {},
   "source": [
    "## Preparación de datos"
   ]
  },
  {
   "cell_type": "markdown",
   "id": "5a5c2ddb",
   "metadata": {},
   "source": [
    "Para poder realizar el pre-procesamiento de los datos, es recomendable pasar por tres etapas:\n",
    "* Limpieza de los datos.\n",
    "* Tokenización.\n",
    "* Normalización.\n",
    "\n",
    "<span style=\"color:red\">!!! Antes de ver la solución, revisa alternativas para realizar las tres etapas previas.</span>\n",
    "\n",
    "Para mayor información, pueden consultar el [siguiente artículo](https://medium.com/datos-y-ciencia/preprocesamiento-de-datos-de-texto-un-tutorial-en-python-5db5620f1767\n",
    ")."
   ]
  },
  {
   "cell_type": "markdown",
   "id": "2124a94e",
   "metadata": {},
   "source": [
    "### Limpieza de los datos"
   ]
  },
  {
   "cell_type": "code",
   "execution_count": 15,
   "id": "86e28f7f",
   "metadata": {
    "execution": {
     "iopub.execute_input": "2023-10-29T21:23:38.200797Z",
     "iopub.status.busy": "2023-10-29T21:23:38.200508Z",
     "iopub.status.idle": "2023-10-29T21:23:38.210966Z",
     "shell.execute_reply": "2023-10-29T21:23:38.210244Z"
    }
   },
   "outputs": [],
   "source": [
    "def remove_non_ascii(words):\n",
    "    \"\"\"Remove non-ASCII characters from list of tokenized words\"\"\"\n",
    "    new_words = []\n",
    "    for word in words:\n",
    "        new_word = unicodedata.normalize('NFKD', word).encode('ascii', 'ignore').decode('utf-8', 'ignore')\n",
    "        new_words.append(new_word)\n",
    "    return new_words\n",
    "\n",
    "def to_lowercase(words):\n",
    "    \"\"\"Convert all characters to lowercase from list of tokenized words\"\"\"\n",
    "    return [word.lower() for word in words]\n",
    "\n",
    "def remove_punctuation(words):\n",
    "    \"\"\"Remove punctuation from list of tokenized words\"\"\"\n",
    "    new_words = []\n",
    "    for word in words:\n",
    "        new_word = re.sub(r'[^\\w\\s]', '', word)\n",
    "        if new_word != '':\n",
    "            new_words.append(new_word)\n",
    "    return new_words\n",
    "\n",
    "def replace_numbers(words):\n",
    "    \"\"\"Replace all interger occurrences in list of tokenized words with textual representation\"\"\"\n",
    "    new_words = []\n",
    "    for word in words:\n",
    "        if word.isdigit():\n",
    "            new_word = num2words.num2words(int(word), lang='es')\n",
    "            new_words.append(new_word)\n",
    "        else:\n",
    "            new_words.append(word)\n",
    "    return new_words\n",
    "def remove_stopwords(words):\n",
    "    \"\"\"Remove stop words from list of tokenized words\"\"\"\n",
    "    return [word for word in words if word not in stop_words]\n",
    "\n",
    "def preprocessing(words):\n",
    "    words = to_lowercase(words)\n",
    "    words = replace_numbers(words)\n",
    "    words = remove_punctuation(words)\n",
    "    words = remove_non_ascii(words)\n",
    "    words = remove_stopwords(words)\n",
    "    return words"
   ]
  },
  {
   "cell_type": "markdown",
   "id": "1fd89cc3",
   "metadata": {},
   "source": [
    "### Tokenización"
   ]
  },
  {
   "cell_type": "code",
   "execution_count": 16,
   "id": "ab74a2bf",
   "metadata": {
    "execution": {
     "iopub.execute_input": "2023-10-29T21:23:38.214115Z",
     "iopub.status.busy": "2023-10-29T21:23:38.213833Z",
     "iopub.status.idle": "2023-10-29T21:23:40.025604Z",
     "shell.execute_reply": "2023-10-29T21:23:40.024987Z"
    }
   },
   "outputs": [
    {
     "data": {
      "text/html": [
       "<div>\n",
       "<style scoped>\n",
       "    .dataframe tbody tr th:only-of-type {\n",
       "        vertical-align: middle;\n",
       "    }\n",
       "\n",
       "    .dataframe tbody tr th {\n",
       "        vertical-align: top;\n",
       "    }\n",
       "\n",
       "    .dataframe thead th {\n",
       "        text-align: right;\n",
       "    }\n",
       "</style>\n",
       "<table border=\"1\" class=\"dataframe\">\n",
       "  <thead>\n",
       "    <tr style=\"text-align: right;\">\n",
       "      <th></th>\n",
       "      <th>Textos_espanol</th>\n",
       "      <th>sdg</th>\n",
       "    </tr>\n",
       "  </thead>\n",
       "  <tbody>\n",
       "    <tr>\n",
       "      <th>1015</th>\n",
       "      <td>acuerdo paris dos mil quince agenda dos mil treinta desarrollo sostenible identifican claramente urgencia economia mundial cambie senda desarrollo resiliente clima bajas emisiones evitar costosos efectos cambio climatico desarrollo sostenible adaptarse impactos producido sector minero asocia menudo impacto negativo medio ambiente clima asi comunidades locales circundantes tambien considera menudo sector opera silo desconectado resto economia</td>\n",
       "      <td>7</td>\n",
       "    </tr>\n",
       "    <tr>\n",
       "      <th>1088</th>\n",
       "      <td>duracion ppa tiende ligada vida util restante mina analiza continuacion mas detalle debe reubicacion limitada sistemas energia renovable actuales oportunidades explotar usos alternativos plantas mas alla necesidades mina cuanto mayor vida residual mina mayor sera ppa menor sera precio electricidad generada bajo contrato</td>\n",
       "      <td>7</td>\n",
       "    </tr>\n",
       "    <tr>\n",
       "      <th>231</th>\n",
       "      <td>margen aumentar niveles tarifas cambiar estructuras tarifarias potenciar usos eficientes agua asignar agua alli crea mas valor menos cubrir costes operacion mantenimiento situar politicas hidricas mexicanas senda financiera sostenible contribuira cumplir compromisos seis sesenta y cinco pacto facilitara aplicacion compromisos cincuenta cincuenta y uno cincuenta y dos necesario identificar asignar claramente responsabilidades cada nivel gobierno reforzar aplicacion cumplimiento centrarse mas capacidad sostenibilidad financiera servicios publicos eficiencia calidad prestacion servicios capacidad respuesta usuarios compromiso cincuenta y dos pacto aprobar nueva ley agua potable saneamiento brinda oportunidad impulso politico definir responsabilidades</td>\n",
       "      <td>6</td>\n",
       "    </tr>\n",
       "    <tr>\n",
       "      <th>143</th>\n",
       "      <td>general nivel nacional autoridades estiman alcanzar nivel tratamiento cumpla estandares descarga requerira niveles inversion mxn114 mil millones usd 95 mil millones ademas municipios chihuahua juarez mostrado activos reciclaje agua riego areas verdes uso industrial mapa fines ilustrativos entiende perjuicio soberania cualquier territorio cubierto mapa</td>\n",
       "      <td>6</td>\n",
       "    </tr>\n",
       "    <tr>\n",
       "      <th>135</th>\n",
       "      <td>incluso conocimiento falta informacion puede informar procesos toma decisiones gestion aguas transfronterizas problemas especiales siempre encuentran escalas mas pequenas particularmente transmision alineacion resolucion integracion informacion ejemplo datos recopilados deben almacenarse manera permitan facil recuperacion puede implicar acuerdos especificos entorno transfronterizo adaptacion cambio climatico tambien preocupaciones especiales dado informacion clara tangible precisa exacta puede disponible pasado mientras conocimiento futuro carece todas cualidades todas cuencas paises decisiones gestion agua menos vacios informacion particularmente bajo enfoques holisticos incluyen datos hidrologicos ambientales socioeconomicos lugar tratar describir datos perfectos capitulo centrara evaluar recopilar compilar intercambiar informacion suficientemente buena permitir decisiones efectivas adaptacion cambio climatico transfronterizo</td>\n",
       "      <td>6</td>\n",
       "    </tr>\n",
       "  </tbody>\n",
       "</table>\n",
       "</div>"
      ],
      "text/plain": [
       "                                                                                                                                                                                                                                                                                                                                                                                                                                                                                                                                                                                                                                                                                                                                                                                                                                                                                                                                                                     Textos_espanol  \\\n",
       "1015                                                                                                                                                                                                                                                                                                                                                                                                                                                                                                                  acuerdo paris dos mil quince agenda dos mil treinta desarrollo sostenible identifican claramente urgencia economia mundial cambie senda desarrollo resiliente clima bajas emisiones evitar costosos efectos cambio climatico desarrollo sostenible adaptarse impactos producido sector minero asocia menudo impacto negativo medio ambiente clima asi comunidades locales circundantes tambien considera menudo sector opera silo desconectado resto economia   \n",
       "1088                                                                                                                                                                                                                                                                                                                                                                                                                                                                                                                                                                                                                                              duracion ppa tiende ligada vida util restante mina analiza continuacion mas detalle debe reubicacion limitada sistemas energia renovable actuales oportunidades explotar usos alternativos plantas mas alla necesidades mina cuanto mayor vida residual mina mayor sera ppa menor sera precio electricidad generada bajo contrato   \n",
       "231                                                                                                                                                                                           margen aumentar niveles tarifas cambiar estructuras tarifarias potenciar usos eficientes agua asignar agua alli crea mas valor menos cubrir costes operacion mantenimiento situar politicas hidricas mexicanas senda financiera sostenible contribuira cumplir compromisos seis sesenta y cinco pacto facilitara aplicacion compromisos cincuenta cincuenta y uno cincuenta y dos necesario identificar asignar claramente responsabilidades cada nivel gobierno reforzar aplicacion cumplimiento centrarse mas capacidad sostenibilidad financiera servicios publicos eficiencia calidad prestacion servicios capacidad respuesta usuarios compromiso cincuenta y dos pacto aprobar nueva ley agua potable saneamiento brinda oportunidad impulso politico definir responsabilidades   \n",
       "143                                                                                                                                                                                                                                                                                                                                                                                                                                                                                                                                                                                                               general nivel nacional autoridades estiman alcanzar nivel tratamiento cumpla estandares descarga requerira niveles inversion mxn114 mil millones usd 95 mil millones ademas municipios chihuahua juarez mostrado activos reciclaje agua riego areas verdes uso industrial mapa fines ilustrativos entiende perjuicio soberania cualquier territorio cubierto mapa   \n",
       "135   incluso conocimiento falta informacion puede informar procesos toma decisiones gestion aguas transfronterizas problemas especiales siempre encuentran escalas mas pequenas particularmente transmision alineacion resolucion integracion informacion ejemplo datos recopilados deben almacenarse manera permitan facil recuperacion puede implicar acuerdos especificos entorno transfronterizo adaptacion cambio climatico tambien preocupaciones especiales dado informacion clara tangible precisa exacta puede disponible pasado mientras conocimiento futuro carece todas cualidades todas cuencas paises decisiones gestion agua menos vacios informacion particularmente bajo enfoques holisticos incluyen datos hidrologicos ambientales socioeconomicos lugar tratar describir datos perfectos capitulo centrara evaluar recopilar compilar intercambiar informacion suficientemente buena permitir decisiones efectivas adaptacion cambio climatico transfronterizo   \n",
       "\n",
       "      sdg  \n",
       "1015    7  \n",
       "1088    7  \n",
       "231     6  \n",
       "143     6  \n",
       "135     6  "
      ]
     },
     "execution_count": 16,
     "metadata": {},
     "output_type": "execute_result"
    }
   ],
   "source": [
    "ods_df[\"Textos_espanol\"] = ods_df[\"Textos_espanol\"].apply(word_tokenize).apply(preprocessing).apply(\" \".join)\n",
    "ods_df.sample(5)"
   ]
  },
  {
   "cell_type": "markdown",
   "id": "6a0ed664",
   "metadata": {},
   "source": [
    "### Normalización"
   ]
  },
  {
   "cell_type": "code",
   "execution_count": 17,
   "id": "d7203646",
   "metadata": {
    "execution": {
     "iopub.execute_input": "2023-10-29T21:23:40.028697Z",
     "iopub.status.busy": "2023-10-29T21:23:40.028307Z",
     "iopub.status.idle": "2023-10-29T21:23:44.720498Z",
     "shell.execute_reply": "2023-10-29T21:23:44.719669Z"
    }
   },
   "outputs": [
    {
     "data": {
      "text/html": [
       "<div>\n",
       "<style scoped>\n",
       "    .dataframe tbody tr th:only-of-type {\n",
       "        vertical-align: middle;\n",
       "    }\n",
       "\n",
       "    .dataframe tbody tr th {\n",
       "        vertical-align: top;\n",
       "    }\n",
       "\n",
       "    .dataframe thead th {\n",
       "        text-align: right;\n",
       "    }\n",
       "</style>\n",
       "<table border=\"1\" class=\"dataframe\">\n",
       "  <thead>\n",
       "    <tr style=\"text-align: right;\">\n",
       "      <th></th>\n",
       "      <th>Textos_espanol</th>\n",
       "      <th>sdg</th>\n",
       "    </tr>\n",
       "  </thead>\n",
       "  <tbody>\n",
       "    <tr>\n",
       "      <th>66</th>\n",
       "      <td>huell hidric intern nacion volum agu utiliz recurs hidric domest produc bien servici consum habit pais huell hidric extern pais volum agu utiliz pais produc bien servici import consum habit pais sum huell hidric intern extern agu pais huell huell hidric intern nacion volum agu utiliz recurs hidric domest produc bien servici consum habit pais huell hidric extern pais volum agu utiliz pais produc bien servici import consum habit pais sum huell hidric intern extern agu pais huell</td>\n",
       "      <td>6</td>\n",
       "    </tr>\n",
       "    <tr>\n",
       "      <th>781</th>\n",
       "      <td>franci ejempl carg extraccion represent sol alrededor 13 preci agu pag hogar probabl cambi comport ministeri ecologi desarroll sosten energi franci dos mil doc evalu cost recurs tambi dificil requier med benefici induc agu tip uso agricultur usa agu rieg suministr agu potabl energi hidroelectr etc primer refier metod usan dat merc obten valor monetari cuant estari dispuest pag individu bien servici inter dec disposicion pag wtp cuant requeriri compens expuest perd bienest dec disposicion acept wta 8 ultim refier metod utiliz escenari hipotet estim wtp wta individu metod utiliz ampli gam bien comercial adem agu p ej contamin air nivel ruid riesg salud etc franci ejempl carg extraccion represent sol alrededor 13 preci agu pag hogar probabl cambi comport ministeri ecologi desarroll sosten energi franci dos mil doc evalu cost recurs tambi dificil requier med benefici induc agu tip uso agricultur usa agu rieg suministr agu potabl energi hidroelectr etc primer refier metod usan dat merc obten valor monetari cuant estari dispuest pag individu bien servici inter dec disposicion pag wtp cuant requeriri compens expuest perd bienest dec disposicion acept wta 8 ultim refier metod utiliz escenari hipotet estim wtp wta individu metod utiliz ampli gam bien comercial adem agu p ej contamin air nivel ruid riesg salud etc</td>\n",
       "      <td>6</td>\n",
       "    </tr>\n",
       "    <tr>\n",
       "      <th>1397</th>\n",
       "      <td>gobiern britan concedi prim gobiern colonial hong kong competent algun litigi civil autor alli intent hac mejor pud recomend arbitraj ejempl muestr part acept arbitraj reconoc merit sin falt altern sistem legal arbitraj public obligatori fracas inclus estableci tribunal suprem jurisdiccion civil arbitraj continu part chin teni propi proced despu orden administr civil justici mil ochocient cincuent y cinc introdujer ley proced derech comun mil ochocient cincuent y cuatr arbitraj sujet benefici mism proced inglaterr gobiern britan concedi prim gobiern colonial hong kong competent algun litigi civil autor alli intent hac mejor pud recomend arbitraj ejempl muestr part acept arbitraj reconoc merit sin falt altern sistem legal arbitraj public obligatori fracas inclus estableci tribunal suprem jurisdiccion civil arbitraj continu part chin teni propi proced despu orden administr civil justici mil ochocient cincuent y cinc introdujer ley proced derech comun mil ochocient cincuent y cuatr arbitraj sujet benefici mism proced inglaterr</td>\n",
       "      <td>16</td>\n",
       "    </tr>\n",
       "    <tr>\n",
       "      <th>22</th>\n",
       "      <td>desafi prox anos ser garantiz program federal estatal adhier prioriz cas program abastec agu saneamient condicion recib apoy inclu existent acuerd formal gobi estatal federal accion conjunt present program anual aprob comit estatal planif desarroll coplad organ nivel estatal encarg planif abastec agu saneamient subsidi activ tratamient agu residual deb aplic primer garantiz plant tratamient agu residual respald oper minim novent pued aplic inversion desafi prox anos ser garantiz program federal estatal adhier prioriz cas program abastec agu saneamient condicion recib apoy inclu existent acuerd formal gobi estatal federal accion conjunt present program anual aprob comit estatal planif desarroll coplad organ nivel estatal encarg planif abastec agu saneamient subsidi activ tratamient agu residual deb aplic primer garantiz plant tratamient agu residual respald oper minim novent pued aplic inversion</td>\n",
       "      <td>6</td>\n",
       "    </tr>\n",
       "    <tr>\n",
       "      <th>778</th>\n",
       "      <td>nivel superior gobern escal regional nacional internacional asum entonc papel mas facilit resolucion conflict cooper transfronteriz financi sector public prioriz gestion agu tambi ser esencial si quier hac frent mejor crisis inminent inclus relacion transfronteriz mas controvert muestr esfuerz forj acuerd rutiniz cuestion gobern agu compart nivel superior gobern escal regional nacional internacional asum entonc papel mas facilit resolucion conflict cooper transfronteriz financi sector public prioriz gestion agu tambi ser esencial si quier hac frent mejor crisis inminent inclus relacion transfronteriz mas controvert muestr esfuerz forj acuerd rutiniz cuestion gobern agu compart</td>\n",
       "      <td>6</td>\n",
       "    </tr>\n",
       "  </tbody>\n",
       "</table>\n",
       "</div>"
      ],
      "text/plain": [
       "                                                                                                                                                                                                                                                                                                                                                                                                                                                                                                                                                                                                                                                                                                                                                                                                                                                                                                                                                                                                                                                                                                                                                                                                                                                                                                                                                                     Textos_espanol  \\\n",
       "66                                                                                                                                                                                                                                                                                                                                                                                                                                                                                                                                                                                                                                                                                                                                                                                                                                                                                huell hidric intern nacion volum agu utiliz recurs hidric domest produc bien servici consum habit pais huell hidric extern pais volum agu utiliz pais produc bien servici import consum habit pais sum huell hidric intern extern agu pais huell huell hidric intern nacion volum agu utiliz recurs hidric domest produc bien servici consum habit pais huell hidric extern pais volum agu utiliz pais produc bien servici import consum habit pais sum huell hidric intern extern agu pais huell   \n",
       "781   franci ejempl carg extraccion represent sol alrededor 13 preci agu pag hogar probabl cambi comport ministeri ecologi desarroll sosten energi franci dos mil doc evalu cost recurs tambi dificil requier med benefici induc agu tip uso agricultur usa agu rieg suministr agu potabl energi hidroelectr etc primer refier metod usan dat merc obten valor monetari cuant estari dispuest pag individu bien servici inter dec disposicion pag wtp cuant requeriri compens expuest perd bienest dec disposicion acept wta 8 ultim refier metod utiliz escenari hipotet estim wtp wta individu metod utiliz ampli gam bien comercial adem agu p ej contamin air nivel ruid riesg salud etc franci ejempl carg extraccion represent sol alrededor 13 preci agu pag hogar probabl cambi comport ministeri ecologi desarroll sosten energi franci dos mil doc evalu cost recurs tambi dificil requier med benefici induc agu tip uso agricultur usa agu rieg suministr agu potabl energi hidroelectr etc primer refier metod usan dat merc obten valor monetari cuant estari dispuest pag individu bien servici inter dec disposicion pag wtp cuant requeriri compens expuest perd bienest dec disposicion acept wta 8 ultim refier metod utiliz escenari hipotet estim wtp wta individu metod utiliz ampli gam bien comercial adem agu p ej contamin air nivel ruid riesg salud etc   \n",
       "1397                                                                                                                                                                                                                                                                                                gobiern britan concedi prim gobiern colonial hong kong competent algun litigi civil autor alli intent hac mejor pud recomend arbitraj ejempl muestr part acept arbitraj reconoc merit sin falt altern sistem legal arbitraj public obligatori fracas inclus estableci tribunal suprem jurisdiccion civil arbitraj continu part chin teni propi proced despu orden administr civil justici mil ochocient cincuent y cinc introdujer ley proced derech comun mil ochocient cincuent y cuatr arbitraj sujet benefici mism proced inglaterr gobiern britan concedi prim gobiern colonial hong kong competent algun litigi civil autor alli intent hac mejor pud recomend arbitraj ejempl muestr part acept arbitraj reconoc merit sin falt altern sistem legal arbitraj public obligatori fracas inclus estableci tribunal suprem jurisdiccion civil arbitraj continu part chin teni propi proced despu orden administr civil justici mil ochocient cincuent y cinc introdujer ley proced derech comun mil ochocient cincuent y cuatr arbitraj sujet benefici mism proced inglaterr   \n",
       "22                                                                                                                                                                                                                                                                                                                                                                                                                                      desafi prox anos ser garantiz program federal estatal adhier prioriz cas program abastec agu saneamient condicion recib apoy inclu existent acuerd formal gobi estatal federal accion conjunt present program anual aprob comit estatal planif desarroll coplad organ nivel estatal encarg planif abastec agu saneamient subsidi activ tratamient agu residual deb aplic primer garantiz plant tratamient agu residual respald oper minim novent pued aplic inversion desafi prox anos ser garantiz program federal estatal adhier prioriz cas program abastec agu saneamient condicion recib apoy inclu existent acuerd formal gobi estatal federal accion conjunt present program anual aprob comit estatal planif desarroll coplad organ nivel estatal encarg planif abastec agu saneamient subsidi activ tratamient agu residual deb aplic primer garantiz plant tratamient agu residual respald oper minim novent pued aplic inversion   \n",
       "778                                                                                                                                                                                                                                                                                                                                                                                                                                                                                                                                                                                                                                                                   nivel superior gobern escal regional nacional internacional asum entonc papel mas facilit resolucion conflict cooper transfronteriz financi sector public prioriz gestion agu tambi ser esencial si quier hac frent mejor crisis inminent inclus relacion transfronteriz mas controvert muestr esfuerz forj acuerd rutiniz cuestion gobern agu compart nivel superior gobern escal regional nacional internacional asum entonc papel mas facilit resolucion conflict cooper transfronteriz financi sector public prioriz gestion agu tambi ser esencial si quier hac frent mejor crisis inminent inclus relacion transfronteriz mas controvert muestr esfuerz forj acuerd rutiniz cuestion gobern agu compart   \n",
       "\n",
       "      sdg  \n",
       "66      6  \n",
       "781     6  \n",
       "1397   16  \n",
       "22      6  \n",
       "778     6  "
      ]
     },
     "execution_count": 17,
     "metadata": {},
     "output_type": "execute_result"
    }
   ],
   "source": [
    "def stem_words(words):\n",
    "    \"\"\"Stem words in list of tokenized words\"\"\"\n",
    "    stemmer = nltk.stem.SnowballStemmer('spanish')\n",
    "    stems = [stemmer.stem(word) for word in words]\n",
    "    return stems\n",
    "\n",
    "def lemmatize_verbs(words):\n",
    "    \"\"\"Lemmatize verbs in list of tokenized words\"\"\"\n",
    "    #Lemmatize for spanish\n",
    "    stemmer = nltk.stem.SnowballStemmer('spanish')\n",
    "    lemmas = [stemmer.stem(word) for word in words]\n",
    "    return lemmas\n",
    "def stem_and_lemmatize(words):\n",
    "    stems = stem_words(words)\n",
    "    lemmas = lemmatize_verbs(words)\n",
    "    return stems + lemmas\n",
    "\n",
    "ods_df[\"Textos_espanol\"] = ods_df[\"Textos_espanol\"].apply(word_tokenize).apply(stem_and_lemmatize).apply(\" \".join)\n",
    "ods_df.sample(5)"
   ]
  },
  {
   "cell_type": "markdown",
   "id": "03da2af6",
   "metadata": {},
   "source": [
    "# Entrenamiento"
   ]
  },
  {
   "cell_type": "code",
   "execution_count": 18,
   "id": "1e4f9e7d",
   "metadata": {
    "execution": {
     "iopub.execute_input": "2023-10-29T21:23:44.723859Z",
     "iopub.status.busy": "2023-10-29T21:23:44.723522Z",
     "iopub.status.idle": "2023-10-29T21:23:44.731977Z",
     "shell.execute_reply": "2023-10-29T21:23:44.731045Z"
    }
   },
   "outputs": [],
   "source": [
    "# The param 'stratify' is useful to guarantee label proportions on train and test sets\n",
    "X_train, X_test, y_train, y_test = train_test_split(ods_df[[\"Textos_espanol\"]], ods_df[\"sdg\"], test_size=0.3, stratify=ods_df[\"sdg\"], random_state=1)"
   ]
  },
  {
   "cell_type": "code",
   "execution_count": 19,
   "id": "effd5193",
   "metadata": {
    "execution": {
     "iopub.execute_input": "2023-10-29T21:23:44.735304Z",
     "iopub.status.busy": "2023-10-29T21:23:44.734857Z",
     "iopub.status.idle": "2023-10-29T21:23:44.752465Z",
     "shell.execute_reply": "2023-10-29T21:23:44.751767Z"
    }
   },
   "outputs": [],
   "source": [
    "X_train_tokens = [nltk.word_tokenize(text) for text in X_train]\n",
    "X_test_tokens = [nltk.word_tokenize(text) for text in X_test]"
   ]
  },
  {
   "cell_type": "code",
   "execution_count": 20,
   "id": "9aa94489",
   "metadata": {
    "execution": {
     "iopub.execute_input": "2023-10-29T21:23:44.755866Z",
     "iopub.status.busy": "2023-10-29T21:23:44.755629Z",
     "iopub.status.idle": "2023-10-29T21:23:44.764270Z",
     "shell.execute_reply": "2023-10-29T21:23:44.763684Z"
    }
   },
   "outputs": [
    {
     "data": {
      "text/plain": [
       "((1062, 1), (456, 1))"
      ]
     },
     "execution_count": 20,
     "metadata": {},
     "output_type": "execute_result"
    }
   ],
   "source": [
    "X_train.shape, X_test.shape"
   ]
  },
  {
   "cell_type": "code",
   "execution_count": 21,
   "id": "f3a3c135",
   "metadata": {
    "execution": {
     "iopub.execute_input": "2023-10-29T21:23:44.767204Z",
     "iopub.status.busy": "2023-10-29T21:23:44.766965Z",
     "iopub.status.idle": "2023-10-29T21:23:44.776628Z",
     "shell.execute_reply": "2023-10-29T21:23:44.775961Z"
    }
   },
   "outputs": [
    {
     "data": {
      "text/plain": [
       "sdg\n",
       "6     0.542373\n",
       "16    0.263653\n",
       "7     0.193974\n",
       "Name: proportion, dtype: float64"
      ]
     },
     "execution_count": 21,
     "metadata": {},
     "output_type": "execute_result"
    }
   ],
   "source": [
    "pd.Series(y_train).value_counts(normalize=True)"
   ]
  },
  {
   "cell_type": "code",
   "execution_count": 22,
   "id": "dd0507ed",
   "metadata": {
    "execution": {
     "iopub.execute_input": "2023-10-29T21:23:44.779286Z",
     "iopub.status.busy": "2023-10-29T21:23:44.778927Z",
     "iopub.status.idle": "2023-10-29T21:23:44.790368Z",
     "shell.execute_reply": "2023-10-29T21:23:44.789288Z"
    }
   },
   "outputs": [
    {
     "data": {
      "text/plain": [
       "sdg\n",
       "6     0.541667\n",
       "16    0.263158\n",
       "7     0.195175\n",
       "Name: proportion, dtype: float64"
      ]
     },
     "execution_count": 22,
     "metadata": {},
     "output_type": "execute_result"
    }
   ],
   "source": [
    "pd.Series(y_test).value_counts(normalize=True)"
   ]
  },
  {
   "cell_type": "markdown",
   "id": "015f133b",
   "metadata": {},
   "source": [
    "## Text vectorization"
   ]
  },
  {
   "cell_type": "code",
   "execution_count": 23,
   "id": "bbb551a6",
   "metadata": {
    "execution": {
     "iopub.execute_input": "2023-10-29T21:23:44.794240Z",
     "iopub.status.busy": "2023-10-29T21:23:44.793837Z",
     "iopub.status.idle": "2023-10-29T21:23:44.798596Z",
     "shell.execute_reply": "2023-10-29T21:23:44.798030Z"
    }
   },
   "outputs": [],
   "source": [
    "bow = CountVectorizer(tokenizer=word_tokenize, stop_words=stop_words, lowercase=True)"
   ]
  },
  {
   "cell_type": "code",
   "execution_count": 24,
   "id": "35f17c5d",
   "metadata": {
    "execution": {
     "iopub.execute_input": "2023-10-29T21:23:44.802884Z",
     "iopub.status.busy": "2023-10-29T21:23:44.802305Z",
     "iopub.status.idle": "2023-10-29T21:23:45.392513Z",
     "shell.execute_reply": "2023-10-29T21:23:45.391685Z"
    }
   },
   "outputs": [],
   "source": [
    "X_bow = bow.fit_transform(X_train[\"Textos_espanol\"])"
   ]
  },
  {
   "cell_type": "code",
   "execution_count": 25,
   "id": "61f2cad5",
   "metadata": {
    "execution": {
     "iopub.execute_input": "2023-10-29T21:23:45.395996Z",
     "iopub.status.busy": "2023-10-29T21:23:45.395688Z",
     "iopub.status.idle": "2023-10-29T21:23:45.400702Z",
     "shell.execute_reply": "2023-10-29T21:23:45.399828Z"
    }
   },
   "outputs": [
    {
     "name": "stdout",
     "output_type": "stream",
     "text": [
      "Vocabulary size: 6940\n"
     ]
    }
   ],
   "source": [
    "print(\"Vocabulary size:\", len(bow.vocabulary_))"
   ]
  },
  {
   "cell_type": "code",
   "execution_count": 26,
   "id": "03839a3e",
   "metadata": {
    "execution": {
     "iopub.execute_input": "2023-10-29T21:23:45.404198Z",
     "iopub.status.busy": "2023-10-29T21:23:45.403877Z",
     "iopub.status.idle": "2023-10-29T21:23:45.417067Z",
     "shell.execute_reply": "2023-10-29T21:23:45.416148Z"
    }
   },
   "outputs": [],
   "source": [
    "tfidf = TfidfVectorizer(tokenizer=word_tokenize, stop_words=stop_words, lowercase=True)"
   ]
  },
  {
   "cell_type": "code",
   "execution_count": 27,
   "id": "0c44fee1",
   "metadata": {
    "execution": {
     "iopub.execute_input": "2023-10-29T21:23:45.421036Z",
     "iopub.status.busy": "2023-10-29T21:23:45.420719Z",
     "iopub.status.idle": "2023-10-29T21:23:46.013429Z",
     "shell.execute_reply": "2023-10-29T21:23:46.012689Z"
    }
   },
   "outputs": [],
   "source": [
    "X_tfidf = tfidf.fit_transform(X_train[\"Textos_espanol\"])"
   ]
  },
  {
   "cell_type": "code",
   "execution_count": 28,
   "id": "83d82634",
   "metadata": {
    "execution": {
     "iopub.execute_input": "2023-10-29T21:23:46.017335Z",
     "iopub.status.busy": "2023-10-29T21:23:46.017091Z",
     "iopub.status.idle": "2023-10-29T21:23:46.020779Z",
     "shell.execute_reply": "2023-10-29T21:23:46.020139Z"
    }
   },
   "outputs": [
    {
     "name": "stdout",
     "output_type": "stream",
     "text": [
      "Vocabulary size: 6940\n"
     ]
    }
   ],
   "source": [
    "print(\"Vocabulary size:\", len(tfidf.vocabulary_))"
   ]
  },
  {
   "cell_type": "markdown",
   "id": "0f45d192",
   "metadata": {},
   "source": [
    "## Training a model with BoW"
   ]
  },
  {
   "cell_type": "code",
   "execution_count": 29,
   "id": "0dc6201b",
   "metadata": {
    "execution": {
     "iopub.execute_input": "2023-10-29T21:23:46.024478Z",
     "iopub.status.busy": "2023-10-29T21:23:46.024097Z",
     "iopub.status.idle": "2023-10-29T21:23:46.043416Z",
     "shell.execute_reply": "2023-10-29T21:23:46.042584Z"
    }
   },
   "outputs": [],
   "source": [
    "bow_model = RandomForestClassifier(random_state=2)"
   ]
  },
  {
   "cell_type": "code",
   "execution_count": 30,
   "id": "472d2551",
   "metadata": {
    "execution": {
     "iopub.execute_input": "2023-10-29T21:23:46.046854Z",
     "iopub.status.busy": "2023-10-29T21:23:46.046421Z",
     "iopub.status.idle": "2023-10-29T21:23:46.727807Z",
     "shell.execute_reply": "2023-10-29T21:23:46.727281Z"
    }
   },
   "outputs": [
    {
     "data": {
      "text/html": [
       "<style>#sk-container-id-1 {color: black;}#sk-container-id-1 pre{padding: 0;}#sk-container-id-1 div.sk-toggleable {background-color: white;}#sk-container-id-1 label.sk-toggleable__label {cursor: pointer;display: block;width: 100%;margin-bottom: 0;padding: 0.3em;box-sizing: border-box;text-align: center;}#sk-container-id-1 label.sk-toggleable__label-arrow:before {content: \"▸\";float: left;margin-right: 0.25em;color: #696969;}#sk-container-id-1 label.sk-toggleable__label-arrow:hover:before {color: black;}#sk-container-id-1 div.sk-estimator:hover label.sk-toggleable__label-arrow:before {color: black;}#sk-container-id-1 div.sk-toggleable__content {max-height: 0;max-width: 0;overflow: hidden;text-align: left;background-color: #f0f8ff;}#sk-container-id-1 div.sk-toggleable__content pre {margin: 0.2em;color: black;border-radius: 0.25em;background-color: #f0f8ff;}#sk-container-id-1 input.sk-toggleable__control:checked~div.sk-toggleable__content {max-height: 200px;max-width: 100%;overflow: auto;}#sk-container-id-1 input.sk-toggleable__control:checked~label.sk-toggleable__label-arrow:before {content: \"▾\";}#sk-container-id-1 div.sk-estimator input.sk-toggleable__control:checked~label.sk-toggleable__label {background-color: #d4ebff;}#sk-container-id-1 div.sk-label input.sk-toggleable__control:checked~label.sk-toggleable__label {background-color: #d4ebff;}#sk-container-id-1 input.sk-hidden--visually {border: 0;clip: rect(1px 1px 1px 1px);clip: rect(1px, 1px, 1px, 1px);height: 1px;margin: -1px;overflow: hidden;padding: 0;position: absolute;width: 1px;}#sk-container-id-1 div.sk-estimator {font-family: monospace;background-color: #f0f8ff;border: 1px dotted black;border-radius: 0.25em;box-sizing: border-box;margin-bottom: 0.5em;}#sk-container-id-1 div.sk-estimator:hover {background-color: #d4ebff;}#sk-container-id-1 div.sk-parallel-item::after {content: \"\";width: 100%;border-bottom: 1px solid gray;flex-grow: 1;}#sk-container-id-1 div.sk-label:hover label.sk-toggleable__label {background-color: #d4ebff;}#sk-container-id-1 div.sk-serial::before {content: \"\";position: absolute;border-left: 1px solid gray;box-sizing: border-box;top: 0;bottom: 0;left: 50%;z-index: 0;}#sk-container-id-1 div.sk-serial {display: flex;flex-direction: column;align-items: center;background-color: white;padding-right: 0.2em;padding-left: 0.2em;position: relative;}#sk-container-id-1 div.sk-item {position: relative;z-index: 1;}#sk-container-id-1 div.sk-parallel {display: flex;align-items: stretch;justify-content: center;background-color: white;position: relative;}#sk-container-id-1 div.sk-item::before, #sk-container-id-1 div.sk-parallel-item::before {content: \"\";position: absolute;border-left: 1px solid gray;box-sizing: border-box;top: 0;bottom: 0;left: 50%;z-index: -1;}#sk-container-id-1 div.sk-parallel-item {display: flex;flex-direction: column;z-index: 1;position: relative;background-color: white;}#sk-container-id-1 div.sk-parallel-item:first-child::after {align-self: flex-end;width: 50%;}#sk-container-id-1 div.sk-parallel-item:last-child::after {align-self: flex-start;width: 50%;}#sk-container-id-1 div.sk-parallel-item:only-child::after {width: 0;}#sk-container-id-1 div.sk-dashed-wrapped {border: 1px dashed gray;margin: 0 0.4em 0.5em 0.4em;box-sizing: border-box;padding-bottom: 0.4em;background-color: white;}#sk-container-id-1 div.sk-label label {font-family: monospace;font-weight: bold;display: inline-block;line-height: 1.2em;}#sk-container-id-1 div.sk-label-container {text-align: center;}#sk-container-id-1 div.sk-container {/* jupyter's `normalize.less` sets `[hidden] { display: none; }` but bootstrap.min.css set `[hidden] { display: none !important; }` so we also need the `!important` here to be able to override the default hidden behavior on the sphinx rendered scikit-learn.org. See: https://github.com/scikit-learn/scikit-learn/issues/21755 */display: inline-block !important;position: relative;}#sk-container-id-1 div.sk-text-repr-fallback {display: none;}</style><div id=\"sk-container-id-1\" class=\"sk-top-container\"><div class=\"sk-text-repr-fallback\"><pre>RandomForestClassifier(random_state=2)</pre><b>In a Jupyter environment, please rerun this cell to show the HTML representation or trust the notebook. <br />On GitHub, the HTML representation is unable to render, please try loading this page with nbviewer.org.</b></div><div class=\"sk-container\" hidden><div class=\"sk-item\"><div class=\"sk-estimator sk-toggleable\"><input class=\"sk-toggleable__control sk-hidden--visually\" id=\"sk-estimator-id-1\" type=\"checkbox\" checked><label for=\"sk-estimator-id-1\" class=\"sk-toggleable__label sk-toggleable__label-arrow\">RandomForestClassifier</label><div class=\"sk-toggleable__content\"><pre>RandomForestClassifier(random_state=2)</pre></div></div></div></div></div>"
      ],
      "text/plain": [
       "RandomForestClassifier(random_state=2)"
      ]
     },
     "execution_count": 30,
     "metadata": {},
     "output_type": "execute_result"
    }
   ],
   "source": [
    "bow_model.fit(X_bow, y_train)"
   ]
  },
  {
   "cell_type": "code",
   "execution_count": 31,
   "id": "8bd311e6",
   "metadata": {
    "execution": {
     "iopub.execute_input": "2023-10-29T21:23:46.730758Z",
     "iopub.status.busy": "2023-10-29T21:23:46.730457Z",
     "iopub.status.idle": "2023-10-29T21:23:47.108169Z",
     "shell.execute_reply": "2023-10-29T21:23:47.107483Z"
    }
   },
   "outputs": [
    {
     "data": {
      "text/plain": [
       "<Axes: >"
      ]
     },
     "execution_count": 31,
     "metadata": {},
     "output_type": "execute_result"
    },
    {
     "data": {
      "image/png": "[encoded data removed]",
      "text/plain": [
       "<Figure size 1500x1000 with 1 Axes>"
      ]
     },
     "metadata": {},
     "output_type": "display_data"
    }
   ],
   "source": [
    "# Feature importance in tree models is an indicator on how relevant is a feature for taking the decision by the model\n",
    "pd.Series(bow_model.feature_importances_, index=bow.vocabulary_).sort_values().tail(20).plot.barh(figsize=(15, 10))"
   ]
  },
  {
   "cell_type": "code",
   "execution_count": 32,
   "id": "99fafaac",
   "metadata": {
    "execution": {
     "iopub.execute_input": "2023-10-29T21:23:47.111117Z",
     "iopub.status.busy": "2023-10-29T21:23:47.110891Z",
     "iopub.status.idle": "2023-10-29T21:23:47.115866Z",
     "shell.execute_reply": "2023-10-29T21:23:47.115294Z"
    }
   },
   "outputs": [
    {
     "name": "stdout",
     "output_type": "stream",
     "text": [
      "Number of trees: 100\n",
      "Trees depth (mean): 58.17\n"
     ]
    }
   ],
   "source": [
    "bow_estimators = bow_model.estimators_\n",
    "print(\"Number of trees:\", len(bow_estimators))\n",
    "print(\"Trees depth (mean):\", np.mean([tree.get_depth() for tree in bow_estimators]))"
   ]
  },
  {
   "cell_type": "code",
   "execution_count": 33,
   "id": "cd1eb30e",
   "metadata": {
    "execution": {
     "iopub.execute_input": "2023-10-29T21:23:47.119400Z",
     "iopub.status.busy": "2023-10-29T21:23:47.118746Z",
     "iopub.status.idle": "2023-10-29T21:23:47.456131Z",
     "shell.execute_reply": "2023-10-29T21:23:47.454961Z"
    }
   },
   "outputs": [],
   "source": [
    "y_train_bow_predict = bow_model.predict(X_bow)\n",
    "y_test_bow_predict = bow_model.predict(bow.transform(X_test[\"Textos_espanol\"]))"
   ]
  },
  {
   "cell_type": "code",
   "execution_count": 34,
   "id": "b1fefa43",
   "metadata": {
    "execution": {
     "iopub.execute_input": "2023-10-29T21:23:47.459726Z",
     "iopub.status.busy": "2023-10-29T21:23:47.459211Z",
     "iopub.status.idle": "2023-10-29T21:23:47.694851Z",
     "shell.execute_reply": "2023-10-29T21:23:47.694180Z"
    }
   },
   "outputs": [
    {
     "data": {
      "text/plain": [
       "<sklearn.metrics._plot.confusion_matrix.ConfusionMatrixDisplay at 0x7f791883f010>"
      ]
     },
     "execution_count": 34,
     "metadata": {},
     "output_type": "execute_result"
    },
    {
     "data": {
      "image/png": "[encoded data removed]",
      "text/plain": [
       "<Figure size 640x480 with 2 Axes>"
      ]
     },
     "metadata": {},
     "output_type": "display_data"
    }
   ],
   "source": [
    "ConfusionMatrixDisplay.from_predictions(y_train, y_train_bow_predict)"
   ]
  },
  {
   "cell_type": "code",
   "execution_count": 35,
   "id": "e689ecaa",
   "metadata": {
    "execution": {
     "iopub.execute_input": "2023-10-29T21:23:47.697946Z",
     "iopub.status.busy": "2023-10-29T21:23:47.697709Z",
     "iopub.status.idle": "2023-10-29T21:23:47.949968Z",
     "shell.execute_reply": "2023-10-29T21:23:47.949185Z"
    }
   },
   "outputs": [
    {
     "data": {
      "text/plain": [
       "<sklearn.metrics._plot.confusion_matrix.ConfusionMatrixDisplay at 0x7f7917d62d10>"
      ]
     },
     "execution_count": 35,
     "metadata": {},
     "output_type": "execute_result"
    },
    {
     "data": {
      "image/png": "[encoded data removed]",
      "text/plain": [
       "<Figure size 640x480 with 2 Axes>"
      ]
     },
     "metadata": {},
     "output_type": "display_data"
    }
   ],
   "source": [
    "ConfusionMatrixDisplay.from_predictions(y_test, y_test_bow_predict)"
   ]
  },
  {
   "cell_type": "code",
   "execution_count": 36,
   "id": "12fd7daa",
   "metadata": {
    "execution": {
     "iopub.execute_input": "2023-10-29T21:23:47.955430Z",
     "iopub.status.busy": "2023-10-29T21:23:47.953876Z",
     "iopub.status.idle": "2023-10-29T21:23:47.972730Z",
     "shell.execute_reply": "2023-10-29T21:23:47.972157Z"
    }
   },
   "outputs": [
    {
     "name": "stdout",
     "output_type": "stream",
     "text": [
      "Precision: 1.0\n",
      "Recall: 1.0\n",
      "F1: 1.0\n"
     ]
    }
   ],
   "source": [
    "print(PRECISION, precision_score(y_train, y_train_bow_predict, average=\"weighted\"))\n",
    "print(RECALL, recall_score(y_train, y_train_bow_predict, average=\"weighted\"))\n",
    "print(F1, f1_score(y_train, y_train_bow_predict, average=\"weighted\"))"
   ]
  },
  {
   "cell_type": "code",
   "execution_count": 37,
   "id": "30ec324e",
   "metadata": {
    "execution": {
     "iopub.execute_input": "2023-10-29T21:23:47.976926Z",
     "iopub.status.busy": "2023-10-29T21:23:47.976605Z",
     "iopub.status.idle": "2023-10-29T21:23:47.991569Z",
     "shell.execute_reply": "2023-10-29T21:23:47.990825Z"
    }
   },
   "outputs": [
    {
     "name": "stdout",
     "output_type": "stream",
     "text": [
      "Precision: 0.9608419478750321\n",
      "Recall: 0.9605263157894737\n",
      "F1: 0.9601145075863973\n"
     ]
    }
   ],
   "source": [
    "print(PRECISION, precision_score(y_test, y_test_bow_predict, average=\"weighted\"))\n",
    "print(RECALL, recall_score(y_test, y_test_bow_predict, average=\"weighted\"))\n",
    "print(F1, f1_score(y_test, y_test_bow_predict, average=\"weighted\"))"
   ]
  },
  {
   "cell_type": "markdown",
   "id": "1aede2c8",
   "metadata": {},
   "source": [
    "## Training a model with TF-IDF"
   ]
  },
  {
   "cell_type": "code",
   "execution_count": 38,
   "id": "2b9e63f8",
   "metadata": {
    "execution": {
     "iopub.execute_input": "2023-10-29T21:23:47.996193Z",
     "iopub.status.busy": "2023-10-29T21:23:47.995698Z",
     "iopub.status.idle": "2023-10-29T21:23:47.999525Z",
     "shell.execute_reply": "2023-10-29T21:23:47.998939Z"
    }
   },
   "outputs": [],
   "source": [
    "tfidf_model = RandomForestClassifier(random_state=3)"
   ]
  },
  {
   "cell_type": "code",
   "execution_count": 39,
   "id": "118dff2a",
   "metadata": {
    "execution": {
     "iopub.execute_input": "2023-10-29T21:23:48.004374Z",
     "iopub.status.busy": "2023-10-29T21:23:48.003689Z",
     "iopub.status.idle": "2023-10-29T21:23:48.754763Z",
     "shell.execute_reply": "2023-10-29T21:23:48.754096Z"
    }
   },
   "outputs": [
    {
     "data": {
      "text/html": [
       "<style>#sk-container-id-2 {color: black;}#sk-container-id-2 pre{padding: 0;}#sk-container-id-2 div.sk-toggleable {background-color: white;}#sk-container-id-2 label.sk-toggleable__label {cursor: pointer;display: block;width: 100%;margin-bottom: 0;padding: 0.3em;box-sizing: border-box;text-align: center;}#sk-container-id-2 label.sk-toggleable__label-arrow:before {content: \"▸\";float: left;margin-right: 0.25em;color: #696969;}#sk-container-id-2 label.sk-toggleable__label-arrow:hover:before {color: black;}#sk-container-id-2 div.sk-estimator:hover label.sk-toggleable__label-arrow:before {color: black;}#sk-container-id-2 div.sk-toggleable__content {max-height: 0;max-width: 0;overflow: hidden;text-align: left;background-color: #f0f8ff;}#sk-container-id-2 div.sk-toggleable__content pre {margin: 0.2em;color: black;border-radius: 0.25em;background-color: #f0f8ff;}#sk-container-id-2 input.sk-toggleable__control:checked~div.sk-toggleable__content {max-height: 200px;max-width: 100%;overflow: auto;}#sk-container-id-2 input.sk-toggleable__control:checked~label.sk-toggleable__label-arrow:before {content: \"▾\";}#sk-container-id-2 div.sk-estimator input.sk-toggleable__control:checked~label.sk-toggleable__label {background-color: #d4ebff;}#sk-container-id-2 div.sk-label input.sk-toggleable__control:checked~label.sk-toggleable__label {background-color: #d4ebff;}#sk-container-id-2 input.sk-hidden--visually {border: 0;clip: rect(1px 1px 1px 1px);clip: rect(1px, 1px, 1px, 1px);height: 1px;margin: -1px;overflow: hidden;padding: 0;position: absolute;width: 1px;}#sk-container-id-2 div.sk-estimator {font-family: monospace;background-color: #f0f8ff;border: 1px dotted black;border-radius: 0.25em;box-sizing: border-box;margin-bottom: 0.5em;}#sk-container-id-2 div.sk-estimator:hover {background-color: #d4ebff;}#sk-container-id-2 div.sk-parallel-item::after {content: \"\";width: 100%;border-bottom: 1px solid gray;flex-grow: 1;}#sk-container-id-2 div.sk-label:hover label.sk-toggleable__label {background-color: #d4ebff;}#sk-container-id-2 div.sk-serial::before {content: \"\";position: absolute;border-left: 1px solid gray;box-sizing: border-box;top: 0;bottom: 0;left: 50%;z-index: 0;}#sk-container-id-2 div.sk-serial {display: flex;flex-direction: column;align-items: center;background-color: white;padding-right: 0.2em;padding-left: 0.2em;position: relative;}#sk-container-id-2 div.sk-item {position: relative;z-index: 1;}#sk-container-id-2 div.sk-parallel {display: flex;align-items: stretch;justify-content: center;background-color: white;position: relative;}#sk-container-id-2 div.sk-item::before, #sk-container-id-2 div.sk-parallel-item::before {content: \"\";position: absolute;border-left: 1px solid gray;box-sizing: border-box;top: 0;bottom: 0;left: 50%;z-index: -1;}#sk-container-id-2 div.sk-parallel-item {display: flex;flex-direction: column;z-index: 1;position: relative;background-color: white;}#sk-container-id-2 div.sk-parallel-item:first-child::after {align-self: flex-end;width: 50%;}#sk-container-id-2 div.sk-parallel-item:last-child::after {align-self: flex-start;width: 50%;}#sk-container-id-2 div.sk-parallel-item:only-child::after {width: 0;}#sk-container-id-2 div.sk-dashed-wrapped {border: 1px dashed gray;margin: 0 0.4em 0.5em 0.4em;box-sizing: border-box;padding-bottom: 0.4em;background-color: white;}#sk-container-id-2 div.sk-label label {font-family: monospace;font-weight: bold;display: inline-block;line-height: 1.2em;}#sk-container-id-2 div.sk-label-container {text-align: center;}#sk-container-id-2 div.sk-container {/* jupyter's `normalize.less` sets `[hidden] { display: none; }` but bootstrap.min.css set `[hidden] { display: none !important; }` so we also need the `!important` here to be able to override the default hidden behavior on the sphinx rendered scikit-learn.org. See: https://github.com/scikit-learn/scikit-learn/issues/21755 */display: inline-block !important;position: relative;}#sk-container-id-2 div.sk-text-repr-fallback {display: none;}</style><div id=\"sk-container-id-2\" class=\"sk-top-container\"><div class=\"sk-text-repr-fallback\"><pre>RandomForestClassifier(random_state=3)</pre><b>In a Jupyter environment, please rerun this cell to show the HTML representation or trust the notebook. <br />On GitHub, the HTML representation is unable to render, please try loading this page with nbviewer.org.</b></div><div class=\"sk-container\" hidden><div class=\"sk-item\"><div class=\"sk-estimator sk-toggleable\"><input class=\"sk-toggleable__control sk-hidden--visually\" id=\"sk-estimator-id-2\" type=\"checkbox\" checked><label for=\"sk-estimator-id-2\" class=\"sk-toggleable__label sk-toggleable__label-arrow\">RandomForestClassifier</label><div class=\"sk-toggleable__content\"><pre>RandomForestClassifier(random_state=3)</pre></div></div></div></div></div>"
      ],
      "text/plain": [
       "RandomForestClassifier(random_state=3)"
      ]
     },
     "execution_count": 39,
     "metadata": {},
     "output_type": "execute_result"
    }
   ],
   "source": [
    "tfidf_model.fit(X_tfidf, y_train)"
   ]
  },
  {
   "cell_type": "code",
   "execution_count": 40,
   "id": "6c469495",
   "metadata": {
    "execution": {
     "iopub.execute_input": "2023-10-29T21:23:48.757569Z",
     "iopub.status.busy": "2023-10-29T21:23:48.757241Z",
     "iopub.status.idle": "2023-10-29T21:23:49.194509Z",
     "shell.execute_reply": "2023-10-29T21:23:49.193975Z"
    }
   },
   "outputs": [
    {
     "data": {
      "text/plain": [
       "<Axes: >"
      ]
     },
     "execution_count": 40,
     "metadata": {},
     "output_type": "execute_result"
    },
    {
     "data": {
      "image/png": "[encoded data removed]",
      "text/plain": [
       "<Figure size 1500x1000 with 1 Axes>"
      ]
     },
     "metadata": {},
     "output_type": "display_data"
    }
   ],
   "source": [
    "pd.Series(tfidf_model.feature_importances_, index=tfidf.vocabulary_).sort_values().tail(20).plot.barh(figsize=(15, 10))"
   ]
  },
  {
   "cell_type": "code",
   "execution_count": 41,
   "id": "85b0a51a",
   "metadata": {
    "execution": {
     "iopub.execute_input": "2023-10-29T21:23:49.197827Z",
     "iopub.status.busy": "2023-10-29T21:23:49.197514Z",
     "iopub.status.idle": "2023-10-29T21:23:49.203095Z",
     "shell.execute_reply": "2023-10-29T21:23:49.202329Z"
    }
   },
   "outputs": [
    {
     "name": "stdout",
     "output_type": "stream",
     "text": [
      "Number of trees: 100\n",
      "Trees depth (mean): 52.32\n"
     ]
    }
   ],
   "source": [
    "tfidf_estimators = tfidf_model.estimators_\n",
    "print(\"Number of trees:\", len(tfidf_estimators))\n",
    "print(\"Trees depth (mean):\", np.mean([tree.get_depth() for tree in tfidf_estimators]))"
   ]
  },
  {
   "cell_type": "code",
   "execution_count": 42,
   "id": "bb624253",
   "metadata": {
    "execution": {
     "iopub.execute_input": "2023-10-29T21:23:49.206554Z",
     "iopub.status.busy": "2023-10-29T21:23:49.206173Z",
     "iopub.status.idle": "2023-10-29T21:23:49.542666Z",
     "shell.execute_reply": "2023-10-29T21:23:49.541986Z"
    }
   },
   "outputs": [],
   "source": [
    "y_train_tfidf_predict = tfidf_model.predict(X_tfidf)\n",
    "y_test_tfidf_predict = tfidf_model.predict(tfidf.transform(X_test[\"Textos_espanol\"]))"
   ]
  },
  {
   "cell_type": "code",
   "execution_count": 43,
   "id": "d8146fab",
   "metadata": {
    "execution": {
     "iopub.execute_input": "2023-10-29T21:23:49.546064Z",
     "iopub.status.busy": "2023-10-29T21:23:49.545770Z",
     "iopub.status.idle": "2023-10-29T21:23:49.776653Z",
     "shell.execute_reply": "2023-10-29T21:23:49.775962Z"
    }
   },
   "outputs": [
    {
     "data": {
      "text/plain": [
       "<sklearn.metrics._plot.confusion_matrix.ConfusionMatrixDisplay at 0x7f7917480710>"
      ]
     },
     "execution_count": 43,
     "metadata": {},
     "output_type": "execute_result"
    },
    {
     "data": {
      "image/png": "[encoded data removed]",
      "text/plain": [
       "<Figure size 640x480 with 2 Axes>"
      ]
     },
     "metadata": {},
     "output_type": "display_data"
    }
   ],
   "source": [
    "ConfusionMatrixDisplay.from_predictions(y_train, y_train_tfidf_predict)"
   ]
  },
  {
   "cell_type": "code",
   "execution_count": 44,
   "id": "28a6f53b",
   "metadata": {
    "execution": {
     "iopub.execute_input": "2023-10-29T21:23:49.779938Z",
     "iopub.status.busy": "2023-10-29T21:23:49.779506Z",
     "iopub.status.idle": "2023-10-29T21:23:50.044064Z",
     "shell.execute_reply": "2023-10-29T21:23:50.043198Z"
    }
   },
   "outputs": [
    {
     "data": {
      "text/plain": [
       "<sklearn.metrics._plot.confusion_matrix.ConfusionMatrixDisplay at 0x7f79174dd650>"
      ]
     },
     "execution_count": 44,
     "metadata": {},
     "output_type": "execute_result"
    },
    {
     "data": {
      "image/png": "[encoded data removed]",
      "text/plain": [
       "<Figure size 640x480 with 2 Axes>"
      ]
     },
     "metadata": {},
     "output_type": "display_data"
    }
   ],
   "source": [
    "ConfusionMatrixDisplay.from_predictions(y_test, y_test_tfidf_predict)"
   ]
  },
  {
   "cell_type": "code",
   "execution_count": 45,
   "id": "a9a1d5f6",
   "metadata": {
    "execution": {
     "iopub.execute_input": "2023-10-29T21:23:50.048157Z",
     "iopub.status.busy": "2023-10-29T21:23:50.047626Z",
     "iopub.status.idle": "2023-10-29T21:23:50.063459Z",
     "shell.execute_reply": "2023-10-29T21:23:50.062805Z"
    }
   },
   "outputs": [
    {
     "name": "stdout",
     "output_type": "stream",
     "text": [
      "Precision: 1.0\n",
      "Recall: 1.0\n",
      "F1: 1.0\n"
     ]
    }
   ],
   "source": [
    "print(PRECISION, precision_score(y_train, y_train_tfidf_predict, average=\"weighted\"))\n",
    "print(RECALL, recall_score(y_train, y_train_tfidf_predict, average=\"weighted\"))\n",
    "print(F1, f1_score(y_train, y_train_tfidf_predict, average=\"weighted\"))"
   ]
  },
  {
   "cell_type": "code",
   "execution_count": 46,
   "id": "a1b8cbd5",
   "metadata": {
    "execution": {
     "iopub.execute_input": "2023-10-29T21:23:50.068295Z",
     "iopub.status.busy": "2023-10-29T21:23:50.067933Z",
     "iopub.status.idle": "2023-10-29T21:23:50.083263Z",
     "shell.execute_reply": "2023-10-29T21:23:50.082579Z"
    }
   },
   "outputs": [
    {
     "name": "stdout",
     "output_type": "stream",
     "text": [
      "Precision: 0.9673787727357446\n",
      "Recall: 0.9671052631578947\n",
      "F1: 0.9664542797829031\n"
     ]
    }
   ],
   "source": [
    "print(PRECISION, precision_score(y_test, y_test_tfidf_predict, average=\"weighted\"))  \n",
    "print(RECALL, recall_score(y_test, y_test_tfidf_predict, average=\"weighted\"))\n",
    "print(F1, f1_score(y_test, y_test_tfidf_predict, average=\"weighted\"))"
   ]
  },
  {
   "cell_type": "markdown",
   "id": "955a73b6",
   "metadata": {},
   "source": [
    "## Training a model with SVM"
   ]
  },
  {
   "cell_type": "code",
   "execution_count": 47,
   "id": "3ae957d8",
   "metadata": {
    "execution": {
     "iopub.execute_input": "2023-10-29T21:23:50.088455Z",
     "iopub.status.busy": "2023-10-29T21:23:50.087947Z",
     "iopub.status.idle": "2023-10-29T21:23:50.898440Z",
     "shell.execute_reply": "2023-10-29T21:23:50.897720Z"
    }
   },
   "outputs": [],
   "source": [
    "# Vectorizar tus textos utilizando TF-IDF\n",
    "tfidf_vectorizer = TfidfVectorizer(tokenizer=word_tokenize, stop_words=stop_words, lowercase=True)\n",
    "X_train_tfidf = tfidf_vectorizer.fit_transform(X_train[\"Textos_espanol\"])\n",
    "X_test_tfidf = tfidf_vectorizer.transform(X_test[\"Textos_espanol\"])\n"
   ]
  },
  {
   "cell_type": "code",
   "execution_count": 48,
   "id": "ac88c149",
   "metadata": {
    "execution": {
     "iopub.execute_input": "2023-10-29T21:23:50.901224Z",
     "iopub.status.busy": "2023-10-29T21:23:50.901022Z",
     "iopub.status.idle": "2023-10-29T21:23:51.431319Z",
     "shell.execute_reply": "2023-10-29T21:23:51.430607Z"
    }
   },
   "outputs": [
    {
     "data": {
      "text/html": [
       "<style>#sk-container-id-3 {color: black;}#sk-container-id-3 pre{padding: 0;}#sk-container-id-3 div.sk-toggleable {background-color: white;}#sk-container-id-3 label.sk-toggleable__label {cursor: pointer;display: block;width: 100%;margin-bottom: 0;padding: 0.3em;box-sizing: border-box;text-align: center;}#sk-container-id-3 label.sk-toggleable__label-arrow:before {content: \"▸\";float: left;margin-right: 0.25em;color: #696969;}#sk-container-id-3 label.sk-toggleable__label-arrow:hover:before {color: black;}#sk-container-id-3 div.sk-estimator:hover label.sk-toggleable__label-arrow:before {color: black;}#sk-container-id-3 div.sk-toggleable__content {max-height: 0;max-width: 0;overflow: hidden;text-align: left;background-color: #f0f8ff;}#sk-container-id-3 div.sk-toggleable__content pre {margin: 0.2em;color: black;border-radius: 0.25em;background-color: #f0f8ff;}#sk-container-id-3 input.sk-toggleable__control:checked~div.sk-toggleable__content {max-height: 200px;max-width: 100%;overflow: auto;}#sk-container-id-3 input.sk-toggleable__control:checked~label.sk-toggleable__label-arrow:before {content: \"▾\";}#sk-container-id-3 div.sk-estimator input.sk-toggleable__control:checked~label.sk-toggleable__label {background-color: #d4ebff;}#sk-container-id-3 div.sk-label input.sk-toggleable__control:checked~label.sk-toggleable__label {background-color: #d4ebff;}#sk-container-id-3 input.sk-hidden--visually {border: 0;clip: rect(1px 1px 1px 1px);clip: rect(1px, 1px, 1px, 1px);height: 1px;margin: -1px;overflow: hidden;padding: 0;position: absolute;width: 1px;}#sk-container-id-3 div.sk-estimator {font-family: monospace;background-color: #f0f8ff;border: 1px dotted black;border-radius: 0.25em;box-sizing: border-box;margin-bottom: 0.5em;}#sk-container-id-3 div.sk-estimator:hover {background-color: #d4ebff;}#sk-container-id-3 div.sk-parallel-item::after {content: \"\";width: 100%;border-bottom: 1px solid gray;flex-grow: 1;}#sk-container-id-3 div.sk-label:hover label.sk-toggleable__label {background-color: #d4ebff;}#sk-container-id-3 div.sk-serial::before {content: \"\";position: absolute;border-left: 1px solid gray;box-sizing: border-box;top: 0;bottom: 0;left: 50%;z-index: 0;}#sk-container-id-3 div.sk-serial {display: flex;flex-direction: column;align-items: center;background-color: white;padding-right: 0.2em;padding-left: 0.2em;position: relative;}#sk-container-id-3 div.sk-item {position: relative;z-index: 1;}#sk-container-id-3 div.sk-parallel {display: flex;align-items: stretch;justify-content: center;background-color: white;position: relative;}#sk-container-id-3 div.sk-item::before, #sk-container-id-3 div.sk-parallel-item::before {content: \"\";position: absolute;border-left: 1px solid gray;box-sizing: border-box;top: 0;bottom: 0;left: 50%;z-index: -1;}#sk-container-id-3 div.sk-parallel-item {display: flex;flex-direction: column;z-index: 1;position: relative;background-color: white;}#sk-container-id-3 div.sk-parallel-item:first-child::after {align-self: flex-end;width: 50%;}#sk-container-id-3 div.sk-parallel-item:last-child::after {align-self: flex-start;width: 50%;}#sk-container-id-3 div.sk-parallel-item:only-child::after {width: 0;}#sk-container-id-3 div.sk-dashed-wrapped {border: 1px dashed gray;margin: 0 0.4em 0.5em 0.4em;box-sizing: border-box;padding-bottom: 0.4em;background-color: white;}#sk-container-id-3 div.sk-label label {font-family: monospace;font-weight: bold;display: inline-block;line-height: 1.2em;}#sk-container-id-3 div.sk-label-container {text-align: center;}#sk-container-id-3 div.sk-container {/* jupyter's `normalize.less` sets `[hidden] { display: none; }` but bootstrap.min.css set `[hidden] { display: none !important; }` so we also need the `!important` here to be able to override the default hidden behavior on the sphinx rendered scikit-learn.org. See: https://github.com/scikit-learn/scikit-learn/issues/21755 */display: inline-block !important;position: relative;}#sk-container-id-3 div.sk-text-repr-fallback {display: none;}</style><div id=\"sk-container-id-3\" class=\"sk-top-container\"><div class=\"sk-text-repr-fallback\"><pre>SVC(C=1, kernel=&#x27;linear&#x27;)</pre><b>In a Jupyter environment, please rerun this cell to show the HTML representation or trust the notebook. <br />On GitHub, the HTML representation is unable to render, please try loading this page with nbviewer.org.</b></div><div class=\"sk-container\" hidden><div class=\"sk-item\"><div class=\"sk-estimator sk-toggleable\"><input class=\"sk-toggleable__control sk-hidden--visually\" id=\"sk-estimator-id-3\" type=\"checkbox\" checked><label for=\"sk-estimator-id-3\" class=\"sk-toggleable__label sk-toggleable__label-arrow\">SVC</label><div class=\"sk-toggleable__content\"><pre>SVC(C=1, kernel=&#x27;linear&#x27;)</pre></div></div></div></div></div>"
      ],
      "text/plain": [
       "SVC(C=1, kernel='linear')"
      ]
     },
     "execution_count": 48,
     "metadata": {},
     "output_type": "execute_result"
    }
   ],
   "source": [
    "# Entrenar un modelo SVM\n",
    "svm_classifier = SVC(kernel=\"linear\", C=1)  # Puedes ajustar los hiperparámetros según sea necesario\n",
    "svm_classifier.fit(X_train_tfidf, y_train)"
   ]
  },
  {
   "cell_type": "code",
   "execution_count": 49,
   "id": "a0cd5505",
   "metadata": {
    "execution": {
     "iopub.execute_input": "2023-10-29T21:23:51.435240Z",
     "iopub.status.busy": "2023-10-29T21:23:51.434943Z",
     "iopub.status.idle": "2023-10-29T21:23:51.443513Z",
     "shell.execute_reply": "2023-10-29T21:23:51.442864Z"
    }
   },
   "outputs": [],
   "source": [
    "coeficientes = abs(svm_classifier.coef_.toarray()[0]) "
   ]
  },
  {
   "cell_type": "code",
   "execution_count": 50,
   "id": "eca1983d",
   "metadata": {
    "execution": {
     "iopub.execute_input": "2023-10-29T21:23:51.446803Z",
     "iopub.status.busy": "2023-10-29T21:23:51.446282Z",
     "iopub.status.idle": "2023-10-29T21:23:51.457941Z",
     "shell.execute_reply": "2023-10-29T21:23:51.457412Z"
    }
   },
   "outputs": [],
   "source": [
    "nombres_caracteristicas = tfidf_vectorizer.get_feature_names_out()"
   ]
  },
  {
   "cell_type": "code",
   "execution_count": 51,
   "id": "0c561de2",
   "metadata": {
    "execution": {
     "iopub.execute_input": "2023-10-29T21:23:51.461057Z",
     "iopub.status.busy": "2023-10-29T21:23:51.460780Z",
     "iopub.status.idle": "2023-10-29T21:23:51.469243Z",
     "shell.execute_reply": "2023-10-29T21:23:51.468700Z"
    }
   },
   "outputs": [],
   "source": [
    "df_coeficientes = pd.DataFrame({'Palabra': nombres_caracteristicas, 'Coeficiente': coeficientes})"
   ]
  },
  {
   "cell_type": "code",
   "execution_count": 52,
   "id": "8baae47a",
   "metadata": {
    "execution": {
     "iopub.execute_input": "2023-10-29T21:23:51.472084Z",
     "iopub.status.busy": "2023-10-29T21:23:51.471759Z",
     "iopub.status.idle": "2023-10-29T21:23:51.480993Z",
     "shell.execute_reply": "2023-10-29T21:23:51.480345Z"
    }
   },
   "outputs": [],
   "source": [
    "df_coeficientes = df_coeficientes.sort_values(by='Coeficiente', key=np.abs, ascending=False)"
   ]
  },
  {
   "cell_type": "code",
   "execution_count": 53,
   "id": "bcb87f77",
   "metadata": {
    "execution": {
     "iopub.execute_input": "2023-10-29T21:23:51.484447Z",
     "iopub.status.busy": "2023-10-29T21:23:51.483881Z",
     "iopub.status.idle": "2023-10-29T21:23:51.490761Z",
     "shell.execute_reply": "2023-10-29T21:23:51.489756Z"
    }
   },
   "outputs": [],
   "source": [
    "palabras_importantes = df_coeficientes.head(10)"
   ]
  },
  {
   "cell_type": "code",
   "execution_count": 54,
   "id": "368beda8",
   "metadata": {
    "execution": {
     "iopub.execute_input": "2023-10-29T21:23:51.494405Z",
     "iopub.status.busy": "2023-10-29T21:23:51.493922Z",
     "iopub.status.idle": "2023-10-29T21:23:51.722372Z",
     "shell.execute_reply": "2023-10-29T21:23:51.721776Z"
    }
   },
   "outputs": [
    {
     "data": {
      "image/png": "[encoded data removed]",
      "text/plain": [
       "<Figure size 1200x800 with 1 Axes>"
      ]
     },
     "metadata": {},
     "output_type": "display_data"
    }
   ],
   "source": [
    "plt.figure(figsize=(12, 8))\n",
    "plt.barh(palabras_importantes['Palabra'], palabras_importantes['Coeficiente'])\n",
    "plt.xlabel('Coeficiente')\n",
    "plt.ylabel('Palabra')\n",
    "plt.title('Palabras más importantes según el modelo SVM')\n",
    "plt.gca().invert_yaxis()  # Invertir el eje y para mostrar las palabras más importantes en la parte superior\n",
    "plt.show()"
   ]
  },
  {
   "cell_type": "code",
   "execution_count": 55,
   "id": "b47792a6",
   "metadata": {
    "execution": {
     "iopub.execute_input": "2023-10-29T21:23:51.725085Z",
     "iopub.status.busy": "2023-10-29T21:23:51.724877Z",
     "iopub.status.idle": "2023-10-29T21:23:51.908104Z",
     "shell.execute_reply": "2023-10-29T21:23:51.907405Z"
    }
   },
   "outputs": [],
   "source": [
    "# Realizar predicciones en el conjunto de prueba\n",
    "y_pred = svm_classifier.predict(X_test_tfidf)\n"
   ]
  },
  {
   "cell_type": "code",
   "execution_count": 56,
   "id": "8e68d5bf",
   "metadata": {
    "execution": {
     "iopub.execute_input": "2023-10-29T21:23:51.911848Z",
     "iopub.status.busy": "2023-10-29T21:23:51.911255Z",
     "iopub.status.idle": "2023-10-29T21:23:51.925232Z",
     "shell.execute_reply": "2023-10-29T21:23:51.924453Z"
    }
   },
   "outputs": [
    {
     "name": "stdout",
     "output_type": "stream",
     "text": [
      "Precisión promedio: 0.98095703125\n",
      "Recall promedio: 0.9802631578947368\n",
      "F1-score promedio: 0.9800223455137752\n"
     ]
    }
   ],
   "source": [
    "# Calcular las métricas para todo el conjunto de prueba\n",
    "precision = precision_score(y_test, y_pred, average=\"weighted\")\n",
    "recall = recall_score(y_test, y_pred, average=\"weighted\")\n",
    "f1 = f1_score(y_test, y_pred, average=\"weighted\")\n",
    "\n",
    "# Imprimir las métricas\n",
    "print(\"Precisión promedio:\", precision)\n",
    "print(\"Recall promedio:\", recall)\n",
    "print(\"F1-score promedio:\", f1)"
   ]
  },
  {
   "cell_type": "code",
   "execution_count": 57,
   "id": "4dbd2e07",
   "metadata": {
    "execution": {
     "iopub.execute_input": "2023-10-29T21:23:51.929108Z",
     "iopub.status.busy": "2023-10-29T21:23:51.928824Z",
     "iopub.status.idle": "2023-10-29T21:23:52.354401Z",
     "shell.execute_reply": "2023-10-29T21:23:52.353476Z"
    }
   },
   "outputs": [
    {
     "name": "stdout",
     "output_type": "stream",
     "text": [
      "F1 Score en conjunto de entrenamiento (SVM): 0.9981196721162332\n",
      "Precisión en conjunto de entrenamiento (SVM): 0.9981348688975807\n",
      "Recall en conjunto de entrenamiento (SVM): 0.9981167608286252\n"
     ]
    }
   ],
   "source": [
    "# Obtener predicciones en el conjunto de entrenamiento\n",
    "y_train_pred_svm = svm_classifier.predict(X_train_tfidf)\n",
    "\n",
    "# Calcular métricas de evaluación en el conjunto de entrenamiento\n",
    "f1_svm_train = f1_score(y_train, y_train_pred_svm, average='weighted')\n",
    "precision_svm_train = precision_score(y_train, y_train_pred_svm, average='weighted')\n",
    "recall_svm_train = recall_score(y_train, y_train_pred_svm, average='weighted')\n",
    "\n",
    "print(\"F1 Score en conjunto de entrenamiento (SVM):\", f1_svm_train)\n",
    "print(\"Precisión en conjunto de entrenamiento (SVM):\", precision_svm_train)\n",
    "print(\"Recall en conjunto de entrenamiento (SVM):\", recall_svm_train)"
   ]
  },
  {
   "cell_type": "code",
   "execution_count": 58,
   "id": "d2a875db",
   "metadata": {
    "execution": {
     "iopub.execute_input": "2023-10-29T21:23:52.357900Z",
     "iopub.status.busy": "2023-10-29T21:23:52.357660Z",
     "iopub.status.idle": "2023-10-29T21:23:52.598513Z",
     "shell.execute_reply": "2023-10-29T21:23:52.597796Z"
    }
   },
   "outputs": [
    {
     "data": {
      "text/plain": [
       "<sklearn.metrics._plot.confusion_matrix.ConfusionMatrixDisplay at 0x7f7917ec87d0>"
      ]
     },
     "execution_count": 58,
     "metadata": {},
     "output_type": "execute_result"
    },
    {
     "data": {
      "image/png": "[encoded data removed]",
      "text/plain": [
       "<Figure size 640x480 with 2 Axes>"
      ]
     },
     "metadata": {},
     "output_type": "display_data"
    }
   ],
   "source": [
    "ConfusionMatrixDisplay.from_predictions(y_train, y_train_pred_svm)"
   ]
  },
  {
   "cell_type": "code",
   "execution_count": 59,
   "id": "dab8dac3",
   "metadata": {
    "execution": {
     "iopub.execute_input": "2023-10-29T21:23:52.602289Z",
     "iopub.status.busy": "2023-10-29T21:23:52.601838Z",
     "iopub.status.idle": "2023-10-29T21:23:52.829947Z",
     "shell.execute_reply": "2023-10-29T21:23:52.828988Z"
    }
   },
   "outputs": [
    {
     "data": {
      "text/plain": [
       "<sklearn.metrics._plot.confusion_matrix.ConfusionMatrixDisplay at 0x7f7917e1be10>"
      ]
     },
     "execution_count": 59,
     "metadata": {},
     "output_type": "execute_result"
    },
    {
     "data": {
      "image/png": "[encoded data removed]",
      "text/plain": [
       "<Figure size 640x480 with 2 Axes>"
      ]
     },
     "metadata": {},
     "output_type": "display_data"
    }
   ],
   "source": [
    "ConfusionMatrixDisplay.from_predictions(y_test, y_pred)"
   ]
  },
  {
   "cell_type": "markdown",
   "id": "e3415006",
   "metadata": {},
   "source": [
    "### Model selection"
   ]
  },
  {
   "cell_type": "code",
   "execution_count": 60,
   "id": "c119467d",
   "metadata": {
    "execution": {
     "iopub.execute_input": "2023-10-29T21:23:52.833396Z",
     "iopub.status.busy": "2023-10-29T21:23:52.833087Z",
     "iopub.status.idle": "2023-10-29T21:23:52.838047Z",
     "shell.execute_reply": "2023-10-29T21:23:52.837309Z"
    }
   },
   "outputs": [],
   "source": [
    "pipeline = Pipeline(steps = [\n",
    "    (\"vectorizer\", CountVectorizer(tokenizer=word_tokenize, stop_words=stop_words, lowercase=True)),\n",
    "    (\"classifier\", RandomForestClassifier(random_state=4)),\n",
    "])"
   ]
  },
  {
   "cell_type": "code",
   "execution_count": 61,
   "id": "f3eabc89",
   "metadata": {
    "execution": {
     "iopub.execute_input": "2023-10-29T21:23:52.841467Z",
     "iopub.status.busy": "2023-10-29T21:23:52.840981Z",
     "iopub.status.idle": "2023-10-29T21:23:52.854277Z",
     "shell.execute_reply": "2023-10-29T21:23:52.853601Z"
    }
   },
   "outputs": [],
   "source": [
    "param_grid = {\n",
    "    \"vectorizer\": [CountVectorizer(tokenizer=word_tokenize, stop_words=stop_words), TfidfVectorizer(tokenizer=word_tokenize, stop_words=stop_words)],\n",
    "    \"vectorizer__lowercase\": [True, False],\n",
    "    \"classifier__n_estimators\": [50, 100],\n",
    "    \"classifier__criterion\": ['gini', 'entropy'],\n",
    "    \"classifier__max_depth\": [25, 50, 75, 100], \n",
    "}\n"
   ]
  },
  {
   "cell_type": "code",
   "execution_count": 62,
   "id": "97a09206",
   "metadata": {
    "execution": {
     "iopub.execute_input": "2023-10-29T21:23:52.859064Z",
     "iopub.status.busy": "2023-10-29T21:23:52.858426Z",
     "iopub.status.idle": "2023-10-29T21:23:52.864678Z",
     "shell.execute_reply": "2023-10-29T21:23:52.863806Z"
    }
   },
   "outputs": [],
   "source": [
    "search = RandomizedSearchCV(pipeline, param_grid, n_iter=10, scoring=[\"precision\", \"recall\", \"f1\"], refit=\"f1\", cv=7, return_train_score=True, verbose=1, random_state=5)\n"
   ]
  },
  {
   "cell_type": "code",
   "execution_count": 63,
   "id": "f1cd4c95",
   "metadata": {
    "execution": {
     "iopub.execute_input": "2023-10-29T21:23:52.868973Z",
     "iopub.status.busy": "2023-10-29T21:23:52.868656Z",
     "iopub.status.idle": "2023-10-29T21:26:05.867400Z",
     "shell.execute_reply": "2023-10-29T21:26:05.866560Z"
    }
   },
   "outputs": [
    {
     "name": "stdout",
     "output_type": "stream",
     "text": [
      "Fitting 7 folds for each of 10 candidates, totalling 70 fits\n"
     ]
    },
    {
     "data": {
      "text/html": [
       "<style>#sk-container-id-4 {color: black;}#sk-container-id-4 pre{padding: 0;}#sk-container-id-4 div.sk-toggleable {background-color: white;}#sk-container-id-4 label.sk-toggleable__label {cursor: pointer;display: block;width: 100%;margin-bottom: 0;padding: 0.3em;box-sizing: border-box;text-align: center;}#sk-container-id-4 label.sk-toggleable__label-arrow:before {content: \"▸\";float: left;margin-right: 0.25em;color: #696969;}#sk-container-id-4 label.sk-toggleable__label-arrow:hover:before {color: black;}#sk-container-id-4 div.sk-estimator:hover label.sk-toggleable__label-arrow:before {color: black;}#sk-container-id-4 div.sk-toggleable__content {max-height: 0;max-width: 0;overflow: hidden;text-align: left;background-color: #f0f8ff;}#sk-container-id-4 div.sk-toggleable__content pre {margin: 0.2em;color: black;border-radius: 0.25em;background-color: #f0f8ff;}#sk-container-id-4 input.sk-toggleable__control:checked~div.sk-toggleable__content {max-height: 200px;max-width: 100%;overflow: auto;}#sk-container-id-4 input.sk-toggleable__control:checked~label.sk-toggleable__label-arrow:before {content: \"▾\";}#sk-container-id-4 div.sk-estimator input.sk-toggleable__control:checked~label.sk-toggleable__label {background-color: #d4ebff;}#sk-container-id-4 div.sk-label input.sk-toggleable__control:checked~label.sk-toggleable__label {background-color: #d4ebff;}#sk-container-id-4 input.sk-hidden--visually {border: 0;clip: rect(1px 1px 1px 1px);clip: rect(1px, 1px, 1px, 1px);height: 1px;margin: -1px;overflow: hidden;padding: 0;position: absolute;width: 1px;}#sk-container-id-4 div.sk-estimator {font-family: monospace;background-color: #f0f8ff;border: 1px dotted black;border-radius: 0.25em;box-sizing: border-box;margin-bottom: 0.5em;}#sk-container-id-4 div.sk-estimator:hover {background-color: #d4ebff;}#sk-container-id-4 div.sk-parallel-item::after {content: \"\";width: 100%;border-bottom: 1px solid gray;flex-grow: 1;}#sk-container-id-4 div.sk-label:hover label.sk-toggleable__label {background-color: #d4ebff;}#sk-container-id-4 div.sk-serial::before {content: \"\";position: absolute;border-left: 1px solid gray;box-sizing: border-box;top: 0;bottom: 0;left: 50%;z-index: 0;}#sk-container-id-4 div.sk-serial {display: flex;flex-direction: column;align-items: center;background-color: white;padding-right: 0.2em;padding-left: 0.2em;position: relative;}#sk-container-id-4 div.sk-item {position: relative;z-index: 1;}#sk-container-id-4 div.sk-parallel {display: flex;align-items: stretch;justify-content: center;background-color: white;position: relative;}#sk-container-id-4 div.sk-item::before, #sk-container-id-4 div.sk-parallel-item::before {content: \"\";position: absolute;border-left: 1px solid gray;box-sizing: border-box;top: 0;bottom: 0;left: 50%;z-index: -1;}#sk-container-id-4 div.sk-parallel-item {display: flex;flex-direction: column;z-index: 1;position: relative;background-color: white;}#sk-container-id-4 div.sk-parallel-item:first-child::after {align-self: flex-end;width: 50%;}#sk-container-id-4 div.sk-parallel-item:last-child::after {align-self: flex-start;width: 50%;}#sk-container-id-4 div.sk-parallel-item:only-child::after {width: 0;}#sk-container-id-4 div.sk-dashed-wrapped {border: 1px dashed gray;margin: 0 0.4em 0.5em 0.4em;box-sizing: border-box;padding-bottom: 0.4em;background-color: white;}#sk-container-id-4 div.sk-label label {font-family: monospace;font-weight: bold;display: inline-block;line-height: 1.2em;}#sk-container-id-4 div.sk-label-container {text-align: center;}#sk-container-id-4 div.sk-container {/* jupyter's `normalize.less` sets `[hidden] { display: none; }` but bootstrap.min.css set `[hidden] { display: none !important; }` so we also need the `!important` here to be able to override the default hidden behavior on the sphinx rendered scikit-learn.org. See: https://github.com/scikit-learn/scikit-learn/issues/21755 */display: inline-block !important;position: relative;}#sk-container-id-4 div.sk-text-repr-fallback {display: none;}</style><div id=\"sk-container-id-4\" class=\"sk-top-container\"><div class=\"sk-text-repr-fallback\"><pre>RandomizedSearchCV(cv=7,\n",
       "                   estimator=Pipeline(steps=[(&#x27;vectorizer&#x27;,\n",
       "                                              CountVectorizer(stop_words=[&#x27;de&#x27;,\n",
       "                                                                          &#x27;la&#x27;,\n",
       "                                                                          &#x27;que&#x27;,\n",
       "                                                                          &#x27;el&#x27;,\n",
       "                                                                          &#x27;en&#x27;,\n",
       "                                                                          &#x27;y&#x27;,\n",
       "                                                                          &#x27;a&#x27;,\n",
       "                                                                          &#x27;los&#x27;,\n",
       "                                                                          &#x27;del&#x27;,\n",
       "                                                                          &#x27;se&#x27;,\n",
       "                                                                          &#x27;las&#x27;,\n",
       "                                                                          &#x27;por&#x27;,\n",
       "                                                                          &#x27;un&#x27;,\n",
       "                                                                          &#x27;para&#x27;,\n",
       "                                                                          &#x27;con&#x27;,\n",
       "                                                                          &#x27;no&#x27;,\n",
       "                                                                          &#x27;una&#x27;,\n",
       "                                                                          &#x27;su&#x27;,\n",
       "                                                                          &#x27;al&#x27;,\n",
       "                                                                          &#x27;lo&#x27;,\n",
       "                                                                          &#x27;como&#x27;,\n",
       "                                                                          &#x27;más&#x27;,\n",
       "                                                                          &#x27;pero&#x27;,\n",
       "                                                                          &#x27;sus&#x27;,\n",
       "                                                                          &#x27;le&#x27;,\n",
       "                                                                          &#x27;ya&#x27;,\n",
       "                                                                          &#x27;o&#x27;,\n",
       "                                                                          &#x27;este&#x27;,\n",
       "                                                                          &#x27;sí&#x27;,\n",
       "                                                                          &#x27;porque&#x27;, ...],\n",
       "                                                              tokenizer=&lt;function word_tokenize at 0x7f79264a54e0&gt;)),\n",
       "                                             (&#x27;classifier&#x27;,\n",
       "                                              RandomForestClassif...\n",
       "                                                                                   &#x27;la&#x27;,\n",
       "                                                                                   &#x27;que&#x27;,\n",
       "                                                                                   &#x27;el&#x27;,\n",
       "                                                                                   &#x27;en&#x27;,\n",
       "                                                                                   &#x27;y&#x27;,\n",
       "                                                                                   &#x27;a&#x27;,\n",
       "                                                                                   &#x27;los&#x27;,\n",
       "                                                                                   &#x27;del&#x27;,\n",
       "                                                                                   &#x27;se&#x27;,\n",
       "                                                                                   &#x27;las&#x27;,\n",
       "                                                                                   &#x27;por&#x27;,\n",
       "                                                                                   &#x27;un&#x27;,\n",
       "                                                                                   &#x27;para&#x27;,\n",
       "                                                                                   &#x27;con&#x27;,\n",
       "                                                                                   &#x27;no&#x27;,\n",
       "                                                                                   &#x27;una&#x27;,\n",
       "                                                                                   &#x27;su&#x27;,\n",
       "                                                                                   &#x27;al&#x27;,\n",
       "                                                                                   &#x27;lo&#x27;,\n",
       "                                                                                   &#x27;como&#x27;,\n",
       "                                                                                   &#x27;más&#x27;,\n",
       "                                                                                   &#x27;pero&#x27;,\n",
       "                                                                                   &#x27;sus&#x27;,\n",
       "                                                                                   &#x27;le&#x27;,\n",
       "                                                                                   &#x27;ya&#x27;,\n",
       "                                                                                   &#x27;o&#x27;,\n",
       "                                                                                   &#x27;este&#x27;,\n",
       "                                                                                   &#x27;sí&#x27;,\n",
       "                                                                                   &#x27;porque&#x27;, ...],\n",
       "                                                                       tokenizer=&lt;function word_tokenize at 0x7f79264a54e0&gt;)],\n",
       "                                        &#x27;vectorizer__lowercase&#x27;: [True, False]},\n",
       "                   random_state=5, refit=&#x27;f1&#x27;, return_train_score=True,\n",
       "                   scoring=[&#x27;precision&#x27;, &#x27;recall&#x27;, &#x27;f1&#x27;], verbose=1)</pre><b>In a Jupyter environment, please rerun this cell to show the HTML representation or trust the notebook. <br />On GitHub, the HTML representation is unable to render, please try loading this page with nbviewer.org.</b></div><div class=\"sk-container\" hidden><div class=\"sk-item sk-dashed-wrapped\"><div class=\"sk-label-container\"><div class=\"sk-label sk-toggleable\"><input class=\"sk-toggleable__control sk-hidden--visually\" id=\"sk-estimator-id-4\" type=\"checkbox\" ><label for=\"sk-estimator-id-4\" class=\"sk-toggleable__label sk-toggleable__label-arrow\">RandomizedSearchCV</label><div class=\"sk-toggleable__content\"><pre>RandomizedSearchCV(cv=7,\n",
       "                   estimator=Pipeline(steps=[(&#x27;vectorizer&#x27;,\n",
       "                                              CountVectorizer(stop_words=[&#x27;de&#x27;,\n",
       "                                                                          &#x27;la&#x27;,\n",
       "                                                                          &#x27;que&#x27;,\n",
       "                                                                          &#x27;el&#x27;,\n",
       "                                                                          &#x27;en&#x27;,\n",
       "                                                                          &#x27;y&#x27;,\n",
       "                                                                          &#x27;a&#x27;,\n",
       "                                                                          &#x27;los&#x27;,\n",
       "                                                                          &#x27;del&#x27;,\n",
       "                                                                          &#x27;se&#x27;,\n",
       "                                                                          &#x27;las&#x27;,\n",
       "                                                                          &#x27;por&#x27;,\n",
       "                                                                          &#x27;un&#x27;,\n",
       "                                                                          &#x27;para&#x27;,\n",
       "                                                                          &#x27;con&#x27;,\n",
       "                                                                          &#x27;no&#x27;,\n",
       "                                                                          &#x27;una&#x27;,\n",
       "                                                                          &#x27;su&#x27;,\n",
       "                                                                          &#x27;al&#x27;,\n",
       "                                                                          &#x27;lo&#x27;,\n",
       "                                                                          &#x27;como&#x27;,\n",
       "                                                                          &#x27;más&#x27;,\n",
       "                                                                          &#x27;pero&#x27;,\n",
       "                                                                          &#x27;sus&#x27;,\n",
       "                                                                          &#x27;le&#x27;,\n",
       "                                                                          &#x27;ya&#x27;,\n",
       "                                                                          &#x27;o&#x27;,\n",
       "                                                                          &#x27;este&#x27;,\n",
       "                                                                          &#x27;sí&#x27;,\n",
       "                                                                          &#x27;porque&#x27;, ...],\n",
       "                                                              tokenizer=&lt;function word_tokenize at 0x7f79264a54e0&gt;)),\n",
       "                                             (&#x27;classifier&#x27;,\n",
       "                                              RandomForestClassif...\n",
       "                                                                                   &#x27;la&#x27;,\n",
       "                                                                                   &#x27;que&#x27;,\n",
       "                                                                                   &#x27;el&#x27;,\n",
       "                                                                                   &#x27;en&#x27;,\n",
       "                                                                                   &#x27;y&#x27;,\n",
       "                                                                                   &#x27;a&#x27;,\n",
       "                                                                                   &#x27;los&#x27;,\n",
       "                                                                                   &#x27;del&#x27;,\n",
       "                                                                                   &#x27;se&#x27;,\n",
       "                                                                                   &#x27;las&#x27;,\n",
       "                                                                                   &#x27;por&#x27;,\n",
       "                                                                                   &#x27;un&#x27;,\n",
       "                                                                                   &#x27;para&#x27;,\n",
       "                                                                                   &#x27;con&#x27;,\n",
       "                                                                                   &#x27;no&#x27;,\n",
       "                                                                                   &#x27;una&#x27;,\n",
       "                                                                                   &#x27;su&#x27;,\n",
       "                                                                                   &#x27;al&#x27;,\n",
       "                                                                                   &#x27;lo&#x27;,\n",
       "                                                                                   &#x27;como&#x27;,\n",
       "                                                                                   &#x27;más&#x27;,\n",
       "                                                                                   &#x27;pero&#x27;,\n",
       "                                                                                   &#x27;sus&#x27;,\n",
       "                                                                                   &#x27;le&#x27;,\n",
       "                                                                                   &#x27;ya&#x27;,\n",
       "                                                                                   &#x27;o&#x27;,\n",
       "                                                                                   &#x27;este&#x27;,\n",
       "                                                                                   &#x27;sí&#x27;,\n",
       "                                                                                   &#x27;porque&#x27;, ...],\n",
       "                                                                       tokenizer=&lt;function word_tokenize at 0x7f79264a54e0&gt;)],\n",
       "                                        &#x27;vectorizer__lowercase&#x27;: [True, False]},\n",
       "                   random_state=5, refit=&#x27;f1&#x27;, return_train_score=True,\n",
       "                   scoring=[&#x27;precision&#x27;, &#x27;recall&#x27;, &#x27;f1&#x27;], verbose=1)</pre></div></div></div><div class=\"sk-parallel\"><div class=\"sk-parallel-item\"><div class=\"sk-item\"><div class=\"sk-label-container\"><div class=\"sk-label sk-toggleable\"><input class=\"sk-toggleable__control sk-hidden--visually\" id=\"sk-estimator-id-5\" type=\"checkbox\" ><label for=\"sk-estimator-id-5\" class=\"sk-toggleable__label sk-toggleable__label-arrow\">estimator: Pipeline</label><div class=\"sk-toggleable__content\"><pre>Pipeline(steps=[(&#x27;vectorizer&#x27;,\n",
       "                 CountVectorizer(stop_words=[&#x27;de&#x27;, &#x27;la&#x27;, &#x27;que&#x27;, &#x27;el&#x27;, &#x27;en&#x27;, &#x27;y&#x27;,\n",
       "                                             &#x27;a&#x27;, &#x27;los&#x27;, &#x27;del&#x27;, &#x27;se&#x27;, &#x27;las&#x27;,\n",
       "                                             &#x27;por&#x27;, &#x27;un&#x27;, &#x27;para&#x27;, &#x27;con&#x27;, &#x27;no&#x27;,\n",
       "                                             &#x27;una&#x27;, &#x27;su&#x27;, &#x27;al&#x27;, &#x27;lo&#x27;, &#x27;como&#x27;,\n",
       "                                             &#x27;más&#x27;, &#x27;pero&#x27;, &#x27;sus&#x27;, &#x27;le&#x27;, &#x27;ya&#x27;,\n",
       "                                             &#x27;o&#x27;, &#x27;este&#x27;, &#x27;sí&#x27;, &#x27;porque&#x27;, ...],\n",
       "                                 tokenizer=&lt;function word_tokenize at 0x7f79264a54e0&gt;)),\n",
       "                (&#x27;classifier&#x27;, RandomForestClassifier(random_state=4))])</pre></div></div></div><div class=\"sk-serial\"><div class=\"sk-item\"><div class=\"sk-serial\"><div class=\"sk-item\"><div class=\"sk-estimator sk-toggleable\"><input class=\"sk-toggleable__control sk-hidden--visually\" id=\"sk-estimator-id-6\" type=\"checkbox\" ><label for=\"sk-estimator-id-6\" class=\"sk-toggleable__label sk-toggleable__label-arrow\">CountVectorizer</label><div class=\"sk-toggleable__content\"><pre>CountVectorizer(stop_words=[&#x27;de&#x27;, &#x27;la&#x27;, &#x27;que&#x27;, &#x27;el&#x27;, &#x27;en&#x27;, &#x27;y&#x27;, &#x27;a&#x27;, &#x27;los&#x27;,\n",
       "                            &#x27;del&#x27;, &#x27;se&#x27;, &#x27;las&#x27;, &#x27;por&#x27;, &#x27;un&#x27;, &#x27;para&#x27;, &#x27;con&#x27;,\n",
       "                            &#x27;no&#x27;, &#x27;una&#x27;, &#x27;su&#x27;, &#x27;al&#x27;, &#x27;lo&#x27;, &#x27;como&#x27;, &#x27;más&#x27;,\n",
       "                            &#x27;pero&#x27;, &#x27;sus&#x27;, &#x27;le&#x27;, &#x27;ya&#x27;, &#x27;o&#x27;, &#x27;este&#x27;, &#x27;sí&#x27;,\n",
       "                            &#x27;porque&#x27;, ...],\n",
       "                tokenizer=&lt;function word_tokenize at 0x7f79264a54e0&gt;)</pre></div></div></div><div class=\"sk-item\"><div class=\"sk-estimator sk-toggleable\"><input class=\"sk-toggleable__control sk-hidden--visually\" id=\"sk-estimator-id-7\" type=\"checkbox\" ><label for=\"sk-estimator-id-7\" class=\"sk-toggleable__label sk-toggleable__label-arrow\">RandomForestClassifier</label><div class=\"sk-toggleable__content\"><pre>RandomForestClassifier(random_state=4)</pre></div></div></div></div></div></div></div></div></div></div></div></div>"
      ],
      "text/plain": [
       "RandomizedSearchCV(cv=7,\n",
       "                   estimator=Pipeline(steps=[('vectorizer',\n",
       "                                              CountVectorizer(stop_words=['de',\n",
       "                                                                          'la',\n",
       "                                                                          'que',\n",
       "                                                                          'el',\n",
       "                                                                          'en',\n",
       "                                                                          'y',\n",
       "                                                                          'a',\n",
       "                                                                          'los',\n",
       "                                                                          'del',\n",
       "                                                                          'se',\n",
       "                                                                          'las',\n",
       "                                                                          'por',\n",
       "                                                                          'un',\n",
       "                                                                          'para',\n",
       "                                                                          'con',\n",
       "                                                                          'no',\n",
       "                                                                          'una',\n",
       "                                                                          'su',\n",
       "                                                                          'al',\n",
       "                                                                          'lo',\n",
       "                                                                          'como',\n",
       "                                                                          'más',\n",
       "                                                                          'pero',\n",
       "                                                                          'sus',\n",
       "                                                                          'le',\n",
       "                                                                          'ya',\n",
       "                                                                          'o',\n",
       "                                                                          'este',\n",
       "                                                                          'sí',\n",
       "                                                                          'porque', ...],\n",
       "                                                              tokenizer=<function word_tokenize at 0x7f79264a54e0>)),\n",
       "                                             ('classifier',\n",
       "                                              RandomForestClassif...\n",
       "                                                                                   'la',\n",
       "                                                                                   'que',\n",
       "                                                                                   'el',\n",
       "                                                                                   'en',\n",
       "                                                                                   'y',\n",
       "                                                                                   'a',\n",
       "                                                                                   'los',\n",
       "                                                                                   'del',\n",
       "                                                                                   'se',\n",
       "                                                                                   'las',\n",
       "                                                                                   'por',\n",
       "                                                                                   'un',\n",
       "                                                                                   'para',\n",
       "                                                                                   'con',\n",
       "                                                                                   'no',\n",
       "                                                                                   'una',\n",
       "                                                                                   'su',\n",
       "                                                                                   'al',\n",
       "                                                                                   'lo',\n",
       "                                                                                   'como',\n",
       "                                                                                   'más',\n",
       "                                                                                   'pero',\n",
       "                                                                                   'sus',\n",
       "                                                                                   'le',\n",
       "                                                                                   'ya',\n",
       "                                                                                   'o',\n",
       "                                                                                   'este',\n",
       "                                                                                   'sí',\n",
       "                                                                                   'porque', ...],\n",
       "                                                                       tokenizer=<function word_tokenize at 0x7f79264a54e0>)],\n",
       "                                        'vectorizer__lowercase': [True, False]},\n",
       "                   random_state=5, refit='f1', return_train_score=True,\n",
       "                   scoring=['precision', 'recall', 'f1'], verbose=1)"
      ]
     },
     "execution_count": 63,
     "metadata": {},
     "output_type": "execute_result"
    }
   ],
   "source": [
    "search.fit(X_train[\"Textos_espanol\"], y_train)"
   ]
  },
  {
   "cell_type": "code",
   "execution_count": 64,
   "id": "c506c079",
   "metadata": {
    "execution": {
     "iopub.execute_input": "2023-10-29T21:26:05.870405Z",
     "iopub.status.busy": "2023-10-29T21:26:05.870104Z",
     "iopub.status.idle": "2023-10-29T21:26:05.877094Z",
     "shell.execute_reply": "2023-10-29T21:26:05.876127Z"
    }
   },
   "outputs": [
    {
     "data": {
      "text/plain": [
       "{'vectorizer__lowercase': False,\n",
       " 'vectorizer': CountVectorizer(stop_words=['de', 'la', 'que', 'el', 'en', 'y', 'a', 'los',\n",
       "                             'del', 'se', 'las', 'por', 'un', 'para', 'con',\n",
       "                             'no', 'una', 'su', 'al', 'lo', 'como', 'más',\n",
       "                             'pero', 'sus', 'le', 'ya', 'o', 'este', 'sí',\n",
       "                             'porque', ...],\n",
       "                 tokenizer=<function word_tokenize at 0x7f79264a54e0>),\n",
       " 'classifier__n_estimators': 100,\n",
       " 'classifier__max_depth': 100,\n",
       " 'classifier__criterion': 'gini'}"
      ]
     },
     "execution_count": 64,
     "metadata": {},
     "output_type": "execute_result"
    }
   ],
   "source": [
    "search.best_params_"
   ]
  },
  {
   "cell_type": "code",
   "execution_count": 65,
   "id": "4d086352",
   "metadata": {
    "execution": {
     "iopub.execute_input": "2023-10-29T21:26:05.881685Z",
     "iopub.status.busy": "2023-10-29T21:26:05.881375Z",
     "iopub.status.idle": "2023-10-29T21:26:05.896036Z",
     "shell.execute_reply": "2023-10-29T21:26:05.895436Z"
    }
   },
   "outputs": [
    {
     "data": {
      "text/plain": [
       "nan"
      ]
     },
     "execution_count": 65,
     "metadata": {},
     "output_type": "execute_result"
    }
   ],
   "source": [
    "search.best_score_"
   ]
  },
  {
   "cell_type": "code",
   "execution_count": 66,
   "id": "11ac2809",
   "metadata": {
    "execution": {
     "iopub.execute_input": "2023-10-29T21:26:05.899431Z",
     "iopub.status.busy": "2023-10-29T21:26:05.898930Z",
     "iopub.status.idle": "2023-10-29T21:26:06.761110Z",
     "shell.execute_reply": "2023-10-29T21:26:06.760425Z"
    }
   },
   "outputs": [],
   "source": [
    "y_train_search_predict = search.best_estimator_.predict(X_train[\"Textos_espanol\"])\n",
    "y_test_search_predict = search.best_estimator_.predict(X_test[\"Textos_espanol\"])\n"
   ]
  },
  {
   "cell_type": "code",
   "execution_count": 67,
   "id": "231fd7b6",
   "metadata": {
    "execution": {
     "iopub.execute_input": "2023-10-29T21:26:06.763968Z",
     "iopub.status.busy": "2023-10-29T21:26:06.763767Z",
     "iopub.status.idle": "2023-10-29T21:26:06.775563Z",
     "shell.execute_reply": "2023-10-29T21:26:06.774873Z"
    }
   },
   "outputs": [
    {
     "name": "stdout",
     "output_type": "stream",
     "text": [
      "Precision: 1.0\n",
      "Recall: 1.0\n",
      "F1: 1.0\n"
     ]
    }
   ],
   "source": [
    "print(PRECISION, precision_score(y_train, y_train_search_predict, average=\"weighted\"))\n",
    "print(RECALL, recall_score(y_train, y_train_search_predict, average=\"weighted\"))\n",
    "print(F1, f1_score(y_train, y_train_search_predict, average=\"weighted\"))"
   ]
  },
  {
   "cell_type": "code",
   "execution_count": 68,
   "id": "0c76675c",
   "metadata": {
    "execution": {
     "iopub.execute_input": "2023-10-29T21:26:06.778256Z",
     "iopub.status.busy": "2023-10-29T21:26:06.778044Z",
     "iopub.status.idle": "2023-10-29T21:26:06.797815Z",
     "shell.execute_reply": "2023-10-29T21:26:06.797194Z"
    }
   },
   "outputs": [
    {
     "name": "stdout",
     "output_type": "stream",
     "text": [
      "Precision: 0.9670999682343022\n",
      "Recall: 0.9671052631578947\n",
      "F1: 0.9667196100768531\n"
     ]
    }
   ],
   "source": [
    "print(PRECISION, precision_score(y_test, y_test_search_predict, average=\"weighted\"))\n",
    "print(RECALL, recall_score(y_test, y_test_search_predict, average=\"weighted\"))\n",
    "print(F1, f1_score(y_test, y_test_search_predict, average=\"weighted\"))"
   ]
  },
  {
   "cell_type": "markdown",
   "id": "46bd93bf",
   "metadata": {},
   "source": [
    "# Predicción y guardado de data"
   ]
  },
  {
   "cell_type": "code",
   "execution_count": 69,
   "id": "1bbfd899",
   "metadata": {
    "execution": {
     "iopub.execute_input": "2023-10-29T21:26:06.800878Z",
     "iopub.status.busy": "2023-10-29T21:26:06.800514Z",
     "iopub.status.idle": "2023-10-29T21:26:06.997355Z",
     "shell.execute_reply": "2023-10-29T21:26:06.996684Z"
    }
   },
   "outputs": [],
   "source": [
    "ods_df_unlabeled = pd.read_csv(\"../data/SinEtiquetatest_cat_6716.csv\")\n",
    "#Predict the labels of the unlabeled data\n",
    "y_unlabeled_predict = search.best_estimator_.predict(ods_df_unlabeled[\"Textos_espanol\"])\n",
    "#Add the predicted labels to the unlabeled data\n",
    "ods_df_unlabeled[\"sdg\"] = y_unlabeled_predict\n",
    "#Save the labeled data\n",
    "ods_df_unlabeled.to_csv(\"../data/Predicted.csv\", index=False)\n"
   ]
  }
 ],
 "metadata": {
  "kernelspec": {
   "display_name": "Python 3 (ipykernel)",
   "language": "python",
   "name": "python3"
  },
  "language_info": {
   "codemirror_mode": {
    "name": "ipython",
    "version": 3
   },
   "file_extension": ".py",
   "mimetype": "text/x-python",
   "name": "python",
   "nbconvert_exporter": "python",
   "pygments_lexer": "ipython3",
   "version": "3.11.5"
  },
  "widgets": {
   "application/vnd.jupyter.widget-state+json": {
    "state": {
     "03fd029dd5dd4d51abd841bea1e130c3": {
      "model_module": "@jupyter-widgets/base",
      "model_module_version": "2.0.0",
      "model_name": "LayoutModel",
      "state": {
       "_model_module": "@jupyter-widgets/base",
       "_model_module_version": "2.0.0",
       "_model_name": "LayoutModel",
       "_view_count": null,
       "_view_module": "@jupyter-widgets/base",
       "_view_module_version": "2.0.0",
       "_view_name": "LayoutView",
       "align_content": null,
       "align_items": null,
       "align_self": null,
       "border_bottom": null,
       "border_left": null,
       "border_right": null,
       "border_top": null,
       "bottom": null,
       "display": null,
       "flex": null,
       "flex_flow": null,
       "grid_area": null,
       "grid_auto_columns": null,
       "grid_auto_flow": null,
       "grid_auto_rows": null,
       "grid_column": null,
       "grid_gap": null,
       "grid_row": null,
       "grid_template_areas": null,
       "grid_template_columns": null,
       "grid_template_rows": null,
       "height": null,
       "justify_content": null,
       "justify_items": null,
       "left": null,
       "margin": null,
       "max_height": null,
       "max_width": null,
       "min_height": null,
       "min_width": null,
       "object_fit": null,
       "object_position": null,
       "order": null,
       "overflow": null,
       "padding": null,
       "right": null,
       "top": null,
       "visibility": null,
       "width": null
      }
     },
     "073fe9892088487d859849539bd00b0f": {
      "model_module": "@jupyter-widgets/controls",
      "model_module_version": "2.0.0",
      "model_name": "HTMLModel",
      "state": {
       "_dom_classes": [],
       "_model_module": "@jupyter-widgets/controls",
       "_model_module_version": "2.0.0",
       "_model_name": "HTMLModel",
       "_view_count": null,
       "_view_module": "@jupyter-widgets/controls",
       "_view_module_version": "2.0.0",
       "_view_name": "HTMLView",
       "description": "",
       "description_allow_html": false,
       "layout": "IPY_MODEL_ccdffe2158434ac4854101ce5da1fac9",
       "placeholder": "​",
       "style": "IPY_MODEL_9e65530be5e34eecadfc40af3c9e65ee",
       "tabbable": null,
       "tooltip": null,
       "value": " 1/1 [00:00&lt;00:00,  1.74it/s]"
      }
     },
     "1088bb709458427fb005951ecbb969be": {
      "model_module": "@jupyter-widgets/controls",
      "model_module_version": "2.0.0",
      "model_name": "FloatProgressModel",
      "state": {
       "_dom_classes": [],
       "_model_module": "@jupyter-widgets/controls",
       "_model_module_version": "2.0.0",
       "_model_name": "FloatProgressModel",
       "_view_count": null,
       "_view_module": "@jupyter-widgets/controls",
       "_view_module_version": "2.0.0",
       "_view_name": "ProgressView",
       "bar_style": "success",
       "description": "",
       "description_allow_html": false,
       "layout": "IPY_MODEL_379c72a9f11e4a1fa1dbfb4599adcef2",
       "max": 1,
       "min": 0,
       "orientation": "horizontal",
       "style": "IPY_MODEL_a68fd43e43be4a7cb16b29d2f5d6f784",
       "tabbable": null,
       "tooltip": null,
       "value": 1
      }
     },
     "1d7ae1f1e3034bd1bbe8517bca6785cc": {
      "model_module": "@jupyter-widgets/controls",
      "model_module_version": "2.0.0",
      "model_name": "HTMLStyleModel",
      "state": {
       "_model_module": "@jupyter-widgets/controls",
       "_model_module_version": "2.0.0",
       "_model_name": "HTMLStyleModel",
       "_view_count": null,
       "_view_module": "@jupyter-widgets/base",
       "_view_module_version": "2.0.0",
       "_view_name": "StyleView",
       "background": null,
       "description_width": "",
       "font_size": null,
       "text_color": null
      }
     },
     "282c7e85f0644eaca707ead0b974096a": {
      "model_module": "@jupyter-widgets/controls",
      "model_module_version": "2.0.0",
      "model_name": "ProgressStyleModel",
      "state": {
       "_model_module": "@jupyter-widgets/controls",
       "_model_module_version": "2.0.0",
       "_model_name": "ProgressStyleModel",
       "_view_count": null,
       "_view_module": "@jupyter-widgets/base",
       "_view_module_version": "2.0.0",
       "_view_name": "StyleView",
       "bar_color": null,
       "description_width": ""
      }
     },
     "2a4f5cec660044a2a9341f4d7df34813": {
      "model_module": "@jupyter-widgets/base",
      "model_module_version": "2.0.0",
      "model_name": "LayoutModel",
      "state": {
       "_model_module": "@jupyter-widgets/base",
       "_model_module_version": "2.0.0",
       "_model_name": "LayoutModel",
       "_view_count": null,
       "_view_module": "@jupyter-widgets/base",
       "_view_module_version": "2.0.0",
       "_view_name": "LayoutView",
       "align_content": null,
       "align_items": null,
       "align_self": null,
       "border_bottom": null,
       "border_left": null,
       "border_right": null,
       "border_top": null,
       "bottom": null,
       "display": null,
       "flex": null,
       "flex_flow": null,
       "grid_area": null,
       "grid_auto_columns": null,
       "grid_auto_flow": null,
       "grid_auto_rows": null,
       "grid_column": null,
       "grid_gap": null,
       "grid_row": null,
       "grid_template_areas": null,
       "grid_template_columns": null,
       "grid_template_rows": null,
       "height": null,
       "justify_content": null,
       "justify_items": null,
       "left": null,
       "margin": null,
       "max_height": null,
       "max_width": null,
       "min_height": null,
       "min_width": null,
       "object_fit": null,
       "object_position": null,
       "order": null,
       "overflow": null,
       "padding": null,
       "right": null,
       "top": null,
       "visibility": null,
       "width": null
      }
     },
     "2da2e0e39072459d82e08528c4a90447": {
      "model_module": "@jupyter-widgets/base",
      "model_module_version": "2.0.0",
      "model_name": "LayoutModel",
      "state": {
       "_model_module": "@jupyter-widgets/base",
       "_model_module_version": "2.0.0",
       "_model_name": "LayoutModel",
       "_view_count": null,
       "_view_module": "@jupyter-widgets/base",
       "_view_module_version": "2.0.0",
       "_view_name": "LayoutView",
       "align_content": null,
       "align_items": null,
       "align_self": null,
       "border_bottom": null,
       "border_left": null,
       "border_right": null,
       "border_top": null,
       "bottom": null,
       "display": null,
       "flex": null,
       "flex_flow": null,
       "grid_area": null,
       "grid_auto_columns": null,
       "grid_auto_flow": null,
       "grid_auto_rows": null,
       "grid_column": null,
       "grid_gap": null,
       "grid_row": null,
       "grid_template_areas": null,
       "grid_template_columns": null,
       "grid_template_rows": null,
       "height": null,
       "justify_content": null,
       "justify_items": null,
       "left": null,
       "margin": null,
       "max_height": null,
       "max_width": null,
       "min_height": null,
       "min_width": null,
       "object_fit": null,
       "object_position": null,
       "order": null,
       "overflow": null,
       "padding": null,
       "right": null,
       "top": null,
       "visibility": null,
       "width": null
      }
     },
     "2f90a55884ca4f0fac141bdd50f99448": {
      "model_module": "@jupyter-widgets/base",
      "model_module_version": "2.0.0",
      "model_name": "LayoutModel",
      "state": {
       "_model_module": "@jupyter-widgets/base",
       "_model_module_version": "2.0.0",
       "_model_name": "LayoutModel",
       "_view_count": null,
       "_view_module": "@jupyter-widgets/base",
       "_view_module_version": "2.0.0",
       "_view_name": "LayoutView",
       "align_content": null,
       "align_items": null,
       "align_self": null,
       "border_bottom": null,
       "border_left": null,
       "border_right": null,
       "border_top": null,
       "bottom": null,
       "display": null,
       "flex": null,
       "flex_flow": null,
       "grid_area": null,
       "grid_auto_columns": null,
       "grid_auto_flow": null,
       "grid_auto_rows": null,
       "grid_column": null,
       "grid_gap": null,
       "grid_row": null,
       "grid_template_areas": null,
       "grid_template_columns": null,
       "grid_template_rows": null,
       "height": null,
       "justify_content": null,
       "justify_items": null,
       "left": null,
       "margin": null,
       "max_height": null,
       "max_width": null,
       "min_height": null,
       "min_width": null,
       "object_fit": null,
       "object_position": null,
       "order": null,
       "overflow": null,
       "padding": null,
       "right": null,
       "top": null,
       "visibility": null,
       "width": null
      }
     },
     "379c72a9f11e4a1fa1dbfb4599adcef2": {
      "model_module": "@jupyter-widgets/base",
      "model_module_version": "2.0.0",
      "model_name": "LayoutModel",
      "state": {
       "_model_module": "@jupyter-widgets/base",
       "_model_module_version": "2.0.0",
       "_model_name": "LayoutModel",
       "_view_count": null,
       "_view_module": "@jupyter-widgets/base",
       "_view_module_version": "2.0.0",
       "_view_name": "LayoutView",
       "align_content": null,
       "align_items": null,
       "align_self": null,
       "border_bottom": null,
       "border_left": null,
       "border_right": null,
       "border_top": null,
       "bottom": null,
       "display": null,
       "flex": null,
       "flex_flow": null,
       "grid_area": null,
       "grid_auto_columns": null,
       "grid_auto_flow": null,
       "grid_auto_rows": null,
       "grid_column": null,
       "grid_gap": null,
       "grid_row": null,
       "grid_template_areas": null,
       "grid_template_columns": null,
       "grid_template_rows": null,
       "height": null,
       "justify_content": null,
       "justify_items": null,
       "left": null,
       "margin": null,
       "max_height": null,
       "max_width": null,
       "min_height": null,
       "min_width": null,
       "object_fit": null,
       "object_position": null,
       "order": null,
       "overflow": null,
       "padding": null,
       "right": null,
       "top": null,
       "visibility": null,
       "width": null
      }
     },
     "3882f3b546354bbaaaf8d7e3600b2428": {
      "model_module": "@jupyter-widgets/controls",
      "model_module_version": "2.0.0",
      "model_name": "ProgressStyleModel",
      "state": {
       "_model_module": "@jupyter-widgets/controls",
       "_model_module_version": "2.0.0",
       "_model_name": "ProgressStyleModel",
       "_view_count": null,
       "_view_module": "@jupyter-widgets/base",
       "_view_module_version": "2.0.0",
       "_view_name": "StyleView",
       "bar_color": null,
       "description_width": ""
      }
     },
     "45cb33d970d24d9c8fee831448897a89": {
      "model_module": "@jupyter-widgets/controls",
      "model_module_version": "2.0.0",
      "model_name": "HBoxModel",
      "state": {
       "_dom_classes": [],
       "_model_module": "@jupyter-widgets/controls",
       "_model_module_version": "2.0.0",
       "_model_name": "HBoxModel",
       "_view_count": null,
       "_view_module": "@jupyter-widgets/controls",
       "_view_module_version": "2.0.0",
       "_view_name": "HBoxView",
       "box_style": "",
       "children": [
        "IPY_MODEL_be26518f799f4c97a7a393c6d40c23bb",
        "IPY_MODEL_1088bb709458427fb005951ecbb969be",
        "IPY_MODEL_073fe9892088487d859849539bd00b0f"
       ],
       "layout": "IPY_MODEL_70c297f2b70244c9872a5383bc76a216",
       "tabbable": null,
       "tooltip": null
      }
     },
     "537f5ea1b94a4f33a53cde114e4e92f9": {
      "model_module": "@jupyter-widgets/controls",
      "model_module_version": "2.0.0",
      "model_name": "HTMLStyleModel",
      "state": {
       "_model_module": "@jupyter-widgets/controls",
       "_model_module_version": "2.0.0",
       "_model_name": "HTMLStyleModel",
       "_view_count": null,
       "_view_module": "@jupyter-widgets/base",
       "_view_module_version": "2.0.0",
       "_view_name": "StyleView",
       "background": null,
       "description_width": "",
       "font_size": null,
       "text_color": null
      }
     },
     "67fe6143434d49abb7f731cd16fed27a": {
      "model_module": "@jupyter-widgets/controls",
      "model_module_version": "2.0.0",
      "model_name": "FloatProgressModel",
      "state": {
       "_dom_classes": [],
       "_model_module": "@jupyter-widgets/controls",
       "_model_module_version": "2.0.0",
       "_model_name": "FloatProgressModel",
       "_view_count": null,
       "_view_module": "@jupyter-widgets/controls",
       "_view_module_version": "2.0.0",
       "_view_name": "ProgressView",
       "bar_style": "success",
       "description": "",
       "description_allow_html": false,
       "layout": "IPY_MODEL_2a4f5cec660044a2a9341f4d7df34813",
       "max": 1,
       "min": 0,
       "orientation": "horizontal",
       "style": "IPY_MODEL_3882f3b546354bbaaaf8d7e3600b2428",
       "tabbable": null,
       "tooltip": null,
       "value": 1
      }
     },
     "694f805c17834803843ef9676f2be568": {
      "model_module": "@jupyter-widgets/base",
      "model_module_version": "2.0.0",
      "model_name": "LayoutModel",
      "state": {
       "_model_module": "@jupyter-widgets/base",
       "_model_module_version": "2.0.0",
       "_model_name": "LayoutModel",
       "_view_count": null,
       "_view_module": "@jupyter-widgets/base",
       "_view_module_version": "2.0.0",
       "_view_name": "LayoutView",
       "align_content": null,
       "align_items": null,
       "align_self": null,
       "border_bottom": null,
       "border_left": null,
       "border_right": null,
       "border_top": null,
       "bottom": null,
       "display": null,
       "flex": null,
       "flex_flow": null,
       "grid_area": null,
       "grid_auto_columns": null,
       "grid_auto_flow": null,
       "grid_auto_rows": null,
       "grid_column": null,
       "grid_gap": null,
       "grid_row": null,
       "grid_template_areas": null,
       "grid_template_columns": null,
       "grid_template_rows": null,
       "height": null,
       "justify_content": null,
       "justify_items": null,
       "left": null,
       "margin": null,
       "max_height": null,
       "max_width": null,
       "min_height": null,
       "min_width": null,
       "object_fit": null,
       "object_position": null,
       "order": null,
       "overflow": null,
       "padding": null,
       "right": null,
       "top": null,
       "visibility": null,
       "width": null
      }
     },
     "699d9b50dfc342fca8a6eb3e29fe6ff4": {
      "model_module": "@jupyter-widgets/controls",
      "model_module_version": "2.0.0",
      "model_name": "HTMLStyleModel",
      "state": {
       "_model_module": "@jupyter-widgets/controls",
       "_model_module_version": "2.0.0",
       "_model_name": "HTMLStyleModel",
       "_view_count": null,
       "_view_module": "@jupyter-widgets/base",
       "_view_module_version": "2.0.0",
       "_view_name": "StyleView",
       "background": null,
       "description_width": "",
       "font_size": null,
       "text_color": null
      }
     },
     "70c297f2b70244c9872a5383bc76a216": {
      "model_module": "@jupyter-widgets/base",
      "model_module_version": "2.0.0",
      "model_name": "LayoutModel",
      "state": {
       "_model_module": "@jupyter-widgets/base",
       "_model_module_version": "2.0.0",
       "_model_name": "LayoutModel",
       "_view_count": null,
       "_view_module": "@jupyter-widgets/base",
       "_view_module_version": "2.0.0",
       "_view_name": "LayoutView",
       "align_content": null,
       "align_items": null,
       "align_self": null,
       "border_bottom": null,
       "border_left": null,
       "border_right": null,
       "border_top": null,
       "bottom": null,
       "display": null,
       "flex": null,
       "flex_flow": null,
       "grid_area": null,
       "grid_auto_columns": null,
       "grid_auto_flow": null,
       "grid_auto_rows": null,
       "grid_column": null,
       "grid_gap": null,
       "grid_row": null,
       "grid_template_areas": null,
       "grid_template_columns": null,
       "grid_template_rows": null,
       "height": null,
       "justify_content": null,
       "justify_items": null,
       "left": null,
       "margin": null,
       "max_height": null,
       "max_width": null,
       "min_height": null,
       "min_width": null,
       "object_fit": null,
       "object_position": null,
       "order": null,
       "overflow": null,
       "padding": null,
       "right": null,
       "top": null,
       "visibility": null,
       "width": null
      }
     },
     "767fb6cb6e9b45b8927df4d4c633ff6e": {
      "model_module": "@jupyter-widgets/controls",
      "model_module_version": "2.0.0",
      "model_name": "FloatProgressModel",
      "state": {
       "_dom_classes": [],
       "_model_module": "@jupyter-widgets/controls",
       "_model_module_version": "2.0.0",
       "_model_name": "FloatProgressModel",
       "_view_count": null,
       "_view_module": "@jupyter-widgets/controls",
       "_view_module_version": "2.0.0",
       "_view_name": "ProgressView",
       "bar_style": "success",
       "description": "",
       "description_allow_html": false,
       "layout": "IPY_MODEL_b51c71bc3d1d4885b9cf1e9e34bec6c1",
       "max": 5,
       "min": 0,
       "orientation": "horizontal",
       "style": "IPY_MODEL_282c7e85f0644eaca707ead0b974096a",
       "tabbable": null,
       "tooltip": null,
       "value": 5
      }
     },
     "8fda53eba68f4470afb85eb9aae9ee82": {
      "model_module": "@jupyter-widgets/controls",
      "model_module_version": "2.0.0",
      "model_name": "HTMLModel",
      "state": {
       "_dom_classes": [],
       "_model_module": "@jupyter-widgets/controls",
       "_model_module_version": "2.0.0",
       "_model_name": "HTMLModel",
       "_view_count": null,
       "_view_module": "@jupyter-widgets/controls",
       "_view_module_version": "2.0.0",
       "_view_name": "HTMLView",
       "description": "",
       "description_allow_html": false,
       "layout": "IPY_MODEL_2da2e0e39072459d82e08528c4a90447",
       "placeholder": "​",
       "style": "IPY_MODEL_cf56d8c8af3e47b48f964a99f8f5f3d0",
       "tabbable": null,
       "tooltip": null,
       "value": " 1/1 [00:01&lt;00:00,  1.98s/it]"
      }
     },
     "9e65530be5e34eecadfc40af3c9e65ee": {
      "model_module": "@jupyter-widgets/controls",
      "model_module_version": "2.0.0",
      "model_name": "HTMLStyleModel",
      "state": {
       "_model_module": "@jupyter-widgets/controls",
       "_model_module_version": "2.0.0",
       "_model_name": "HTMLStyleModel",
       "_view_count": null,
       "_view_module": "@jupyter-widgets/base",
       "_view_module_version": "2.0.0",
       "_view_name": "StyleView",
       "background": null,
       "description_width": "",
       "font_size": null,
       "text_color": null
      }
     },
     "a2190ba584234420be56e8c23044d86e": {
      "model_module": "@jupyter-widgets/base",
      "model_module_version": "2.0.0",
      "model_name": "LayoutModel",
      "state": {
       "_model_module": "@jupyter-widgets/base",
       "_model_module_version": "2.0.0",
       "_model_name": "LayoutModel",
       "_view_count": null,
       "_view_module": "@jupyter-widgets/base",
       "_view_module_version": "2.0.0",
       "_view_name": "LayoutView",
       "align_content": null,
       "align_items": null,
       "align_self": null,
       "border_bottom": null,
       "border_left": null,
       "border_right": null,
       "border_top": null,
       "bottom": null,
       "display": null,
       "flex": null,
       "flex_flow": null,
       "grid_area": null,
       "grid_auto_columns": null,
       "grid_auto_flow": null,
       "grid_auto_rows": null,
       "grid_column": null,
       "grid_gap": null,
       "grid_row": null,
       "grid_template_areas": null,
       "grid_template_columns": null,
       "grid_template_rows": null,
       "height": null,
       "justify_content": null,
       "justify_items": null,
       "left": null,
       "margin": null,
       "max_height": null,
       "max_width": null,
       "min_height": null,
       "min_width": null,
       "object_fit": null,
       "object_position": null,
       "order": null,
       "overflow": null,
       "padding": null,
       "right": null,
       "top": null,
       "visibility": null,
       "width": null
      }
     },
     "a3593df8c6b54ec7b8f2f68f07c070ad": {
      "model_module": "@jupyter-widgets/base",
      "model_module_version": "2.0.0",
      "model_name": "LayoutModel",
      "state": {
       "_model_module": "@jupyter-widgets/base",
       "_model_module_version": "2.0.0",
       "_model_name": "LayoutModel",
       "_view_count": null,
       "_view_module": "@jupyter-widgets/base",
       "_view_module_version": "2.0.0",
       "_view_name": "LayoutView",
       "align_content": null,
       "align_items": null,
       "align_self": null,
       "border_bottom": null,
       "border_left": null,
       "border_right": null,
       "border_top": null,
       "bottom": null,
       "display": null,
       "flex": null,
       "flex_flow": null,
       "grid_area": null,
       "grid_auto_columns": null,
       "grid_auto_flow": null,
       "grid_auto_rows": null,
       "grid_column": null,
       "grid_gap": null,
       "grid_row": null,
       "grid_template_areas": null,
       "grid_template_columns": null,
       "grid_template_rows": null,
       "height": null,
       "justify_content": null,
       "justify_items": null,
       "left": null,
       "margin": null,
       "max_height": null,
       "max_width": null,
       "min_height": null,
       "min_width": null,
       "object_fit": null,
       "object_position": null,
       "order": null,
       "overflow": null,
       "padding": null,
       "right": null,
       "top": null,
       "visibility": null,
       "width": null
      }
     },
     "a503f1082b534b7ba7c7041264ec2167": {
      "model_module": "@jupyter-widgets/controls",
      "model_module_version": "2.0.0",
      "model_name": "HTMLModel",
      "state": {
       "_dom_classes": [],
       "_model_module": "@jupyter-widgets/controls",
       "_model_module_version": "2.0.0",
       "_model_name": "HTMLModel",
       "_view_count": null,
       "_view_module": "@jupyter-widgets/controls",
       "_view_module_version": "2.0.0",
       "_view_name": "HTMLView",
       "description": "",
       "description_allow_html": false,
       "layout": "IPY_MODEL_694f805c17834803843ef9676f2be568",
       "placeholder": "​",
       "style": "IPY_MODEL_699d9b50dfc342fca8a6eb3e29fe6ff4",
       "tabbable": null,
       "tooltip": null,
       "value": " 19/19 [00:03&lt;00:00,  6.19it/s, Completed]"
      }
     },
     "a68fd43e43be4a7cb16b29d2f5d6f784": {
      "model_module": "@jupyter-widgets/controls",
      "model_module_version": "2.0.0",
      "model_name": "ProgressStyleModel",
      "state": {
       "_model_module": "@jupyter-widgets/controls",
       "_model_module_version": "2.0.0",
       "_model_name": "ProgressStyleModel",
       "_view_count": null,
       "_view_module": "@jupyter-widgets/base",
       "_view_module_version": "2.0.0",
       "_view_name": "StyleView",
       "bar_color": null,
       "description_width": ""
      }
     },
     "b51c71bc3d1d4885b9cf1e9e34bec6c1": {
      "model_module": "@jupyter-widgets/base",
      "model_module_version": "2.0.0",
      "model_name": "LayoutModel",
      "state": {
       "_model_module": "@jupyter-widgets/base",
       "_model_module_version": "2.0.0",
       "_model_name": "LayoutModel",
       "_view_count": null,
       "_view_module": "@jupyter-widgets/base",
       "_view_module_version": "2.0.0",
       "_view_name": "LayoutView",
       "align_content": null,
       "align_items": null,
       "align_self": null,
       "border_bottom": null,
       "border_left": null,
       "border_right": null,
       "border_top": null,
       "bottom": null,
       "display": null,
       "flex": null,
       "flex_flow": null,
       "grid_area": null,
       "grid_auto_columns": null,
       "grid_auto_flow": null,
       "grid_auto_rows": null,
       "grid_column": null,
       "grid_gap": null,
       "grid_row": null,
       "grid_template_areas": null,
       "grid_template_columns": null,
       "grid_template_rows": null,
       "height": null,
       "justify_content": null,
       "justify_items": null,
       "left": null,
       "margin": null,
       "max_height": null,
       "max_width": null,
       "min_height": null,
       "min_width": null,
       "object_fit": null,
       "object_position": null,
       "order": null,
       "overflow": null,
       "padding": null,
       "right": null,
       "top": null,
       "visibility": null,
       "width": null
      }
     },
     "bd73f4adbad94a24b0be1aa170223988": {
      "model_module": "@jupyter-widgets/base",
      "model_module_version": "2.0.0",
      "model_name": "LayoutModel",
      "state": {
       "_model_module": "@jupyter-widgets/base",
       "_model_module_version": "2.0.0",
       "_model_name": "LayoutModel",
       "_view_count": null,
       "_view_module": "@jupyter-widgets/base",
       "_view_module_version": "2.0.0",
       "_view_name": "LayoutView",
       "align_content": null,
       "align_items": null,
       "align_self": null,
       "border_bottom": null,
       "border_left": null,
       "border_right": null,
       "border_top": null,
       "bottom": null,
       "display": null,
       "flex": null,
       "flex_flow": null,
       "grid_area": null,
       "grid_auto_columns": null,
       "grid_auto_flow": null,
       "grid_auto_rows": null,
       "grid_column": null,
       "grid_gap": null,
       "grid_row": null,
       "grid_template_areas": null,
       "grid_template_columns": null,
       "grid_template_rows": null,
       "height": null,
       "justify_content": null,
       "justify_items": null,
       "left": null,
       "margin": null,
       "max_height": null,
       "max_width": null,
       "min_height": null,
       "min_width": null,
       "object_fit": null,
       "object_position": null,
       "order": null,
       "overflow": null,
       "padding": null,
       "right": null,
       "top": null,
       "visibility": null,
       "width": null
      }
     },
     "be26518f799f4c97a7a393c6d40c23bb": {
      "model_module": "@jupyter-widgets/controls",
      "model_module_version": "2.0.0",
      "model_name": "HTMLModel",
      "state": {
       "_dom_classes": [],
       "_model_module": "@jupyter-widgets/controls",
       "_model_module_version": "2.0.0",
       "_model_name": "HTMLModel",
       "_view_count": null,
       "_view_module": "@jupyter-widgets/controls",
       "_view_module_version": "2.0.0",
       "_view_name": "HTMLView",
       "description": "",
       "description_allow_html": false,
       "layout": "IPY_MODEL_03fd029dd5dd4d51abd841bea1e130c3",
       "placeholder": "​",
       "style": "IPY_MODEL_1d7ae1f1e3034bd1bbe8517bca6785cc",
       "tabbable": null,
       "tooltip": null,
       "value": "Render HTML: 100%"
      }
     },
     "bf286e2e76a5482faadc59d762786b9e": {
      "model_module": "@jupyter-widgets/controls",
      "model_module_version": "2.0.0",
      "model_name": "HTMLModel",
      "state": {
       "_dom_classes": [],
       "_model_module": "@jupyter-widgets/controls",
       "_model_module_version": "2.0.0",
       "_model_name": "HTMLModel",
       "_view_count": null,
       "_view_module": "@jupyter-widgets/controls",
       "_view_module_version": "2.0.0",
       "_view_name": "HTMLView",
       "description": "",
       "description_allow_html": false,
       "layout": "IPY_MODEL_a2190ba584234420be56e8c23044d86e",
       "placeholder": "​",
       "style": "IPY_MODEL_537f5ea1b94a4f33a53cde114e4e92f9",
       "tabbable": null,
       "tooltip": null,
       "value": "Generate report structure: 100%"
      }
     },
     "ca4a1199c76b40e3962a39d3a94e1d69": {
      "model_module": "@jupyter-widgets/controls",
      "model_module_version": "2.0.0",
      "model_name": "HTMLModel",
      "state": {
       "_dom_classes": [],
       "_model_module": "@jupyter-widgets/controls",
       "_model_module_version": "2.0.0",
       "_model_name": "HTMLModel",
       "_view_count": null,
       "_view_module": "@jupyter-widgets/controls",
       "_view_module_version": "2.0.0",
       "_view_name": "HTMLView",
       "description": "",
       "description_allow_html": false,
       "layout": "IPY_MODEL_bd73f4adbad94a24b0be1aa170223988",
       "placeholder": "​",
       "style": "IPY_MODEL_ef2ebccaaaf24fa0bda5182115ac2c1e",
       "tabbable": null,
       "tooltip": null,
       "value": "Summarize dataset: 100%"
      }
     },
     "ccdffe2158434ac4854101ce5da1fac9": {
      "model_module": "@jupyter-widgets/base",
      "model_module_version": "2.0.0",
      "model_name": "LayoutModel",
      "state": {
       "_model_module": "@jupyter-widgets/base",
       "_model_module_version": "2.0.0",
       "_model_name": "LayoutModel",
       "_view_count": null,
       "_view_module": "@jupyter-widgets/base",
       "_view_module_version": "2.0.0",
       "_view_name": "LayoutView",
       "align_content": null,
       "align_items": null,
       "align_self": null,
       "border_bottom": null,
       "border_left": null,
       "border_right": null,
       "border_top": null,
       "bottom": null,
       "display": null,
       "flex": null,
       "flex_flow": null,
       "grid_area": null,
       "grid_auto_columns": null,
       "grid_auto_flow": null,
       "grid_auto_rows": null,
       "grid_column": null,
       "grid_gap": null,
       "grid_row": null,
       "grid_template_areas": null,
       "grid_template_columns": null,
       "grid_template_rows": null,
       "height": null,
       "justify_content": null,
       "justify_items": null,
       "left": null,
       "margin": null,
       "max_height": null,
       "max_width": null,
       "min_height": null,
       "min_width": null,
       "object_fit": null,
       "object_position": null,
       "order": null,
       "overflow": null,
       "padding": null,
       "right": null,
       "top": null,
       "visibility": null,
       "width": null
      }
     },
     "cf56d8c8af3e47b48f964a99f8f5f3d0": {
      "model_module": "@jupyter-widgets/controls",
      "model_module_version": "2.0.0",
      "model_name": "HTMLStyleModel",
      "state": {
       "_model_module": "@jupyter-widgets/controls",
       "_model_module_version": "2.0.0",
       "_model_name": "HTMLStyleModel",
       "_view_count": null,
       "_view_module": "@jupyter-widgets/base",
       "_view_module_version": "2.0.0",
       "_view_name": "StyleView",
       "background": null,
       "description_width": "",
       "font_size": null,
       "text_color": null
      }
     },
     "d7a427b137a04b50bde39921ff196358": {
      "model_module": "@jupyter-widgets/controls",
      "model_module_version": "2.0.0",
      "model_name": "HBoxModel",
      "state": {
       "_dom_classes": [],
       "_model_module": "@jupyter-widgets/controls",
       "_model_module_version": "2.0.0",
       "_model_name": "HBoxModel",
       "_view_count": null,
       "_view_module": "@jupyter-widgets/controls",
       "_view_module_version": "2.0.0",
       "_view_name": "HBoxView",
       "box_style": "",
       "children": [
        "IPY_MODEL_ca4a1199c76b40e3962a39d3a94e1d69",
        "IPY_MODEL_767fb6cb6e9b45b8927df4d4c633ff6e",
        "IPY_MODEL_a503f1082b534b7ba7c7041264ec2167"
       ],
       "layout": "IPY_MODEL_2f90a55884ca4f0fac141bdd50f99448",
       "tabbable": null,
       "tooltip": null
      }
     },
     "d9d680730e47456da5e2644d2576cc65": {
      "model_module": "@jupyter-widgets/controls",
      "model_module_version": "2.0.0",
      "model_name": "HBoxModel",
      "state": {
       "_dom_classes": [],
       "_model_module": "@jupyter-widgets/controls",
       "_model_module_version": "2.0.0",
       "_model_name": "HBoxModel",
       "_view_count": null,
       "_view_module": "@jupyter-widgets/controls",
       "_view_module_version": "2.0.0",
       "_view_name": "HBoxView",
       "box_style": "",
       "children": [
        "IPY_MODEL_bf286e2e76a5482faadc59d762786b9e",
        "IPY_MODEL_67fe6143434d49abb7f731cd16fed27a",
        "IPY_MODEL_8fda53eba68f4470afb85eb9aae9ee82"
       ],
       "layout": "IPY_MODEL_a3593df8c6b54ec7b8f2f68f07c070ad",
       "tabbable": null,
       "tooltip": null
      }
     },
     "ef2ebccaaaf24fa0bda5182115ac2c1e": {
      "model_module": "@jupyter-widgets/controls",
      "model_module_version": "2.0.0",
      "model_name": "HTMLStyleModel",
      "state": {
       "_model_module": "@jupyter-widgets/controls",
       "_model_module_version": "2.0.0",
       "_model_name": "HTMLStyleModel",
       "_view_count": null,
       "_view_module": "@jupyter-widgets/base",
       "_view_module_version": "2.0.0",
       "_view_name": "StyleView",
       "background": null,
       "description_width": "",
       "font_size": null,
       "text_color": null
      }
     }
    },
    "version_major": 2,
    "version_minor": 0
   }
  }
 },
 "nbformat": 4,
 "nbformat_minor": 5
}
